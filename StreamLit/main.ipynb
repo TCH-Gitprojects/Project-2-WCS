{
 "cells": [
  {
   "cell_type": "code",
   "execution_count": 2,
   "metadata": {},
   "outputs": [],
   "source": [
    "import numpy as np\n",
    "import pandas as pd\n",
    "import seaborn as sns\n",
    "from sklearn.neighbors import NearestNeighbors\n",
    "from sklearn.neighbors import KNeighborsClassifier\n",
    "from sklearn.model_selection import train_test_split\n",
    "from sklearn.model_selection import cross_val_score\n",
    "from sklearn.model_selection import GridSearchCV\n",
    "from sklearn.model_selection import RandomizedSearchCV\n",
    "from sklearn.preprocessing import StandardScaler\n",
    "from sklearn import tree\n",
    "from sklearn.metrics import accuracy_score, r2_score\n",
    "from sklearn.tree import DecisionTreeRegressor\n",
    "from sklearn.tree import DecisionTreeClassifier\n",
    "import plotly.express as px"
   ]
  },
  {
   "cell_type": "code",
   "execution_count": null,
   "metadata": {},
   "outputs": [],
   "source": [
    "ratings = pd.read_csv(\"https://datasets.imdbws.com/title.ratings.tsv.gz\", sep=\"\\t\",low_memory=False)\n",
    "actorslist = pd.read_csv(\"https://datasets.imdbws.com/title.principals.tsv.gz\", sep=\"\\t\",low_memory=False)\n",
    "title_akas = pd.read_csv(\"https://datasets.imdbws.com/title.akas.tsv.gz\", sep=\"\\t\",low_memory=False)\n",
    "name_basics = pd.read_csv(\"https://datasets.imdbws.com/name.basics.tsv.gz\", sep=\"\\t\",low_memory=False)\n",
    "title_basic = pd.read_csv(\"https://datasets.imdbws.com/title.basics.tsv.gz\", sep=\"\\t\",low_memory=False)"
   ]
  },
  {
   "cell_type": "code",
   "execution_count": null,
   "metadata": {},
   "outputs": [],
   "source": [
    "actors_male_female = actorslist.loc[actorslist[\"category\"].str.contains(\"director|actress|actor\")]"
   ]
  },
  {
   "cell_type": "code",
   "execution_count": null,
   "metadata": {},
   "outputs": [],
   "source": [
    "actors = pd.merge(actors_male_female,\n",
    "                       name_basics,\n",
    "                       how = \"inner\",\n",
    "                       left_on = \"nconst\",\n",
    "                       right_on = \"nconst\")"
   ]
  },
  {
   "cell_type": "code",
   "execution_count": null,
   "metadata": {},
   "outputs": [],
   "source": [
    "imdbmovs2 = pd.merge(imdbmovs,\n",
    "                       actors,\n",
    "                       how = \"inner\",\n",
    "                       left_on = \"tconst\",\n",
    "                       right_on = \"tconst\")"
   ]
  },
  {
   "cell_type": "code",
   "execution_count": null,
   "metadata": {},
   "outputs": [],
   "source": [
    "# Filter movies\n",
    "title_basic_mov = title_basic[(title_basic[\"titleType\"]== \"movie\") & (title_basic[\"isAdult\"]==\"0\")]\n",
    "title_basic_mov.head(20)"
   ]
  },
  {
   "cell_type": "code",
   "execution_count": null,
   "metadata": {},
   "outputs": [],
   "source": [
    "mov_ratings = pd.merge(title_basic_mov,\n",
    "                       ratings,\n",
    "                       how = \"inner\",\n",
    "                       left_on = \"tconst\",\n",
    "                       right_on = \"tconst\")\n",
    "mov_ratings.head(20)"
   ]
  },
  {
   "cell_type": "code",
   "execution_count": null,
   "metadata": {},
   "outputs": [],
   "source": [
    "title_aka_fr = title_akas[title_akas[\"region\"] == \"FR\"]\n",
    "title_aka_fr.head(20)"
   ]
  },
  {
   "cell_type": "code",
   "execution_count": null,
   "metadata": {},
   "outputs": [],
   "source": [
    "mov_update = pd.merge(mov_ratings,\n",
    "                       title_aka_fr,\n",
    "                       how = \"inner\",\n",
    "                       left_on = \"tconst\",\n",
    "                       right_on = \"titleId\")"
   ]
  },
  {
   "cell_type": "code",
   "execution_count": null,
   "metadata": {},
   "outputs": [],
   "source": [
    "mov_update.drop(\"titleId\",\n",
    "                axis = 1,\n",
    "                inplace = True)\n",
    "mov_update.drop(\"ordering\",\n",
    "                axis = 1,\n",
    "                inplace = True)"
   ]
  },
  {
   "cell_type": "code",
   "execution_count": null,
   "metadata": {},
   "outputs": [],
   "source": [
    "mov_update.head(10)"
   ]
  },
  {
   "cell_type": "code",
   "execution_count": null,
   "metadata": {},
   "outputs": [],
   "source": [
    "mov_update[\"tconst\"].value_counts()"
   ]
  },
  {
   "cell_type": "code",
   "execution_count": null,
   "metadata": {},
   "outputs": [],
   "source": [
    "imdbmovs = mov_update.loc[mov_update[\"types\"]==\"imdbDisplay\"]\n",
    "imdbmovs[\"tconst\"].value_counts()"
   ]
  },
  {
   "cell_type": "code",
   "execution_count": null,
   "metadata": {},
   "outputs": [],
   "source": [
    "imdbmovs.drop_duplicates(subset=\"tconst\",inplace=True)"
   ]
  },
  {
   "cell_type": "code",
   "execution_count": null,
   "metadata": {},
   "outputs": [],
   "source": [
    "imdbmovs[\"tconst\"].value_counts()"
   ]
  },
  {
   "cell_type": "code",
   "execution_count": null,
   "metadata": {},
   "outputs": [],
   "source": [
    "imdbmovs.describe()"
   ]
  },
  {
   "cell_type": "code",
   "execution_count": null,
   "metadata": {},
   "outputs": [],
   "source": [
    "imdbmovs[\"runtimeMinutes\"] = pd.to_numeric(imdbmovs['runtimeMinutes'], errors='coerce')"
   ]
  },
  {
   "cell_type": "code",
   "execution_count": null,
   "metadata": {},
   "outputs": [],
   "source": [
    "imdbmovs.describe()"
   ]
  },
  {
   "cell_type": "code",
   "execution_count": null,
   "metadata": {},
   "outputs": [],
   "source": [
    "imdbmovs[\"runtimeMinutes\"].isna()"
   ]
  },
  {
   "cell_type": "code",
   "execution_count": null,
   "metadata": {},
   "outputs": [],
   "source": [
    "imdbmovs[\"runtimeMinutes\"].fillna(imdbmovs[\"runtimeMinutes\"].mean(),\n",
    "                               inplace=True)"
   ]
  },
  {
   "cell_type": "code",
   "execution_count": null,
   "metadata": {},
   "outputs": [],
   "source": [
    "imdbmovs.head(20)"
   ]
  },
  {
   "cell_type": "code",
   "execution_count": null,
   "metadata": {},
   "outputs": [],
   "source": [
    "imdbmovs2.head(10)"
   ]
  },
  {
   "cell_type": "code",
   "execution_count": null,
   "metadata": {},
   "outputs": [],
   "source": [
    "imdbmovs2.info()"
   ]
  },
  {
   "cell_type": "code",
   "execution_count": null,
   "metadata": {},
   "outputs": [],
   "source": [
    "colonnes = [\"job\",\"endYear\",\"isAdult\",\"region\",\"language\",\"types\",\"attributes\",\"isOriginalTitle\",\"titleType\"]\n",
    "imdbmovs2.drop(colonnes,\n",
    "                axis = 1,\n",
    "                inplace = True)"
   ]
  },
  {
   "cell_type": "code",
   "execution_count": null,
   "metadata": {},
   "outputs": [],
   "source": [
    "imdbmovs2.info()"
   ]
  },
  {
   "cell_type": "code",
   "execution_count": null,
   "metadata": {},
   "outputs": [],
   "source": [
    "imdbmovsfilter1 = imdbmovs2.loc[(imdbmovs2[\"averageRating\"]>=6) & (imdbmovs2[\"runtimeMinutes\"]>=60) & (imdbmovs2[\"numVotes\"]>=10000)]"
   ]
  },
  {
   "cell_type": "code",
   "execution_count": null,
   "metadata": {},
   "outputs": [],
   "source": [
    "imdbmovsfilter1.sort_values(by=\"startYear\",ascending=False)"
   ]
  },
  {
   "cell_type": "code",
   "execution_count": null,
   "metadata": {},
   "outputs": [],
   "source": [
    "imdbmovsfilter1[\"category\"].value_counts()"
   ]
  },
  {
   "cell_type": "code",
   "execution_count": null,
   "metadata": {},
   "outputs": [],
   "source": [
    "import plotly.graph_objects as go\n",
    "\n",
    "labels = ['Actor','Actress']\n",
    "values = [6996, 3696]\n",
    "\n",
    "fig = go.Figure(data=[go.Pie(labels=labels, values=values, title = \"Répartition Hommes/Femmes\", pull=[0.1, 0.1])])\n",
    "fig.show()"
   ]
  },
  {
   "cell_type": "code",
   "execution_count": null,
   "metadata": {},
   "outputs": [],
   "source": [
    "imdbmovsfilter1[\"tconst\"].value_counts()"
   ]
  },
  {
   "cell_type": "code",
   "execution_count": null,
   "metadata": {},
   "outputs": [],
   "source": [
    "imdbmovs.to_csv(\"Avec_tconst.csv\",sep=\",\",index=False)"
   ]
  },
  {
   "cell_type": "code",
   "execution_count": null,
   "metadata": {},
   "outputs": [],
   "source": [
    "imdbmovsfilter1.to_csv(\"Avec_nconst.csv\",sep=\",\",index=False)"
   ]
  },
  {
   "cell_type": "code",
   "execution_count": null,
   "metadata": {},
   "outputs": [],
   "source": [
    "imdbmovs2.info()"
   ]
  },
  {
   "cell_type": "code",
   "execution_count": null,
   "metadata": {},
   "outputs": [],
   "source": [
    "tconstmovs = imdbmovs.loc[(imdbmovs[\"averageRating\"]>=6) & (imdbmovs[\"runtimeMinutes\"]>=60) & (imdbmovs[\"numVotes\"]>=10000)]\n",
    "tconstmovs[\"genres\"].str.get_dummies(sep=\",\").sum().sort_values(ascending=False).head(10)"
   ]
  },
  {
   "cell_type": "code",
   "execution_count": 38,
   "metadata": {},
   "outputs": [],
   "source": [
    "nconstmovs = pd.read_csv(r\"C:\\Users\\Tony\\Desktop\\PROJET2\\Avec_nconst.csv\")"
   ]
  },
  {
   "cell_type": "code",
   "execution_count": 39,
   "metadata": {},
   "outputs": [],
   "source": [
    "nconstmovs = nconstmovs.loc[(nconstmovs[\"averageRating\"]>=6) & (nconstmovs[\"runtimeMinutes\"]>=60) & (nconstmovs[\"numVotes\"]>=10000)]"
   ]
  },
  {
   "cell_type": "code",
   "execution_count": 40,
   "metadata": {},
   "outputs": [
    {
     "data": {
      "text/html": [
       "<div>\n",
       "<style scoped>\n",
       "    .dataframe tbody tr th:only-of-type {\n",
       "        vertical-align: middle;\n",
       "    }\n",
       "\n",
       "    .dataframe tbody tr th {\n",
       "        vertical-align: top;\n",
       "    }\n",
       "\n",
       "    .dataframe thead th {\n",
       "        text-align: right;\n",
       "    }\n",
       "</style>\n",
       "<table border=\"1\" class=\"dataframe\">\n",
       "  <thead>\n",
       "    <tr style=\"text-align: right;\">\n",
       "      <th></th>\n",
       "      <th>tconst</th>\n",
       "      <th>primaryTitle</th>\n",
       "      <th>originalTitle</th>\n",
       "      <th>startYear</th>\n",
       "      <th>runtimeMinutes</th>\n",
       "      <th>genres</th>\n",
       "      <th>averageRating</th>\n",
       "      <th>numVotes</th>\n",
       "      <th>title</th>\n",
       "      <th>ordering</th>\n",
       "      <th>nconst</th>\n",
       "      <th>category</th>\n",
       "      <th>characters</th>\n",
       "      <th>primaryName</th>\n",
       "      <th>birthYear</th>\n",
       "      <th>deathYear</th>\n",
       "      <th>primaryProfession</th>\n",
       "      <th>knownForTitles</th>\n",
       "    </tr>\n",
       "  </thead>\n",
       "  <tbody>\n",
       "    <tr>\n",
       "      <th>6438</th>\n",
       "      <td>tt0111161</td>\n",
       "      <td>The Shawshank Redemption</td>\n",
       "      <td>The Shawshank Redemption</td>\n",
       "      <td>1994</td>\n",
       "      <td>142.0</td>\n",
       "      <td>Drama</td>\n",
       "      <td>9.3</td>\n",
       "      <td>2738697</td>\n",
       "      <td>Les Évadés</td>\n",
       "      <td>1</td>\n",
       "      <td>nm0000209</td>\n",
       "      <td>actor</td>\n",
       "      <td>[\"Andy Dufresne\"]</td>\n",
       "      <td>Tim Robbins</td>\n",
       "      <td>1958</td>\n",
       "      <td>\\N</td>\n",
       "      <td>actor,producer,director</td>\n",
       "      <td>tt0105151,tt0091225,tt0327056,tt0112818</td>\n",
       "    </tr>\n",
       "    <tr>\n",
       "      <th>6439</th>\n",
       "      <td>tt0111161</td>\n",
       "      <td>The Shawshank Redemption</td>\n",
       "      <td>The Shawshank Redemption</td>\n",
       "      <td>1994</td>\n",
       "      <td>142.0</td>\n",
       "      <td>Drama</td>\n",
       "      <td>9.3</td>\n",
       "      <td>2738697</td>\n",
       "      <td>Les Évadés</td>\n",
       "      <td>4</td>\n",
       "      <td>nm0006669</td>\n",
       "      <td>actor</td>\n",
       "      <td>[\"Heywood\"]</td>\n",
       "      <td>William Sadler</td>\n",
       "      <td>1950</td>\n",
       "      <td>\\N</td>\n",
       "      <td>actor,soundtrack,producer</td>\n",
       "      <td>tt0884328,tt0111161,tt0099423,tt0101452</td>\n",
       "    </tr>\n",
       "    <tr>\n",
       "      <th>6436</th>\n",
       "      <td>tt0111161</td>\n",
       "      <td>The Shawshank Redemption</td>\n",
       "      <td>The Shawshank Redemption</td>\n",
       "      <td>1994</td>\n",
       "      <td>142.0</td>\n",
       "      <td>Drama</td>\n",
       "      <td>9.3</td>\n",
       "      <td>2738697</td>\n",
       "      <td>Les Évadés</td>\n",
       "      <td>3</td>\n",
       "      <td>nm0348409</td>\n",
       "      <td>actor</td>\n",
       "      <td>[\"Warden Norton\"]</td>\n",
       "      <td>Bob Gunton</td>\n",
       "      <td>1945</td>\n",
       "      <td>\\N</td>\n",
       "      <td>actor,soundtrack</td>\n",
       "      <td>tt0111161,tt3322312,tt0285331,tt3305388</td>\n",
       "    </tr>\n",
       "    <tr>\n",
       "      <th>6435</th>\n",
       "      <td>tt0111161</td>\n",
       "      <td>The Shawshank Redemption</td>\n",
       "      <td>The Shawshank Redemption</td>\n",
       "      <td>1994</td>\n",
       "      <td>142.0</td>\n",
       "      <td>Drama</td>\n",
       "      <td>9.3</td>\n",
       "      <td>2738697</td>\n",
       "      <td>Les Évadés</td>\n",
       "      <td>2</td>\n",
       "      <td>nm0000151</td>\n",
       "      <td>actor</td>\n",
       "      <td>[\"Ellis Boyd 'Red' Redding\"]</td>\n",
       "      <td>Morgan Freeman</td>\n",
       "      <td>1937</td>\n",
       "      <td>\\N</td>\n",
       "      <td>actor,producer,director</td>\n",
       "      <td>tt0405159,tt1057500,tt0114369,tt0097239</td>\n",
       "    </tr>\n",
       "    <tr>\n",
       "      <th>6437</th>\n",
       "      <td>tt0111161</td>\n",
       "      <td>The Shawshank Redemption</td>\n",
       "      <td>The Shawshank Redemption</td>\n",
       "      <td>1994</td>\n",
       "      <td>142.0</td>\n",
       "      <td>Drama</td>\n",
       "      <td>9.3</td>\n",
       "      <td>2738697</td>\n",
       "      <td>Les Évadés</td>\n",
       "      <td>5</td>\n",
       "      <td>nm0001104</td>\n",
       "      <td>director</td>\n",
       "      <td>\\N</td>\n",
       "      <td>Frank Darabont</td>\n",
       "      <td>1959</td>\n",
       "      <td>\\N</td>\n",
       "      <td>writer,producer,director</td>\n",
       "      <td>tt1520211,tt0884328,tt0111161,tt0120689</td>\n",
       "    </tr>\n",
       "    <tr>\n",
       "      <th>...</th>\n",
       "      <td>...</td>\n",
       "      <td>...</td>\n",
       "      <td>...</td>\n",
       "      <td>...</td>\n",
       "      <td>...</td>\n",
       "      <td>...</td>\n",
       "      <td>...</td>\n",
       "      <td>...</td>\n",
       "      <td>...</td>\n",
       "      <td>...</td>\n",
       "      <td>...</td>\n",
       "      <td>...</td>\n",
       "      <td>...</td>\n",
       "      <td>...</td>\n",
       "      <td>...</td>\n",
       "      <td>...</td>\n",
       "      <td>...</td>\n",
       "      <td>...</td>\n",
       "    </tr>\n",
       "    <tr>\n",
       "      <th>9149</th>\n",
       "      <td>tt0318974</td>\n",
       "      <td>The Alamo</td>\n",
       "      <td>The Alamo</td>\n",
       "      <td>2004</td>\n",
       "      <td>137.0</td>\n",
       "      <td>Drama,History,War</td>\n",
       "      <td>6.0</td>\n",
       "      <td>21597</td>\n",
       "      <td>Alamo</td>\n",
       "      <td>1</td>\n",
       "      <td>nm0000598</td>\n",
       "      <td>actor</td>\n",
       "      <td>[\"Sam Houston\"]</td>\n",
       "      <td>Dennis Quaid</td>\n",
       "      <td>1954</td>\n",
       "      <td>\\N</td>\n",
       "      <td>actor,producer,soundtrack</td>\n",
       "      <td>tt0319262,tt0186151,tt0297884,tt0093260</td>\n",
       "    </tr>\n",
       "    <tr>\n",
       "      <th>9150</th>\n",
       "      <td>tt0318974</td>\n",
       "      <td>The Alamo</td>\n",
       "      <td>The Alamo</td>\n",
       "      <td>2004</td>\n",
       "      <td>137.0</td>\n",
       "      <td>Drama,History,War</td>\n",
       "      <td>6.0</td>\n",
       "      <td>21597</td>\n",
       "      <td>Alamo</td>\n",
       "      <td>3</td>\n",
       "      <td>nm0248408</td>\n",
       "      <td>actor</td>\n",
       "      <td>[\"Antonio Lopez de Santa Ana\"]</td>\n",
       "      <td>Emilio Echevarría</td>\n",
       "      <td>\\N</td>\n",
       "      <td>\\N</td>\n",
       "      <td>actor</td>\n",
       "      <td>tt0245574,tt0245712,tt0246460,tt0449467</td>\n",
       "    </tr>\n",
       "    <tr>\n",
       "      <th>9151</th>\n",
       "      <td>tt0318974</td>\n",
       "      <td>The Alamo</td>\n",
       "      <td>The Alamo</td>\n",
       "      <td>2004</td>\n",
       "      <td>137.0</td>\n",
       "      <td>Drama,History,War</td>\n",
       "      <td>6.0</td>\n",
       "      <td>21597</td>\n",
       "      <td>Alamo</td>\n",
       "      <td>4</td>\n",
       "      <td>nm0000574</td>\n",
       "      <td>actor</td>\n",
       "      <td>[\"James Bowie\"]</td>\n",
       "      <td>Jason Patric</td>\n",
       "      <td>1966</td>\n",
       "      <td>\\N</td>\n",
       "      <td>actor,producer</td>\n",
       "      <td>tt0120179,tt0480255,tt0117665,tt0093437</td>\n",
       "    </tr>\n",
       "    <tr>\n",
       "      <th>9152</th>\n",
       "      <td>tt0318974</td>\n",
       "      <td>The Alamo</td>\n",
       "      <td>The Alamo</td>\n",
       "      <td>2004</td>\n",
       "      <td>137.0</td>\n",
       "      <td>Drama,History,War</td>\n",
       "      <td>6.0</td>\n",
       "      <td>21597</td>\n",
       "      <td>Alamo</td>\n",
       "      <td>2</td>\n",
       "      <td>nm0000671</td>\n",
       "      <td>actor</td>\n",
       "      <td>[\"Davy Crockett\"]</td>\n",
       "      <td>Billy Bob Thornton</td>\n",
       "      <td>1955</td>\n",
       "      <td>\\N</td>\n",
       "      <td>actor,writer,soundtrack</td>\n",
       "      <td>tt0120324,tt0243133,tt0120591,tt0117666</td>\n",
       "    </tr>\n",
       "    <tr>\n",
       "      <th>13701</th>\n",
       "      <td>tt1112782</td>\n",
       "      <td>The Code</td>\n",
       "      <td>Thick as Thieves</td>\n",
       "      <td>2009</td>\n",
       "      <td>104.0</td>\n",
       "      <td>Action,Crime,Thriller</td>\n",
       "      <td>6.0</td>\n",
       "      <td>35278</td>\n",
       "      <td>The Code</td>\n",
       "      <td>5</td>\n",
       "      <td>nm0001460</td>\n",
       "      <td>director</td>\n",
       "      <td>\\N</td>\n",
       "      <td>Mimi Leder</td>\n",
       "      <td>1952</td>\n",
       "      <td>\\N</td>\n",
       "      <td>producer,director,script_department</td>\n",
       "      <td>tt4669788,tt0119874,tt0120647,tt7203552</td>\n",
       "    </tr>\n",
       "  </tbody>\n",
       "</table>\n",
       "<p>27080 rows × 18 columns</p>\n",
       "</div>"
      ],
      "text/plain": [
       "          tconst              primaryTitle             originalTitle  \\\n",
       "6438   tt0111161  The Shawshank Redemption  The Shawshank Redemption   \n",
       "6439   tt0111161  The Shawshank Redemption  The Shawshank Redemption   \n",
       "6436   tt0111161  The Shawshank Redemption  The Shawshank Redemption   \n",
       "6435   tt0111161  The Shawshank Redemption  The Shawshank Redemption   \n",
       "6437   tt0111161  The Shawshank Redemption  The Shawshank Redemption   \n",
       "...          ...                       ...                       ...   \n",
       "9149   tt0318974                 The Alamo                 The Alamo   \n",
       "9150   tt0318974                 The Alamo                 The Alamo   \n",
       "9151   tt0318974                 The Alamo                 The Alamo   \n",
       "9152   tt0318974                 The Alamo                 The Alamo   \n",
       "13701  tt1112782                  The Code          Thick as Thieves   \n",
       "\n",
       "       startYear  runtimeMinutes                 genres  averageRating  \\\n",
       "6438        1994           142.0                  Drama            9.3   \n",
       "6439        1994           142.0                  Drama            9.3   \n",
       "6436        1994           142.0                  Drama            9.3   \n",
       "6435        1994           142.0                  Drama            9.3   \n",
       "6437        1994           142.0                  Drama            9.3   \n",
       "...          ...             ...                    ...            ...   \n",
       "9149        2004           137.0      Drama,History,War            6.0   \n",
       "9150        2004           137.0      Drama,History,War            6.0   \n",
       "9151        2004           137.0      Drama,History,War            6.0   \n",
       "9152        2004           137.0      Drama,History,War            6.0   \n",
       "13701       2009           104.0  Action,Crime,Thriller            6.0   \n",
       "\n",
       "       numVotes       title  ordering     nconst  category  \\\n",
       "6438    2738697  Les Évadés         1  nm0000209     actor   \n",
       "6439    2738697  Les Évadés         4  nm0006669     actor   \n",
       "6436    2738697  Les Évadés         3  nm0348409     actor   \n",
       "6435    2738697  Les Évadés         2  nm0000151     actor   \n",
       "6437    2738697  Les Évadés         5  nm0001104  director   \n",
       "...         ...         ...       ...        ...       ...   \n",
       "9149      21597       Alamo         1  nm0000598     actor   \n",
       "9150      21597       Alamo         3  nm0248408     actor   \n",
       "9151      21597       Alamo         4  nm0000574     actor   \n",
       "9152      21597       Alamo         2  nm0000671     actor   \n",
       "13701     35278    The Code         5  nm0001460  director   \n",
       "\n",
       "                           characters         primaryName birthYear deathYear  \\\n",
       "6438                [\"Andy Dufresne\"]         Tim Robbins      1958        \\N   \n",
       "6439                      [\"Heywood\"]      William Sadler      1950        \\N   \n",
       "6436                [\"Warden Norton\"]          Bob Gunton      1945        \\N   \n",
       "6435     [\"Ellis Boyd 'Red' Redding\"]      Morgan Freeman      1937        \\N   \n",
       "6437                               \\N      Frank Darabont      1959        \\N   \n",
       "...                               ...                 ...       ...       ...   \n",
       "9149                  [\"Sam Houston\"]        Dennis Quaid      1954        \\N   \n",
       "9150   [\"Antonio Lopez de Santa Ana\"]   Emilio Echevarría        \\N        \\N   \n",
       "9151                  [\"James Bowie\"]        Jason Patric      1966        \\N   \n",
       "9152                [\"Davy Crockett\"]  Billy Bob Thornton      1955        \\N   \n",
       "13701                              \\N          Mimi Leder      1952        \\N   \n",
       "\n",
       "                         primaryProfession  \\\n",
       "6438               actor,producer,director   \n",
       "6439             actor,soundtrack,producer   \n",
       "6436                      actor,soundtrack   \n",
       "6435               actor,producer,director   \n",
       "6437              writer,producer,director   \n",
       "...                                    ...   \n",
       "9149             actor,producer,soundtrack   \n",
       "9150                                 actor   \n",
       "9151                        actor,producer   \n",
       "9152               actor,writer,soundtrack   \n",
       "13701  producer,director,script_department   \n",
       "\n",
       "                                knownForTitles  \n",
       "6438   tt0105151,tt0091225,tt0327056,tt0112818  \n",
       "6439   tt0884328,tt0111161,tt0099423,tt0101452  \n",
       "6436   tt0111161,tt3322312,tt0285331,tt3305388  \n",
       "6435   tt0405159,tt1057500,tt0114369,tt0097239  \n",
       "6437   tt1520211,tt0884328,tt0111161,tt0120689  \n",
       "...                                        ...  \n",
       "9149   tt0319262,tt0186151,tt0297884,tt0093260  \n",
       "9150   tt0245574,tt0245712,tt0246460,tt0449467  \n",
       "9151   tt0120179,tt0480255,tt0117665,tt0093437  \n",
       "9152   tt0120324,tt0243133,tt0120591,tt0117666  \n",
       "13701  tt4669788,tt0119874,tt0120647,tt7203552  \n",
       "\n",
       "[27080 rows x 18 columns]"
      ]
     },
     "execution_count": 40,
     "metadata": {},
     "output_type": "execute_result"
    }
   ],
   "source": [
    "nconstmovs.sort_values(by=\"averageRating\",ascending=False)"
   ]
  },
  {
   "cell_type": "code",
   "execution_count": 53,
   "metadata": {},
   "outputs": [],
   "source": [
    "actors = pd.DataFrame(nconstmovs.loc[nconstmovs['category'].str.contains('actor|actress')])"
   ]
  },
  {
   "cell_type": "code",
   "execution_count": 100,
   "metadata": {},
   "outputs": [],
   "source": [
    "top1actor = actors.loc[actors[\"ordering\"]==1]"
   ]
  },
  {
   "cell_type": "code",
   "execution_count": 101,
   "metadata": {},
   "outputs": [],
   "source": [
    "top1 = top1actor[\"nconst\"].str.get_dummies()"
   ]
  },
  {
   "cell_type": "code",
   "execution_count": 107,
   "metadata": {},
   "outputs": [
    {
     "data": {
      "text/html": [
       "<div>\n",
       "<style scoped>\n",
       "    .dataframe tbody tr th:only-of-type {\n",
       "        vertical-align: middle;\n",
       "    }\n",
       "\n",
       "    .dataframe tbody tr th {\n",
       "        vertical-align: top;\n",
       "    }\n",
       "\n",
       "    .dataframe thead th {\n",
       "        text-align: right;\n",
       "    }\n",
       "</style>\n",
       "<table border=\"1\" class=\"dataframe\">\n",
       "  <thead>\n",
       "    <tr style=\"text-align: right;\">\n",
       "      <th></th>\n",
       "      <th>nm0000001</th>\n",
       "      <th>nm0000003</th>\n",
       "      <th>nm0000004</th>\n",
       "      <th>nm0000006</th>\n",
       "      <th>nm0000007</th>\n",
       "      <th>nm0000008</th>\n",
       "      <th>nm0000009</th>\n",
       "      <th>nm0000010</th>\n",
       "      <th>nm0000011</th>\n",
       "      <th>nm0000012</th>\n",
       "      <th>...</th>\n",
       "      <th>nm9602952</th>\n",
       "      <th>nm9665672</th>\n",
       "      <th>nm9760132</th>\n",
       "      <th>nm9858131</th>\n",
       "      <th>nm9862858</th>\n",
       "      <th>nm9877392</th>\n",
       "      <th>nm9903838</th>\n",
       "      <th>nm9912940</th>\n",
       "      <th>nm9913973</th>\n",
       "      <th>nm9930181</th>\n",
       "    </tr>\n",
       "  </thead>\n",
       "  <tbody>\n",
       "    <tr>\n",
       "      <th>4</th>\n",
       "      <td>0</td>\n",
       "      <td>0</td>\n",
       "      <td>0</td>\n",
       "      <td>0</td>\n",
       "      <td>0</td>\n",
       "      <td>0</td>\n",
       "      <td>0</td>\n",
       "      <td>0</td>\n",
       "      <td>0</td>\n",
       "      <td>0</td>\n",
       "      <td>...</td>\n",
       "      <td>0</td>\n",
       "      <td>0</td>\n",
       "      <td>0</td>\n",
       "      <td>0</td>\n",
       "      <td>0</td>\n",
       "      <td>0</td>\n",
       "      <td>0</td>\n",
       "      <td>0</td>\n",
       "      <td>0</td>\n",
       "      <td>0</td>\n",
       "    </tr>\n",
       "    <tr>\n",
       "      <th>8</th>\n",
       "      <td>0</td>\n",
       "      <td>0</td>\n",
       "      <td>0</td>\n",
       "      <td>0</td>\n",
       "      <td>0</td>\n",
       "      <td>0</td>\n",
       "      <td>0</td>\n",
       "      <td>0</td>\n",
       "      <td>0</td>\n",
       "      <td>0</td>\n",
       "      <td>...</td>\n",
       "      <td>0</td>\n",
       "      <td>0</td>\n",
       "      <td>0</td>\n",
       "      <td>0</td>\n",
       "      <td>0</td>\n",
       "      <td>0</td>\n",
       "      <td>0</td>\n",
       "      <td>0</td>\n",
       "      <td>0</td>\n",
       "      <td>0</td>\n",
       "    </tr>\n",
       "    <tr>\n",
       "      <th>10</th>\n",
       "      <td>0</td>\n",
       "      <td>0</td>\n",
       "      <td>0</td>\n",
       "      <td>0</td>\n",
       "      <td>0</td>\n",
       "      <td>0</td>\n",
       "      <td>0</td>\n",
       "      <td>0</td>\n",
       "      <td>0</td>\n",
       "      <td>0</td>\n",
       "      <td>...</td>\n",
       "      <td>0</td>\n",
       "      <td>0</td>\n",
       "      <td>0</td>\n",
       "      <td>0</td>\n",
       "      <td>0</td>\n",
       "      <td>0</td>\n",
       "      <td>0</td>\n",
       "      <td>0</td>\n",
       "      <td>0</td>\n",
       "      <td>0</td>\n",
       "    </tr>\n",
       "    <tr>\n",
       "      <th>21</th>\n",
       "      <td>0</td>\n",
       "      <td>0</td>\n",
       "      <td>0</td>\n",
       "      <td>0</td>\n",
       "      <td>0</td>\n",
       "      <td>0</td>\n",
       "      <td>0</td>\n",
       "      <td>0</td>\n",
       "      <td>0</td>\n",
       "      <td>0</td>\n",
       "      <td>...</td>\n",
       "      <td>0</td>\n",
       "      <td>0</td>\n",
       "      <td>0</td>\n",
       "      <td>0</td>\n",
       "      <td>0</td>\n",
       "      <td>0</td>\n",
       "      <td>0</td>\n",
       "      <td>0</td>\n",
       "      <td>0</td>\n",
       "      <td>0</td>\n",
       "    </tr>\n",
       "    <tr>\n",
       "      <th>24</th>\n",
       "      <td>0</td>\n",
       "      <td>0</td>\n",
       "      <td>0</td>\n",
       "      <td>0</td>\n",
       "      <td>0</td>\n",
       "      <td>0</td>\n",
       "      <td>0</td>\n",
       "      <td>0</td>\n",
       "      <td>0</td>\n",
       "      <td>0</td>\n",
       "      <td>...</td>\n",
       "      <td>0</td>\n",
       "      <td>0</td>\n",
       "      <td>0</td>\n",
       "      <td>0</td>\n",
       "      <td>0</td>\n",
       "      <td>0</td>\n",
       "      <td>0</td>\n",
       "      <td>0</td>\n",
       "      <td>0</td>\n",
       "      <td>0</td>\n",
       "    </tr>\n",
       "    <tr>\n",
       "      <th>...</th>\n",
       "      <td>...</td>\n",
       "      <td>...</td>\n",
       "      <td>...</td>\n",
       "      <td>...</td>\n",
       "      <td>...</td>\n",
       "      <td>...</td>\n",
       "      <td>...</td>\n",
       "      <td>...</td>\n",
       "      <td>...</td>\n",
       "      <td>...</td>\n",
       "      <td>...</td>\n",
       "      <td>...</td>\n",
       "      <td>...</td>\n",
       "      <td>...</td>\n",
       "      <td>...</td>\n",
       "      <td>...</td>\n",
       "      <td>...</td>\n",
       "      <td>...</td>\n",
       "      <td>...</td>\n",
       "      <td>...</td>\n",
       "      <td>...</td>\n",
       "    </tr>\n",
       "    <tr>\n",
       "      <th>27056</th>\n",
       "      <td>0</td>\n",
       "      <td>0</td>\n",
       "      <td>0</td>\n",
       "      <td>0</td>\n",
       "      <td>0</td>\n",
       "      <td>0</td>\n",
       "      <td>0</td>\n",
       "      <td>0</td>\n",
       "      <td>0</td>\n",
       "      <td>0</td>\n",
       "      <td>...</td>\n",
       "      <td>0</td>\n",
       "      <td>0</td>\n",
       "      <td>0</td>\n",
       "      <td>0</td>\n",
       "      <td>0</td>\n",
       "      <td>0</td>\n",
       "      <td>0</td>\n",
       "      <td>0</td>\n",
       "      <td>0</td>\n",
       "      <td>0</td>\n",
       "    </tr>\n",
       "    <tr>\n",
       "      <th>27062</th>\n",
       "      <td>0</td>\n",
       "      <td>0</td>\n",
       "      <td>0</td>\n",
       "      <td>0</td>\n",
       "      <td>0</td>\n",
       "      <td>0</td>\n",
       "      <td>0</td>\n",
       "      <td>0</td>\n",
       "      <td>0</td>\n",
       "      <td>0</td>\n",
       "      <td>...</td>\n",
       "      <td>0</td>\n",
       "      <td>0</td>\n",
       "      <td>0</td>\n",
       "      <td>0</td>\n",
       "      <td>0</td>\n",
       "      <td>0</td>\n",
       "      <td>0</td>\n",
       "      <td>0</td>\n",
       "      <td>0</td>\n",
       "      <td>0</td>\n",
       "    </tr>\n",
       "    <tr>\n",
       "      <th>27066</th>\n",
       "      <td>0</td>\n",
       "      <td>0</td>\n",
       "      <td>0</td>\n",
       "      <td>0</td>\n",
       "      <td>0</td>\n",
       "      <td>0</td>\n",
       "      <td>0</td>\n",
       "      <td>0</td>\n",
       "      <td>0</td>\n",
       "      <td>0</td>\n",
       "      <td>...</td>\n",
       "      <td>0</td>\n",
       "      <td>0</td>\n",
       "      <td>0</td>\n",
       "      <td>0</td>\n",
       "      <td>0</td>\n",
       "      <td>0</td>\n",
       "      <td>0</td>\n",
       "      <td>0</td>\n",
       "      <td>0</td>\n",
       "      <td>0</td>\n",
       "    </tr>\n",
       "    <tr>\n",
       "      <th>27071</th>\n",
       "      <td>0</td>\n",
       "      <td>0</td>\n",
       "      <td>0</td>\n",
       "      <td>0</td>\n",
       "      <td>0</td>\n",
       "      <td>0</td>\n",
       "      <td>0</td>\n",
       "      <td>0</td>\n",
       "      <td>0</td>\n",
       "      <td>0</td>\n",
       "      <td>...</td>\n",
       "      <td>0</td>\n",
       "      <td>0</td>\n",
       "      <td>0</td>\n",
       "      <td>0</td>\n",
       "      <td>0</td>\n",
       "      <td>0</td>\n",
       "      <td>0</td>\n",
       "      <td>0</td>\n",
       "      <td>0</td>\n",
       "      <td>0</td>\n",
       "    </tr>\n",
       "    <tr>\n",
       "      <th>27078</th>\n",
       "      <td>0</td>\n",
       "      <td>0</td>\n",
       "      <td>0</td>\n",
       "      <td>0</td>\n",
       "      <td>0</td>\n",
       "      <td>0</td>\n",
       "      <td>0</td>\n",
       "      <td>0</td>\n",
       "      <td>0</td>\n",
       "      <td>0</td>\n",
       "      <td>...</td>\n",
       "      <td>0</td>\n",
       "      <td>0</td>\n",
       "      <td>0</td>\n",
       "      <td>0</td>\n",
       "      <td>0</td>\n",
       "      <td>0</td>\n",
       "      <td>0</td>\n",
       "      <td>0</td>\n",
       "      <td>0</td>\n",
       "      <td>0</td>\n",
       "    </tr>\n",
       "  </tbody>\n",
       "</table>\n",
       "<p>5313 rows × 2452 columns</p>\n",
       "</div>"
      ],
      "text/plain": [
       "       nm0000001  nm0000003  nm0000004  nm0000006  nm0000007  nm0000008  \\\n",
       "4              0          0          0          0          0          0   \n",
       "8              0          0          0          0          0          0   \n",
       "10             0          0          0          0          0          0   \n",
       "21             0          0          0          0          0          0   \n",
       "24             0          0          0          0          0          0   \n",
       "...          ...        ...        ...        ...        ...        ...   \n",
       "27056          0          0          0          0          0          0   \n",
       "27062          0          0          0          0          0          0   \n",
       "27066          0          0          0          0          0          0   \n",
       "27071          0          0          0          0          0          0   \n",
       "27078          0          0          0          0          0          0   \n",
       "\n",
       "       nm0000009  nm0000010  nm0000011  nm0000012  ...  nm9602952  nm9665672  \\\n",
       "4              0          0          0          0  ...          0          0   \n",
       "8              0          0          0          0  ...          0          0   \n",
       "10             0          0          0          0  ...          0          0   \n",
       "21             0          0          0          0  ...          0          0   \n",
       "24             0          0          0          0  ...          0          0   \n",
       "...          ...        ...        ...        ...  ...        ...        ...   \n",
       "27056          0          0          0          0  ...          0          0   \n",
       "27062          0          0          0          0  ...          0          0   \n",
       "27066          0          0          0          0  ...          0          0   \n",
       "27071          0          0          0          0  ...          0          0   \n",
       "27078          0          0          0          0  ...          0          0   \n",
       "\n",
       "       nm9760132  nm9858131  nm9862858  nm9877392  nm9903838  nm9912940  \\\n",
       "4              0          0          0          0          0          0   \n",
       "8              0          0          0          0          0          0   \n",
       "10             0          0          0          0          0          0   \n",
       "21             0          0          0          0          0          0   \n",
       "24             0          0          0          0          0          0   \n",
       "...          ...        ...        ...        ...        ...        ...   \n",
       "27056          0          0          0          0          0          0   \n",
       "27062          0          0          0          0          0          0   \n",
       "27066          0          0          0          0          0          0   \n",
       "27071          0          0          0          0          0          0   \n",
       "27078          0          0          0          0          0          0   \n",
       "\n",
       "       nm9913973  nm9930181  \n",
       "4              0          0  \n",
       "8              0          0  \n",
       "10             0          0  \n",
       "21             0          0  \n",
       "24             0          0  \n",
       "...          ...        ...  \n",
       "27056          0          0  \n",
       "27062          0          0  \n",
       "27066          0          0  \n",
       "27071          0          0  \n",
       "27078          0          0  \n",
       "\n",
       "[5313 rows x 2452 columns]"
      ]
     },
     "execution_count": 107,
     "metadata": {},
     "output_type": "execute_result"
    }
   ],
   "source": [
    "top1"
   ]
  },
  {
   "cell_type": "code",
   "execution_count": 110,
   "metadata": {},
   "outputs": [],
   "source": [
    "algotest2 = pd.concat([top1actor,\n",
    "top1],axis=1)"
   ]
  },
  {
   "cell_type": "code",
   "execution_count": 111,
   "metadata": {},
   "outputs": [],
   "source": [
    "genresdum = algotest2[\"genres\"].str.get_dummies(sep=\",\")"
   ]
  },
  {
   "cell_type": "code",
   "execution_count": 112,
   "metadata": {},
   "outputs": [
    {
     "data": {
      "text/html": [
       "<div>\n",
       "<style scoped>\n",
       "    .dataframe tbody tr th:only-of-type {\n",
       "        vertical-align: middle;\n",
       "    }\n",
       "\n",
       "    .dataframe tbody tr th {\n",
       "        vertical-align: top;\n",
       "    }\n",
       "\n",
       "    .dataframe thead th {\n",
       "        text-align: right;\n",
       "    }\n",
       "</style>\n",
       "<table border=\"1\" class=\"dataframe\">\n",
       "  <thead>\n",
       "    <tr style=\"text-align: right;\">\n",
       "      <th></th>\n",
       "      <th>tconst</th>\n",
       "      <th>primaryTitle</th>\n",
       "      <th>originalTitle</th>\n",
       "      <th>startYear</th>\n",
       "      <th>runtimeMinutes</th>\n",
       "      <th>genres</th>\n",
       "      <th>averageRating</th>\n",
       "      <th>numVotes</th>\n",
       "      <th>title</th>\n",
       "      <th>ordering</th>\n",
       "      <th>...</th>\n",
       "      <th>Horror</th>\n",
       "      <th>Music</th>\n",
       "      <th>Musical</th>\n",
       "      <th>Mystery</th>\n",
       "      <th>Romance</th>\n",
       "      <th>Sci-Fi</th>\n",
       "      <th>Sport</th>\n",
       "      <th>Thriller</th>\n",
       "      <th>War</th>\n",
       "      <th>Western</th>\n",
       "    </tr>\n",
       "  </thead>\n",
       "  <tbody>\n",
       "    <tr>\n",
       "      <th>4</th>\n",
       "      <td>tt0004972</td>\n",
       "      <td>The Birth of a Nation</td>\n",
       "      <td>The Birth of a Nation</td>\n",
       "      <td>1915</td>\n",
       "      <td>195.0</td>\n",
       "      <td>Drama,War</td>\n",
       "      <td>6.2</td>\n",
       "      <td>25475</td>\n",
       "      <td>Naissance d'une nation</td>\n",
       "      <td>1</td>\n",
       "      <td>...</td>\n",
       "      <td>0</td>\n",
       "      <td>0</td>\n",
       "      <td>0</td>\n",
       "      <td>0</td>\n",
       "      <td>0</td>\n",
       "      <td>0</td>\n",
       "      <td>0</td>\n",
       "      <td>0</td>\n",
       "      <td>1</td>\n",
       "      <td>0</td>\n",
       "    </tr>\n",
       "    <tr>\n",
       "      <th>8</th>\n",
       "      <td>tt0006864</td>\n",
       "      <td>Intolerance</td>\n",
       "      <td>Intolerance: Love's Struggle Throughout the Ages</td>\n",
       "      <td>1916</td>\n",
       "      <td>163.0</td>\n",
       "      <td>Drama,History</td>\n",
       "      <td>7.7</td>\n",
       "      <td>16121</td>\n",
       "      <td>Intolérance</td>\n",
       "      <td>1</td>\n",
       "      <td>...</td>\n",
       "      <td>0</td>\n",
       "      <td>0</td>\n",
       "      <td>0</td>\n",
       "      <td>0</td>\n",
       "      <td>0</td>\n",
       "      <td>0</td>\n",
       "      <td>0</td>\n",
       "      <td>0</td>\n",
       "      <td>0</td>\n",
       "      <td>0</td>\n",
       "    </tr>\n",
       "    <tr>\n",
       "      <th>10</th>\n",
       "      <td>tt0012349</td>\n",
       "      <td>The Kid</td>\n",
       "      <td>The Kid</td>\n",
       "      <td>1921</td>\n",
       "      <td>68.0</td>\n",
       "      <td>Comedy,Drama,Family</td>\n",
       "      <td>8.3</td>\n",
       "      <td>129088</td>\n",
       "      <td>Le Kid</td>\n",
       "      <td>1</td>\n",
       "      <td>...</td>\n",
       "      <td>0</td>\n",
       "      <td>0</td>\n",
       "      <td>0</td>\n",
       "      <td>0</td>\n",
       "      <td>0</td>\n",
       "      <td>0</td>\n",
       "      <td>0</td>\n",
       "      <td>0</td>\n",
       "      <td>0</td>\n",
       "      <td>0</td>\n",
       "    </tr>\n",
       "    <tr>\n",
       "      <th>21</th>\n",
       "      <td>tt0013257</td>\n",
       "      <td>Häxan</td>\n",
       "      <td>Häxan</td>\n",
       "      <td>1922</td>\n",
       "      <td>91.0</td>\n",
       "      <td>Documentary,Fantasy,Horror</td>\n",
       "      <td>7.6</td>\n",
       "      <td>15426</td>\n",
       "      <td>La sorcellerie à travers les âges</td>\n",
       "      <td>1</td>\n",
       "      <td>...</td>\n",
       "      <td>1</td>\n",
       "      <td>0</td>\n",
       "      <td>0</td>\n",
       "      <td>0</td>\n",
       "      <td>0</td>\n",
       "      <td>0</td>\n",
       "      <td>0</td>\n",
       "      <td>0</td>\n",
       "      <td>0</td>\n",
       "      <td>0</td>\n",
       "    </tr>\n",
       "    <tr>\n",
       "      <th>24</th>\n",
       "      <td>tt0013427</td>\n",
       "      <td>Nanook of the North</td>\n",
       "      <td>Nanook of the North</td>\n",
       "      <td>1922</td>\n",
       "      <td>78.0</td>\n",
       "      <td>Documentary</td>\n",
       "      <td>7.6</td>\n",
       "      <td>12886</td>\n",
       "      <td>Nanouk l'Esquimau</td>\n",
       "      <td>1</td>\n",
       "      <td>...</td>\n",
       "      <td>0</td>\n",
       "      <td>0</td>\n",
       "      <td>0</td>\n",
       "      <td>0</td>\n",
       "      <td>0</td>\n",
       "      <td>0</td>\n",
       "      <td>0</td>\n",
       "      <td>0</td>\n",
       "      <td>0</td>\n",
       "      <td>0</td>\n",
       "    </tr>\n",
       "    <tr>\n",
       "      <th>...</th>\n",
       "      <td>...</td>\n",
       "      <td>...</td>\n",
       "      <td>...</td>\n",
       "      <td>...</td>\n",
       "      <td>...</td>\n",
       "      <td>...</td>\n",
       "      <td>...</td>\n",
       "      <td>...</td>\n",
       "      <td>...</td>\n",
       "      <td>...</td>\n",
       "      <td>...</td>\n",
       "      <td>...</td>\n",
       "      <td>...</td>\n",
       "      <td>...</td>\n",
       "      <td>...</td>\n",
       "      <td>...</td>\n",
       "      <td>...</td>\n",
       "      <td>...</td>\n",
       "      <td>...</td>\n",
       "      <td>...</td>\n",
       "      <td>...</td>\n",
       "    </tr>\n",
       "    <tr>\n",
       "      <th>27056</th>\n",
       "      <td>tt9851854</td>\n",
       "      <td>Major</td>\n",
       "      <td>Major</td>\n",
       "      <td>2022</td>\n",
       "      <td>150.0</td>\n",
       "      <td>Action,Biography,Drama</td>\n",
       "      <td>8.1</td>\n",
       "      <td>30356</td>\n",
       "      <td>Major</td>\n",
       "      <td>1</td>\n",
       "      <td>...</td>\n",
       "      <td>0</td>\n",
       "      <td>0</td>\n",
       "      <td>0</td>\n",
       "      <td>0</td>\n",
       "      <td>0</td>\n",
       "      <td>0</td>\n",
       "      <td>0</td>\n",
       "      <td>0</td>\n",
       "      <td>0</td>\n",
       "      <td>0</td>\n",
       "    </tr>\n",
       "    <tr>\n",
       "      <th>27062</th>\n",
       "      <td>tt9866072</td>\n",
       "      <td>Holidate</td>\n",
       "      <td>Holidate</td>\n",
       "      <td>2020</td>\n",
       "      <td>104.0</td>\n",
       "      <td>Comedy,Romance</td>\n",
       "      <td>6.1</td>\n",
       "      <td>71605</td>\n",
       "      <td>Holidate</td>\n",
       "      <td>1</td>\n",
       "      <td>...</td>\n",
       "      <td>0</td>\n",
       "      <td>0</td>\n",
       "      <td>0</td>\n",
       "      <td>0</td>\n",
       "      <td>1</td>\n",
       "      <td>0</td>\n",
       "      <td>0</td>\n",
       "      <td>0</td>\n",
       "      <td>0</td>\n",
       "      <td>0</td>\n",
       "    </tr>\n",
       "    <tr>\n",
       "      <th>27066</th>\n",
       "      <td>tt9893250</td>\n",
       "      <td>I Care a Lot</td>\n",
       "      <td>I Care a Lot</td>\n",
       "      <td>2020</td>\n",
       "      <td>118.0</td>\n",
       "      <td>Comedy,Crime,Drama</td>\n",
       "      <td>6.3</td>\n",
       "      <td>137616</td>\n",
       "      <td>I Care a Lot</td>\n",
       "      <td>1</td>\n",
       "      <td>...</td>\n",
       "      <td>0</td>\n",
       "      <td>0</td>\n",
       "      <td>0</td>\n",
       "      <td>0</td>\n",
       "      <td>0</td>\n",
       "      <td>0</td>\n",
       "      <td>0</td>\n",
       "      <td>0</td>\n",
       "      <td>0</td>\n",
       "      <td>0</td>\n",
       "    </tr>\n",
       "    <tr>\n",
       "      <th>27071</th>\n",
       "      <td>tt9900782</td>\n",
       "      <td>Kaithi</td>\n",
       "      <td>Kaithi</td>\n",
       "      <td>2019</td>\n",
       "      <td>145.0</td>\n",
       "      <td>Action,Adventure,Crime</td>\n",
       "      <td>8.4</td>\n",
       "      <td>35885</td>\n",
       "      <td>Kaithi</td>\n",
       "      <td>1</td>\n",
       "      <td>...</td>\n",
       "      <td>0</td>\n",
       "      <td>0</td>\n",
       "      <td>0</td>\n",
       "      <td>0</td>\n",
       "      <td>0</td>\n",
       "      <td>0</td>\n",
       "      <td>0</td>\n",
       "      <td>0</td>\n",
       "      <td>0</td>\n",
       "      <td>0</td>\n",
       "    </tr>\n",
       "    <tr>\n",
       "      <th>27078</th>\n",
       "      <td>tt9907782</td>\n",
       "      <td>The Cursed</td>\n",
       "      <td>Eight for Silver</td>\n",
       "      <td>2021</td>\n",
       "      <td>111.0</td>\n",
       "      <td>Fantasy,Horror,Mystery</td>\n",
       "      <td>6.2</td>\n",
       "      <td>13097</td>\n",
       "      <td>Eight for Silver</td>\n",
       "      <td>1</td>\n",
       "      <td>...</td>\n",
       "      <td>1</td>\n",
       "      <td>0</td>\n",
       "      <td>0</td>\n",
       "      <td>1</td>\n",
       "      <td>0</td>\n",
       "      <td>0</td>\n",
       "      <td>0</td>\n",
       "      <td>0</td>\n",
       "      <td>0</td>\n",
       "      <td>0</td>\n",
       "    </tr>\n",
       "  </tbody>\n",
       "</table>\n",
       "<p>5313 rows × 2492 columns</p>\n",
       "</div>"
      ],
      "text/plain": [
       "          tconst           primaryTitle  \\\n",
       "4      tt0004972  The Birth of a Nation   \n",
       "8      tt0006864            Intolerance   \n",
       "10     tt0012349                The Kid   \n",
       "21     tt0013257                  Häxan   \n",
       "24     tt0013427    Nanook of the North   \n",
       "...          ...                    ...   \n",
       "27056  tt9851854                  Major   \n",
       "27062  tt9866072               Holidate   \n",
       "27066  tt9893250           I Care a Lot   \n",
       "27071  tt9900782                 Kaithi   \n",
       "27078  tt9907782             The Cursed   \n",
       "\n",
       "                                          originalTitle  startYear  \\\n",
       "4                                 The Birth of a Nation       1915   \n",
       "8      Intolerance: Love's Struggle Throughout the Ages       1916   \n",
       "10                                              The Kid       1921   \n",
       "21                                                Häxan       1922   \n",
       "24                                  Nanook of the North       1922   \n",
       "...                                                 ...        ...   \n",
       "27056                                             Major       2022   \n",
       "27062                                          Holidate       2020   \n",
       "27066                                      I Care a Lot       2020   \n",
       "27071                                            Kaithi       2019   \n",
       "27078                                  Eight for Silver       2021   \n",
       "\n",
       "       runtimeMinutes                      genres  averageRating  numVotes  \\\n",
       "4               195.0                   Drama,War            6.2     25475   \n",
       "8               163.0               Drama,History            7.7     16121   \n",
       "10               68.0         Comedy,Drama,Family            8.3    129088   \n",
       "21               91.0  Documentary,Fantasy,Horror            7.6     15426   \n",
       "24               78.0                 Documentary            7.6     12886   \n",
       "...               ...                         ...            ...       ...   \n",
       "27056           150.0      Action,Biography,Drama            8.1     30356   \n",
       "27062           104.0              Comedy,Romance            6.1     71605   \n",
       "27066           118.0          Comedy,Crime,Drama            6.3    137616   \n",
       "27071           145.0      Action,Adventure,Crime            8.4     35885   \n",
       "27078           111.0      Fantasy,Horror,Mystery            6.2     13097   \n",
       "\n",
       "                                   title  ordering  ... Horror Music Musical  \\\n",
       "4                 Naissance d'une nation         1  ...      0     0       0   \n",
       "8                            Intolérance         1  ...      0     0       0   \n",
       "10                                Le Kid         1  ...      0     0       0   \n",
       "21     La sorcellerie à travers les âges         1  ...      1     0       0   \n",
       "24                     Nanouk l'Esquimau         1  ...      0     0       0   \n",
       "...                                  ...       ...  ...    ...   ...     ...   \n",
       "27056                              Major         1  ...      0     0       0   \n",
       "27062                           Holidate         1  ...      0     0       0   \n",
       "27066                       I Care a Lot         1  ...      0     0       0   \n",
       "27071                             Kaithi         1  ...      0     0       0   \n",
       "27078                   Eight for Silver         1  ...      1     0       0   \n",
       "\n",
       "      Mystery Romance Sci-Fi Sport Thriller  War  Western  \n",
       "4           0       0      0     0        0    1        0  \n",
       "8           0       0      0     0        0    0        0  \n",
       "10          0       0      0     0        0    0        0  \n",
       "21          0       0      0     0        0    0        0  \n",
       "24          0       0      0     0        0    0        0  \n",
       "...       ...     ...    ...   ...      ...  ...      ...  \n",
       "27056       0       0      0     0        0    0        0  \n",
       "27062       0       1      0     0        0    0        0  \n",
       "27066       0       0      0     0        0    0        0  \n",
       "27071       0       0      0     0        0    0        0  \n",
       "27078       1       0      0     0        0    0        0  \n",
       "\n",
       "[5313 rows x 2492 columns]"
      ]
     },
     "execution_count": 112,
     "metadata": {},
     "output_type": "execute_result"
    }
   ],
   "source": [
    "algotest3 = pd.concat([algotest2,\n",
    "genresdum],axis=1)\n",
    "algotest3"
   ]
  },
  {
   "cell_type": "code",
   "execution_count": null,
   "metadata": {},
   "outputs": [],
   "source": []
  },
  {
   "cell_type": "code",
   "execution_count": 105,
   "metadata": {},
   "outputs": [],
   "source": [
    "nconstdf = pd.concat([top1actor,\n",
    "                     dfalgo])"
   ]
  },
  {
   "cell_type": "code",
   "execution_count": 106,
   "metadata": {},
   "outputs": [
    {
     "data": {
      "text/html": [
       "<div>\n",
       "<style scoped>\n",
       "    .dataframe tbody tr th:only-of-type {\n",
       "        vertical-align: middle;\n",
       "    }\n",
       "\n",
       "    .dataframe tbody tr th {\n",
       "        vertical-align: top;\n",
       "    }\n",
       "\n",
       "    .dataframe thead th {\n",
       "        text-align: right;\n",
       "    }\n",
       "</style>\n",
       "<table border=\"1\" class=\"dataframe\">\n",
       "  <thead>\n",
       "    <tr style=\"text-align: right;\">\n",
       "      <th></th>\n",
       "      <th>tconst</th>\n",
       "      <th>primaryTitle</th>\n",
       "      <th>originalTitle</th>\n",
       "      <th>startYear</th>\n",
       "      <th>runtimeMinutes</th>\n",
       "      <th>genres</th>\n",
       "      <th>averageRating</th>\n",
       "      <th>numVotes</th>\n",
       "      <th>title</th>\n",
       "      <th>ordering</th>\n",
       "      <th>...</th>\n",
       "      <th>nm9602952</th>\n",
       "      <th>nm9665672</th>\n",
       "      <th>nm9760132</th>\n",
       "      <th>nm9858131</th>\n",
       "      <th>nm9862858</th>\n",
       "      <th>nm9877392</th>\n",
       "      <th>nm9903838</th>\n",
       "      <th>nm9912940</th>\n",
       "      <th>nm9913973</th>\n",
       "      <th>nm9930181</th>\n",
       "    </tr>\n",
       "  </thead>\n",
       "  <tbody>\n",
       "    <tr>\n",
       "      <th>4</th>\n",
       "      <td>tt0004972</td>\n",
       "      <td>The Birth of a Nation</td>\n",
       "      <td>The Birth of a Nation</td>\n",
       "      <td>1915</td>\n",
       "      <td>195.0</td>\n",
       "      <td>Drama,War</td>\n",
       "      <td>6.2</td>\n",
       "      <td>25475</td>\n",
       "      <td>Naissance d'une nation</td>\n",
       "      <td>1</td>\n",
       "      <td>...</td>\n",
       "      <td>NaN</td>\n",
       "      <td>NaN</td>\n",
       "      <td>NaN</td>\n",
       "      <td>NaN</td>\n",
       "      <td>NaN</td>\n",
       "      <td>NaN</td>\n",
       "      <td>NaN</td>\n",
       "      <td>NaN</td>\n",
       "      <td>NaN</td>\n",
       "      <td>NaN</td>\n",
       "    </tr>\n",
       "    <tr>\n",
       "      <th>8</th>\n",
       "      <td>tt0006864</td>\n",
       "      <td>Intolerance</td>\n",
       "      <td>Intolerance: Love's Struggle Throughout the Ages</td>\n",
       "      <td>1916</td>\n",
       "      <td>163.0</td>\n",
       "      <td>Drama,History</td>\n",
       "      <td>7.7</td>\n",
       "      <td>16121</td>\n",
       "      <td>Intolérance</td>\n",
       "      <td>1</td>\n",
       "      <td>...</td>\n",
       "      <td>NaN</td>\n",
       "      <td>NaN</td>\n",
       "      <td>NaN</td>\n",
       "      <td>NaN</td>\n",
       "      <td>NaN</td>\n",
       "      <td>NaN</td>\n",
       "      <td>NaN</td>\n",
       "      <td>NaN</td>\n",
       "      <td>NaN</td>\n",
       "      <td>NaN</td>\n",
       "    </tr>\n",
       "    <tr>\n",
       "      <th>10</th>\n",
       "      <td>tt0012349</td>\n",
       "      <td>The Kid</td>\n",
       "      <td>The Kid</td>\n",
       "      <td>1921</td>\n",
       "      <td>68.0</td>\n",
       "      <td>Comedy,Drama,Family</td>\n",
       "      <td>8.3</td>\n",
       "      <td>129088</td>\n",
       "      <td>Le Kid</td>\n",
       "      <td>1</td>\n",
       "      <td>...</td>\n",
       "      <td>NaN</td>\n",
       "      <td>NaN</td>\n",
       "      <td>NaN</td>\n",
       "      <td>NaN</td>\n",
       "      <td>NaN</td>\n",
       "      <td>NaN</td>\n",
       "      <td>NaN</td>\n",
       "      <td>NaN</td>\n",
       "      <td>NaN</td>\n",
       "      <td>NaN</td>\n",
       "    </tr>\n",
       "    <tr>\n",
       "      <th>21</th>\n",
       "      <td>tt0013257</td>\n",
       "      <td>Häxan</td>\n",
       "      <td>Häxan</td>\n",
       "      <td>1922</td>\n",
       "      <td>91.0</td>\n",
       "      <td>Documentary,Fantasy,Horror</td>\n",
       "      <td>7.6</td>\n",
       "      <td>15426</td>\n",
       "      <td>La sorcellerie à travers les âges</td>\n",
       "      <td>1</td>\n",
       "      <td>...</td>\n",
       "      <td>NaN</td>\n",
       "      <td>NaN</td>\n",
       "      <td>NaN</td>\n",
       "      <td>NaN</td>\n",
       "      <td>NaN</td>\n",
       "      <td>NaN</td>\n",
       "      <td>NaN</td>\n",
       "      <td>NaN</td>\n",
       "      <td>NaN</td>\n",
       "      <td>NaN</td>\n",
       "    </tr>\n",
       "    <tr>\n",
       "      <th>24</th>\n",
       "      <td>tt0013427</td>\n",
       "      <td>Nanook of the North</td>\n",
       "      <td>Nanook of the North</td>\n",
       "      <td>1922</td>\n",
       "      <td>78.0</td>\n",
       "      <td>Documentary</td>\n",
       "      <td>7.6</td>\n",
       "      <td>12886</td>\n",
       "      <td>Nanouk l'Esquimau</td>\n",
       "      <td>1</td>\n",
       "      <td>...</td>\n",
       "      <td>NaN</td>\n",
       "      <td>NaN</td>\n",
       "      <td>NaN</td>\n",
       "      <td>NaN</td>\n",
       "      <td>NaN</td>\n",
       "      <td>NaN</td>\n",
       "      <td>NaN</td>\n",
       "      <td>NaN</td>\n",
       "      <td>NaN</td>\n",
       "      <td>NaN</td>\n",
       "    </tr>\n",
       "    <tr>\n",
       "      <th>...</th>\n",
       "      <td>...</td>\n",
       "      <td>...</td>\n",
       "      <td>...</td>\n",
       "      <td>...</td>\n",
       "      <td>...</td>\n",
       "      <td>...</td>\n",
       "      <td>...</td>\n",
       "      <td>...</td>\n",
       "      <td>...</td>\n",
       "      <td>...</td>\n",
       "      <td>...</td>\n",
       "      <td>...</td>\n",
       "      <td>...</td>\n",
       "      <td>...</td>\n",
       "      <td>...</td>\n",
       "      <td>...</td>\n",
       "      <td>...</td>\n",
       "      <td>...</td>\n",
       "      <td>...</td>\n",
       "      <td>...</td>\n",
       "      <td>...</td>\n",
       "    </tr>\n",
       "    <tr>\n",
       "      <th>27056</th>\n",
       "      <td>tt9851854</td>\n",
       "      <td>Major</td>\n",
       "      <td>Major</td>\n",
       "      <td>2022</td>\n",
       "      <td>150.0</td>\n",
       "      <td>Action,Biography,Drama</td>\n",
       "      <td>8.1</td>\n",
       "      <td>30356</td>\n",
       "      <td>Major</td>\n",
       "      <td>1</td>\n",
       "      <td>...</td>\n",
       "      <td>0.0</td>\n",
       "      <td>0.0</td>\n",
       "      <td>0.0</td>\n",
       "      <td>0.0</td>\n",
       "      <td>0.0</td>\n",
       "      <td>0.0</td>\n",
       "      <td>0.0</td>\n",
       "      <td>0.0</td>\n",
       "      <td>0.0</td>\n",
       "      <td>0.0</td>\n",
       "    </tr>\n",
       "    <tr>\n",
       "      <th>27062</th>\n",
       "      <td>tt9866072</td>\n",
       "      <td>Holidate</td>\n",
       "      <td>Holidate</td>\n",
       "      <td>2020</td>\n",
       "      <td>104.0</td>\n",
       "      <td>Comedy,Romance</td>\n",
       "      <td>6.1</td>\n",
       "      <td>71605</td>\n",
       "      <td>Holidate</td>\n",
       "      <td>1</td>\n",
       "      <td>...</td>\n",
       "      <td>0.0</td>\n",
       "      <td>0.0</td>\n",
       "      <td>0.0</td>\n",
       "      <td>0.0</td>\n",
       "      <td>0.0</td>\n",
       "      <td>0.0</td>\n",
       "      <td>0.0</td>\n",
       "      <td>0.0</td>\n",
       "      <td>0.0</td>\n",
       "      <td>0.0</td>\n",
       "    </tr>\n",
       "    <tr>\n",
       "      <th>27066</th>\n",
       "      <td>tt9893250</td>\n",
       "      <td>I Care a Lot</td>\n",
       "      <td>I Care a Lot</td>\n",
       "      <td>2020</td>\n",
       "      <td>118.0</td>\n",
       "      <td>Comedy,Crime,Drama</td>\n",
       "      <td>6.3</td>\n",
       "      <td>137616</td>\n",
       "      <td>I Care a Lot</td>\n",
       "      <td>1</td>\n",
       "      <td>...</td>\n",
       "      <td>0.0</td>\n",
       "      <td>0.0</td>\n",
       "      <td>0.0</td>\n",
       "      <td>0.0</td>\n",
       "      <td>0.0</td>\n",
       "      <td>0.0</td>\n",
       "      <td>0.0</td>\n",
       "      <td>0.0</td>\n",
       "      <td>0.0</td>\n",
       "      <td>0.0</td>\n",
       "    </tr>\n",
       "    <tr>\n",
       "      <th>27071</th>\n",
       "      <td>tt9900782</td>\n",
       "      <td>Kaithi</td>\n",
       "      <td>Kaithi</td>\n",
       "      <td>2019</td>\n",
       "      <td>145.0</td>\n",
       "      <td>Action,Adventure,Crime</td>\n",
       "      <td>8.4</td>\n",
       "      <td>35885</td>\n",
       "      <td>Kaithi</td>\n",
       "      <td>1</td>\n",
       "      <td>...</td>\n",
       "      <td>0.0</td>\n",
       "      <td>0.0</td>\n",
       "      <td>0.0</td>\n",
       "      <td>0.0</td>\n",
       "      <td>0.0</td>\n",
       "      <td>0.0</td>\n",
       "      <td>0.0</td>\n",
       "      <td>0.0</td>\n",
       "      <td>0.0</td>\n",
       "      <td>0.0</td>\n",
       "    </tr>\n",
       "    <tr>\n",
       "      <th>27078</th>\n",
       "      <td>tt9907782</td>\n",
       "      <td>The Cursed</td>\n",
       "      <td>Eight for Silver</td>\n",
       "      <td>2021</td>\n",
       "      <td>111.0</td>\n",
       "      <td>Fantasy,Horror,Mystery</td>\n",
       "      <td>6.2</td>\n",
       "      <td>13097</td>\n",
       "      <td>Eight for Silver</td>\n",
       "      <td>1</td>\n",
       "      <td>...</td>\n",
       "      <td>0.0</td>\n",
       "      <td>0.0</td>\n",
       "      <td>0.0</td>\n",
       "      <td>0.0</td>\n",
       "      <td>0.0</td>\n",
       "      <td>0.0</td>\n",
       "      <td>0.0</td>\n",
       "      <td>0.0</td>\n",
       "      <td>0.0</td>\n",
       "      <td>0.0</td>\n",
       "    </tr>\n",
       "  </tbody>\n",
       "</table>\n",
       "<p>10626 rows × 2492 columns</p>\n",
       "</div>"
      ],
      "text/plain": [
       "          tconst           primaryTitle  \\\n",
       "4      tt0004972  The Birth of a Nation   \n",
       "8      tt0006864            Intolerance   \n",
       "10     tt0012349                The Kid   \n",
       "21     tt0013257                  Häxan   \n",
       "24     tt0013427    Nanook of the North   \n",
       "...          ...                    ...   \n",
       "27056  tt9851854                  Major   \n",
       "27062  tt9866072               Holidate   \n",
       "27066  tt9893250           I Care a Lot   \n",
       "27071  tt9900782                 Kaithi   \n",
       "27078  tt9907782             The Cursed   \n",
       "\n",
       "                                          originalTitle  startYear  \\\n",
       "4                                 The Birth of a Nation       1915   \n",
       "8      Intolerance: Love's Struggle Throughout the Ages       1916   \n",
       "10                                              The Kid       1921   \n",
       "21                                                Häxan       1922   \n",
       "24                                  Nanook of the North       1922   \n",
       "...                                                 ...        ...   \n",
       "27056                                             Major       2022   \n",
       "27062                                          Holidate       2020   \n",
       "27066                                      I Care a Lot       2020   \n",
       "27071                                            Kaithi       2019   \n",
       "27078                                  Eight for Silver       2021   \n",
       "\n",
       "       runtimeMinutes                      genres  averageRating  numVotes  \\\n",
       "4               195.0                   Drama,War            6.2     25475   \n",
       "8               163.0               Drama,History            7.7     16121   \n",
       "10               68.0         Comedy,Drama,Family            8.3    129088   \n",
       "21               91.0  Documentary,Fantasy,Horror            7.6     15426   \n",
       "24               78.0                 Documentary            7.6     12886   \n",
       "...               ...                         ...            ...       ...   \n",
       "27056           150.0      Action,Biography,Drama            8.1     30356   \n",
       "27062           104.0              Comedy,Romance            6.1     71605   \n",
       "27066           118.0          Comedy,Crime,Drama            6.3    137616   \n",
       "27071           145.0      Action,Adventure,Crime            8.4     35885   \n",
       "27078           111.0      Fantasy,Horror,Mystery            6.2     13097   \n",
       "\n",
       "                                   title  ordering  ... nm9602952 nm9665672  \\\n",
       "4                 Naissance d'une nation         1  ...       NaN       NaN   \n",
       "8                            Intolérance         1  ...       NaN       NaN   \n",
       "10                                Le Kid         1  ...       NaN       NaN   \n",
       "21     La sorcellerie à travers les âges         1  ...       NaN       NaN   \n",
       "24                     Nanouk l'Esquimau         1  ...       NaN       NaN   \n",
       "...                                  ...       ...  ...       ...       ...   \n",
       "27056                              Major         1  ...       0.0       0.0   \n",
       "27062                           Holidate         1  ...       0.0       0.0   \n",
       "27066                       I Care a Lot         1  ...       0.0       0.0   \n",
       "27071                             Kaithi         1  ...       0.0       0.0   \n",
       "27078                   Eight for Silver         1  ...       0.0       0.0   \n",
       "\n",
       "      nm9760132 nm9858131 nm9862858 nm9877392 nm9903838 nm9912940  nm9913973  \\\n",
       "4           NaN       NaN       NaN       NaN       NaN       NaN        NaN   \n",
       "8           NaN       NaN       NaN       NaN       NaN       NaN        NaN   \n",
       "10          NaN       NaN       NaN       NaN       NaN       NaN        NaN   \n",
       "21          NaN       NaN       NaN       NaN       NaN       NaN        NaN   \n",
       "24          NaN       NaN       NaN       NaN       NaN       NaN        NaN   \n",
       "...         ...       ...       ...       ...       ...       ...        ...   \n",
       "27056       0.0       0.0       0.0       0.0       0.0       0.0        0.0   \n",
       "27062       0.0       0.0       0.0       0.0       0.0       0.0        0.0   \n",
       "27066       0.0       0.0       0.0       0.0       0.0       0.0        0.0   \n",
       "27071       0.0       0.0       0.0       0.0       0.0       0.0        0.0   \n",
       "27078       0.0       0.0       0.0       0.0       0.0       0.0        0.0   \n",
       "\n",
       "       nm9930181  \n",
       "4            NaN  \n",
       "8            NaN  \n",
       "10           NaN  \n",
       "21           NaN  \n",
       "24           NaN  \n",
       "...          ...  \n",
       "27056        0.0  \n",
       "27062        0.0  \n",
       "27066        0.0  \n",
       "27071        0.0  \n",
       "27078        0.0  \n",
       "\n",
       "[10626 rows x 2492 columns]"
      ]
     },
     "execution_count": 106,
     "metadata": {},
     "output_type": "execute_result"
    }
   ],
   "source": [
    "nconstdf"
   ]
  },
  {
   "cell_type": "code",
   "execution_count": 62,
   "metadata": {},
   "outputs": [
    {
     "data": {
      "text/html": [
       "<div>\n",
       "<style scoped>\n",
       "    .dataframe tbody tr th:only-of-type {\n",
       "        vertical-align: middle;\n",
       "    }\n",
       "\n",
       "    .dataframe tbody tr th {\n",
       "        vertical-align: top;\n",
       "    }\n",
       "\n",
       "    .dataframe thead th {\n",
       "        text-align: right;\n",
       "    }\n",
       "</style>\n",
       "<table border=\"1\" class=\"dataframe\">\n",
       "  <thead>\n",
       "    <tr style=\"text-align: right;\">\n",
       "      <th></th>\n",
       "      <th>tconst</th>\n",
       "      <th>primaryTitle</th>\n",
       "      <th>originalTitle</th>\n",
       "      <th>startYear</th>\n",
       "      <th>runtimeMinutes</th>\n",
       "      <th>genres</th>\n",
       "      <th>averageRating</th>\n",
       "      <th>numVotes</th>\n",
       "      <th>title</th>\n",
       "      <th>ordering</th>\n",
       "      <th>nconst</th>\n",
       "      <th>category</th>\n",
       "      <th>characters</th>\n",
       "      <th>primaryName</th>\n",
       "      <th>birthYear</th>\n",
       "      <th>deathYear</th>\n",
       "      <th>primaryProfession</th>\n",
       "      <th>knownForTitles</th>\n",
       "    </tr>\n",
       "  </thead>\n",
       "  <tbody>\n",
       "    <tr>\n",
       "      <th>3</th>\n",
       "      <td>tt0004972</td>\n",
       "      <td>The Birth of a Nation</td>\n",
       "      <td>The Birth of a Nation</td>\n",
       "      <td>1915</td>\n",
       "      <td>195.0</td>\n",
       "      <td>Drama,War</td>\n",
       "      <td>6.2</td>\n",
       "      <td>25475</td>\n",
       "      <td>Naissance d'une nation</td>\n",
       "      <td>2</td>\n",
       "      <td>nm0550615</td>\n",
       "      <td>actress</td>\n",
       "      <td>[\"Flora Cameron - The Pet Sister\"]</td>\n",
       "      <td>Mae Marsh</td>\n",
       "      <td>1894</td>\n",
       "      <td>1968</td>\n",
       "      <td>actress</td>\n",
       "      <td>tt0041503,tt0004972,tt0006826,tt0006864</td>\n",
       "    </tr>\n",
       "    <tr>\n",
       "      <th>5</th>\n",
       "      <td>tt0006864</td>\n",
       "      <td>Intolerance</td>\n",
       "      <td>Intolerance: Love's Struggle Throughout the Ages</td>\n",
       "      <td>1916</td>\n",
       "      <td>163.0</td>\n",
       "      <td>Drama,History</td>\n",
       "      <td>7.7</td>\n",
       "      <td>16121</td>\n",
       "      <td>Intolérance</td>\n",
       "      <td>2</td>\n",
       "      <td>nm0366008</td>\n",
       "      <td>actor</td>\n",
       "      <td>[\"The Boy\"]</td>\n",
       "      <td>Robert Harron</td>\n",
       "      <td>1893</td>\n",
       "      <td>1920</td>\n",
       "      <td>actor,art_department,cinematographer</td>\n",
       "      <td>tt0006864,tt0006826,tt0008379,tt0009559</td>\n",
       "    </tr>\n",
       "    <tr>\n",
       "      <th>11</th>\n",
       "      <td>tt0012349</td>\n",
       "      <td>The Kid</td>\n",
       "      <td>The Kid</td>\n",
       "      <td>1921</td>\n",
       "      <td>68.0</td>\n",
       "      <td>Comedy,Drama,Family</td>\n",
       "      <td>8.3</td>\n",
       "      <td>129088</td>\n",
       "      <td>Le Kid</td>\n",
       "      <td>2</td>\n",
       "      <td>nm0701012</td>\n",
       "      <td>actress</td>\n",
       "      <td>[\"The Woman\"]</td>\n",
       "      <td>Edna Purviance</td>\n",
       "      <td>1895</td>\n",
       "      <td>1958</td>\n",
       "      <td>actress</td>\n",
       "      <td>tt0008133,tt0017575,tt0014624,tt0012349</td>\n",
       "    </tr>\n",
       "    <tr>\n",
       "      <th>22</th>\n",
       "      <td>tt0013257</td>\n",
       "      <td>Häxan</td>\n",
       "      <td>Häxan</td>\n",
       "      <td>1922</td>\n",
       "      <td>91.0</td>\n",
       "      <td>Documentary,Fantasy,Horror</td>\n",
       "      <td>7.6</td>\n",
       "      <td>15426</td>\n",
       "      <td>La sorcellerie à travers les âges</td>\n",
       "      <td>2</td>\n",
       "      <td>nm0159770</td>\n",
       "      <td>actress</td>\n",
       "      <td>[\"En ældre bondekone\",\"Older Farm Lady\"]</td>\n",
       "      <td>Elisabeth Christensen</td>\n",
       "      <td>1855</td>\n",
       "      <td>1923</td>\n",
       "      <td>actress</td>\n",
       "      <td>tt3126502,tt2409466,tt0013257,tt2350494</td>\n",
       "    </tr>\n",
       "    <tr>\n",
       "      <th>25</th>\n",
       "      <td>tt0013427</td>\n",
       "      <td>Nanook of the North</td>\n",
       "      <td>Nanook of the North</td>\n",
       "      <td>1922</td>\n",
       "      <td>78.0</td>\n",
       "      <td>Documentary</td>\n",
       "      <td>7.6</td>\n",
       "      <td>12886</td>\n",
       "      <td>Nanouk l'Esquimau</td>\n",
       "      <td>2</td>\n",
       "      <td>nm0638725</td>\n",
       "      <td>actress</td>\n",
       "      <td>[\"Nanook's Wife - the Smiling One\"]</td>\n",
       "      <td>Alice Nevalinga</td>\n",
       "      <td>\\N</td>\n",
       "      <td>\\N</td>\n",
       "      <td>NaN</td>\n",
       "      <td>tt0013427</td>\n",
       "    </tr>\n",
       "    <tr>\n",
       "      <th>...</th>\n",
       "      <td>...</td>\n",
       "      <td>...</td>\n",
       "      <td>...</td>\n",
       "      <td>...</td>\n",
       "      <td>...</td>\n",
       "      <td>...</td>\n",
       "      <td>...</td>\n",
       "      <td>...</td>\n",
       "      <td>...</td>\n",
       "      <td>...</td>\n",
       "      <td>...</td>\n",
       "      <td>...</td>\n",
       "      <td>...</td>\n",
       "      <td>...</td>\n",
       "      <td>...</td>\n",
       "      <td>...</td>\n",
       "      <td>...</td>\n",
       "      <td>...</td>\n",
       "    </tr>\n",
       "    <tr>\n",
       "      <th>27055</th>\n",
       "      <td>tt9851854</td>\n",
       "      <td>Major</td>\n",
       "      <td>Major</td>\n",
       "      <td>2022</td>\n",
       "      <td>150.0</td>\n",
       "      <td>Action,Biography,Drama</td>\n",
       "      <td>8.1</td>\n",
       "      <td>30356</td>\n",
       "      <td>Major</td>\n",
       "      <td>2</td>\n",
       "      <td>nm0695177</td>\n",
       "      <td>actor</td>\n",
       "      <td>[\"K. Unnikrishnan\"]</td>\n",
       "      <td>Prakash Raj</td>\n",
       "      <td>1965</td>\n",
       "      <td>\\N</td>\n",
       "      <td>actor,producer,director</td>\n",
       "      <td>tt0376127,tt0140303,tt15097216,tt1526875</td>\n",
       "    </tr>\n",
       "    <tr>\n",
       "      <th>27063</th>\n",
       "      <td>tt9866072</td>\n",
       "      <td>Holidate</td>\n",
       "      <td>Holidate</td>\n",
       "      <td>2020</td>\n",
       "      <td>104.0</td>\n",
       "      <td>Comedy,Romance</td>\n",
       "      <td>6.1</td>\n",
       "      <td>71605</td>\n",
       "      <td>Holidate</td>\n",
       "      <td>2</td>\n",
       "      <td>nm3478396</td>\n",
       "      <td>actor</td>\n",
       "      <td>[\"Jackson\"]</td>\n",
       "      <td>Luke Bracey</td>\n",
       "      <td>1989</td>\n",
       "      <td>\\N</td>\n",
       "      <td>actor</td>\n",
       "      <td>tt1972779,tt2058673,tt2402157,tt1583421</td>\n",
       "    </tr>\n",
       "    <tr>\n",
       "      <th>27067</th>\n",
       "      <td>tt9893250</td>\n",
       "      <td>I Care a Lot</td>\n",
       "      <td>I Care a Lot</td>\n",
       "      <td>2020</td>\n",
       "      <td>118.0</td>\n",
       "      <td>Comedy,Crime,Drama</td>\n",
       "      <td>6.3</td>\n",
       "      <td>137616</td>\n",
       "      <td>I Care a Lot</td>\n",
       "      <td>2</td>\n",
       "      <td>nm0227759</td>\n",
       "      <td>actor</td>\n",
       "      <td>[\"Roman Lunyov\"]</td>\n",
       "      <td>Peter Dinklage</td>\n",
       "      <td>1969</td>\n",
       "      <td>\\N</td>\n",
       "      <td>actor,producer,soundtrack</td>\n",
       "      <td>tt0944947,tt0340377,tt5027774,tt1877832</td>\n",
       "    </tr>\n",
       "    <tr>\n",
       "      <th>27070</th>\n",
       "      <td>tt9900782</td>\n",
       "      <td>Kaithi</td>\n",
       "      <td>Kaithi</td>\n",
       "      <td>2019</td>\n",
       "      <td>145.0</td>\n",
       "      <td>Action,Adventure,Crime</td>\n",
       "      <td>8.4</td>\n",
       "      <td>35885</td>\n",
       "      <td>Kaithi</td>\n",
       "      <td>2</td>\n",
       "      <td>nm1230844</td>\n",
       "      <td>actor</td>\n",
       "      <td>[\"Bejoy\"]</td>\n",
       "      <td>Narain</td>\n",
       "      <td>1979</td>\n",
       "      <td>\\N</td>\n",
       "      <td>actor</td>\n",
       "      <td>tt9900782,tt2367996,tt1922545,tt9179430</td>\n",
       "    </tr>\n",
       "    <tr>\n",
       "      <th>27075</th>\n",
       "      <td>tt9907782</td>\n",
       "      <td>The Cursed</td>\n",
       "      <td>Eight for Silver</td>\n",
       "      <td>2021</td>\n",
       "      <td>111.0</td>\n",
       "      <td>Fantasy,Horror,Mystery</td>\n",
       "      <td>6.2</td>\n",
       "      <td>13097</td>\n",
       "      <td>Eight for Silver</td>\n",
       "      <td>2</td>\n",
       "      <td>nm0717709</td>\n",
       "      <td>actress</td>\n",
       "      <td>[\"Isabelle Laurent\"]</td>\n",
       "      <td>Kelly Reilly</td>\n",
       "      <td>1977</td>\n",
       "      <td>\\N</td>\n",
       "      <td>actress,producer</td>\n",
       "      <td>tt0988045,tt1020530,tt0414387,tt1907668</td>\n",
       "    </tr>\n",
       "  </tbody>\n",
       "</table>\n",
       "<p>5309 rows × 18 columns</p>\n",
       "</div>"
      ],
      "text/plain": [
       "          tconst           primaryTitle  \\\n",
       "3      tt0004972  The Birth of a Nation   \n",
       "5      tt0006864            Intolerance   \n",
       "11     tt0012349                The Kid   \n",
       "22     tt0013257                  Häxan   \n",
       "25     tt0013427    Nanook of the North   \n",
       "...          ...                    ...   \n",
       "27055  tt9851854                  Major   \n",
       "27063  tt9866072               Holidate   \n",
       "27067  tt9893250           I Care a Lot   \n",
       "27070  tt9900782                 Kaithi   \n",
       "27075  tt9907782             The Cursed   \n",
       "\n",
       "                                          originalTitle  startYear  \\\n",
       "3                                 The Birth of a Nation       1915   \n",
       "5      Intolerance: Love's Struggle Throughout the Ages       1916   \n",
       "11                                              The Kid       1921   \n",
       "22                                                Häxan       1922   \n",
       "25                                  Nanook of the North       1922   \n",
       "...                                                 ...        ...   \n",
       "27055                                             Major       2022   \n",
       "27063                                          Holidate       2020   \n",
       "27067                                      I Care a Lot       2020   \n",
       "27070                                            Kaithi       2019   \n",
       "27075                                  Eight for Silver       2021   \n",
       "\n",
       "       runtimeMinutes                      genres  averageRating  numVotes  \\\n",
       "3               195.0                   Drama,War            6.2     25475   \n",
       "5               163.0               Drama,History            7.7     16121   \n",
       "11               68.0         Comedy,Drama,Family            8.3    129088   \n",
       "22               91.0  Documentary,Fantasy,Horror            7.6     15426   \n",
       "25               78.0                 Documentary            7.6     12886   \n",
       "...               ...                         ...            ...       ...   \n",
       "27055           150.0      Action,Biography,Drama            8.1     30356   \n",
       "27063           104.0              Comedy,Romance            6.1     71605   \n",
       "27067           118.0          Comedy,Crime,Drama            6.3    137616   \n",
       "27070           145.0      Action,Adventure,Crime            8.4     35885   \n",
       "27075           111.0      Fantasy,Horror,Mystery            6.2     13097   \n",
       "\n",
       "                                   title  ordering     nconst category  \\\n",
       "3                 Naissance d'une nation         2  nm0550615  actress   \n",
       "5                            Intolérance         2  nm0366008    actor   \n",
       "11                                Le Kid         2  nm0701012  actress   \n",
       "22     La sorcellerie à travers les âges         2  nm0159770  actress   \n",
       "25                     Nanouk l'Esquimau         2  nm0638725  actress   \n",
       "...                                  ...       ...        ...      ...   \n",
       "27055                              Major         2  nm0695177    actor   \n",
       "27063                           Holidate         2  nm3478396    actor   \n",
       "27067                       I Care a Lot         2  nm0227759    actor   \n",
       "27070                             Kaithi         2  nm1230844    actor   \n",
       "27075                   Eight for Silver         2  nm0717709  actress   \n",
       "\n",
       "                                     characters            primaryName  \\\n",
       "3            [\"Flora Cameron - The Pet Sister\"]              Mae Marsh   \n",
       "5                                   [\"The Boy\"]          Robert Harron   \n",
       "11                                [\"The Woman\"]         Edna Purviance   \n",
       "22     [\"En ældre bondekone\",\"Older Farm Lady\"]  Elisabeth Christensen   \n",
       "25          [\"Nanook's Wife - the Smiling One\"]        Alice Nevalinga   \n",
       "...                                         ...                    ...   \n",
       "27055                       [\"K. Unnikrishnan\"]            Prakash Raj   \n",
       "27063                               [\"Jackson\"]            Luke Bracey   \n",
       "27067                          [\"Roman Lunyov\"]         Peter Dinklage   \n",
       "27070                                 [\"Bejoy\"]                 Narain   \n",
       "27075                      [\"Isabelle Laurent\"]           Kelly Reilly   \n",
       "\n",
       "      birthYear deathYear                     primaryProfession  \\\n",
       "3          1894      1968                               actress   \n",
       "5          1893      1920  actor,art_department,cinematographer   \n",
       "11         1895      1958                               actress   \n",
       "22         1855      1923                               actress   \n",
       "25           \\N        \\N                                   NaN   \n",
       "...         ...       ...                                   ...   \n",
       "27055      1965        \\N               actor,producer,director   \n",
       "27063      1989        \\N                                 actor   \n",
       "27067      1969        \\N             actor,producer,soundtrack   \n",
       "27070      1979        \\N                                 actor   \n",
       "27075      1977        \\N                      actress,producer   \n",
       "\n",
       "                                 knownForTitles  \n",
       "3       tt0041503,tt0004972,tt0006826,tt0006864  \n",
       "5       tt0006864,tt0006826,tt0008379,tt0009559  \n",
       "11      tt0008133,tt0017575,tt0014624,tt0012349  \n",
       "22      tt3126502,tt2409466,tt0013257,tt2350494  \n",
       "25                                    tt0013427  \n",
       "...                                         ...  \n",
       "27055  tt0376127,tt0140303,tt15097216,tt1526875  \n",
       "27063   tt1972779,tt2058673,tt2402157,tt1583421  \n",
       "27067   tt0944947,tt0340377,tt5027774,tt1877832  \n",
       "27070   tt9900782,tt2367996,tt1922545,tt9179430  \n",
       "27075   tt0988045,tt1020530,tt0414387,tt1907668  \n",
       "\n",
       "[5309 rows x 18 columns]"
      ]
     },
     "execution_count": 62,
     "metadata": {},
     "output_type": "execute_result"
    }
   ],
   "source": [
    "top2actor = actors.loc[actors[\"ordering\"]==2]"
   ]
  },
  {
   "cell_type": "code",
   "execution_count": 67,
   "metadata": {},
   "outputs": [],
   "source": [
    "top2 = top2actor[\"nconst\"].str.get_dummies()"
   ]
  },
  {
   "cell_type": "code",
   "execution_count": 69,
   "metadata": {},
   "outputs": [
    {
     "data": {
      "text/html": [
       "<div>\n",
       "<style scoped>\n",
       "    .dataframe tbody tr th:only-of-type {\n",
       "        vertical-align: middle;\n",
       "    }\n",
       "\n",
       "    .dataframe tbody tr th {\n",
       "        vertical-align: top;\n",
       "    }\n",
       "\n",
       "    .dataframe thead th {\n",
       "        text-align: right;\n",
       "    }\n",
       "</style>\n",
       "<table border=\"1\" class=\"dataframe\">\n",
       "  <thead>\n",
       "    <tr style=\"text-align: right;\">\n",
       "      <th></th>\n",
       "      <th>nm0000001</th>\n",
       "      <th>nm0000003</th>\n",
       "      <th>nm0000004</th>\n",
       "      <th>nm0000006</th>\n",
       "      <th>nm0000007</th>\n",
       "      <th>nm0000008</th>\n",
       "      <th>nm0000009</th>\n",
       "      <th>nm0000010</th>\n",
       "      <th>nm0000011</th>\n",
       "      <th>nm0000012</th>\n",
       "      <th>...</th>\n",
       "      <th>nm9820630</th>\n",
       "      <th>nm9826817</th>\n",
       "      <th>nm9858130</th>\n",
       "      <th>nm9862859</th>\n",
       "      <th>nm9875384</th>\n",
       "      <th>nm9891874</th>\n",
       "      <th>nm9912941</th>\n",
       "      <th>nm9928618</th>\n",
       "      <th>nm9964894</th>\n",
       "      <th>nm9979692</th>\n",
       "    </tr>\n",
       "  </thead>\n",
       "  <tbody>\n",
       "    <tr>\n",
       "      <th>4</th>\n",
       "      <td>0.0</td>\n",
       "      <td>0.0</td>\n",
       "      <td>0.0</td>\n",
       "      <td>0.0</td>\n",
       "      <td>0.0</td>\n",
       "      <td>0.0</td>\n",
       "      <td>0.0</td>\n",
       "      <td>0.0</td>\n",
       "      <td>0.0</td>\n",
       "      <td>0.0</td>\n",
       "      <td>...</td>\n",
       "      <td>NaN</td>\n",
       "      <td>NaN</td>\n",
       "      <td>NaN</td>\n",
       "      <td>NaN</td>\n",
       "      <td>NaN</td>\n",
       "      <td>NaN</td>\n",
       "      <td>NaN</td>\n",
       "      <td>NaN</td>\n",
       "      <td>NaN</td>\n",
       "      <td>NaN</td>\n",
       "    </tr>\n",
       "    <tr>\n",
       "      <th>8</th>\n",
       "      <td>0.0</td>\n",
       "      <td>0.0</td>\n",
       "      <td>0.0</td>\n",
       "      <td>0.0</td>\n",
       "      <td>0.0</td>\n",
       "      <td>0.0</td>\n",
       "      <td>0.0</td>\n",
       "      <td>0.0</td>\n",
       "      <td>0.0</td>\n",
       "      <td>0.0</td>\n",
       "      <td>...</td>\n",
       "      <td>NaN</td>\n",
       "      <td>NaN</td>\n",
       "      <td>NaN</td>\n",
       "      <td>NaN</td>\n",
       "      <td>NaN</td>\n",
       "      <td>NaN</td>\n",
       "      <td>NaN</td>\n",
       "      <td>NaN</td>\n",
       "      <td>NaN</td>\n",
       "      <td>NaN</td>\n",
       "    </tr>\n",
       "    <tr>\n",
       "      <th>10</th>\n",
       "      <td>0.0</td>\n",
       "      <td>0.0</td>\n",
       "      <td>0.0</td>\n",
       "      <td>0.0</td>\n",
       "      <td>0.0</td>\n",
       "      <td>0.0</td>\n",
       "      <td>0.0</td>\n",
       "      <td>0.0</td>\n",
       "      <td>0.0</td>\n",
       "      <td>0.0</td>\n",
       "      <td>...</td>\n",
       "      <td>NaN</td>\n",
       "      <td>NaN</td>\n",
       "      <td>NaN</td>\n",
       "      <td>NaN</td>\n",
       "      <td>NaN</td>\n",
       "      <td>NaN</td>\n",
       "      <td>NaN</td>\n",
       "      <td>NaN</td>\n",
       "      <td>NaN</td>\n",
       "      <td>NaN</td>\n",
       "    </tr>\n",
       "    <tr>\n",
       "      <th>21</th>\n",
       "      <td>0.0</td>\n",
       "      <td>0.0</td>\n",
       "      <td>0.0</td>\n",
       "      <td>0.0</td>\n",
       "      <td>0.0</td>\n",
       "      <td>0.0</td>\n",
       "      <td>0.0</td>\n",
       "      <td>0.0</td>\n",
       "      <td>0.0</td>\n",
       "      <td>0.0</td>\n",
       "      <td>...</td>\n",
       "      <td>NaN</td>\n",
       "      <td>NaN</td>\n",
       "      <td>NaN</td>\n",
       "      <td>NaN</td>\n",
       "      <td>NaN</td>\n",
       "      <td>NaN</td>\n",
       "      <td>NaN</td>\n",
       "      <td>NaN</td>\n",
       "      <td>NaN</td>\n",
       "      <td>NaN</td>\n",
       "    </tr>\n",
       "    <tr>\n",
       "      <th>24</th>\n",
       "      <td>0.0</td>\n",
       "      <td>0.0</td>\n",
       "      <td>0.0</td>\n",
       "      <td>0.0</td>\n",
       "      <td>0.0</td>\n",
       "      <td>0.0</td>\n",
       "      <td>0.0</td>\n",
       "      <td>0.0</td>\n",
       "      <td>0.0</td>\n",
       "      <td>0.0</td>\n",
       "      <td>...</td>\n",
       "      <td>NaN</td>\n",
       "      <td>NaN</td>\n",
       "      <td>NaN</td>\n",
       "      <td>NaN</td>\n",
       "      <td>NaN</td>\n",
       "      <td>NaN</td>\n",
       "      <td>NaN</td>\n",
       "      <td>NaN</td>\n",
       "      <td>NaN</td>\n",
       "      <td>NaN</td>\n",
       "    </tr>\n",
       "    <tr>\n",
       "      <th>...</th>\n",
       "      <td>...</td>\n",
       "      <td>...</td>\n",
       "      <td>...</td>\n",
       "      <td>...</td>\n",
       "      <td>...</td>\n",
       "      <td>...</td>\n",
       "      <td>...</td>\n",
       "      <td>...</td>\n",
       "      <td>...</td>\n",
       "      <td>...</td>\n",
       "      <td>...</td>\n",
       "      <td>...</td>\n",
       "      <td>...</td>\n",
       "      <td>...</td>\n",
       "      <td>...</td>\n",
       "      <td>...</td>\n",
       "      <td>...</td>\n",
       "      <td>...</td>\n",
       "      <td>...</td>\n",
       "      <td>...</td>\n",
       "      <td>...</td>\n",
       "    </tr>\n",
       "    <tr>\n",
       "      <th>27055</th>\n",
       "      <td>NaN</td>\n",
       "      <td>NaN</td>\n",
       "      <td>NaN</td>\n",
       "      <td>NaN</td>\n",
       "      <td>NaN</td>\n",
       "      <td>NaN</td>\n",
       "      <td>NaN</td>\n",
       "      <td>NaN</td>\n",
       "      <td>NaN</td>\n",
       "      <td>NaN</td>\n",
       "      <td>...</td>\n",
       "      <td>0.0</td>\n",
       "      <td>0.0</td>\n",
       "      <td>0.0</td>\n",
       "      <td>0.0</td>\n",
       "      <td>0.0</td>\n",
       "      <td>0.0</td>\n",
       "      <td>0.0</td>\n",
       "      <td>0.0</td>\n",
       "      <td>0.0</td>\n",
       "      <td>0.0</td>\n",
       "    </tr>\n",
       "    <tr>\n",
       "      <th>27063</th>\n",
       "      <td>NaN</td>\n",
       "      <td>NaN</td>\n",
       "      <td>NaN</td>\n",
       "      <td>NaN</td>\n",
       "      <td>NaN</td>\n",
       "      <td>NaN</td>\n",
       "      <td>NaN</td>\n",
       "      <td>NaN</td>\n",
       "      <td>NaN</td>\n",
       "      <td>NaN</td>\n",
       "      <td>...</td>\n",
       "      <td>0.0</td>\n",
       "      <td>0.0</td>\n",
       "      <td>0.0</td>\n",
       "      <td>0.0</td>\n",
       "      <td>0.0</td>\n",
       "      <td>0.0</td>\n",
       "      <td>0.0</td>\n",
       "      <td>0.0</td>\n",
       "      <td>0.0</td>\n",
       "      <td>0.0</td>\n",
       "    </tr>\n",
       "    <tr>\n",
       "      <th>27067</th>\n",
       "      <td>NaN</td>\n",
       "      <td>NaN</td>\n",
       "      <td>NaN</td>\n",
       "      <td>NaN</td>\n",
       "      <td>NaN</td>\n",
       "      <td>NaN</td>\n",
       "      <td>NaN</td>\n",
       "      <td>NaN</td>\n",
       "      <td>NaN</td>\n",
       "      <td>NaN</td>\n",
       "      <td>...</td>\n",
       "      <td>0.0</td>\n",
       "      <td>0.0</td>\n",
       "      <td>0.0</td>\n",
       "      <td>0.0</td>\n",
       "      <td>0.0</td>\n",
       "      <td>0.0</td>\n",
       "      <td>0.0</td>\n",
       "      <td>0.0</td>\n",
       "      <td>0.0</td>\n",
       "      <td>0.0</td>\n",
       "    </tr>\n",
       "    <tr>\n",
       "      <th>27070</th>\n",
       "      <td>NaN</td>\n",
       "      <td>NaN</td>\n",
       "      <td>NaN</td>\n",
       "      <td>NaN</td>\n",
       "      <td>NaN</td>\n",
       "      <td>NaN</td>\n",
       "      <td>NaN</td>\n",
       "      <td>NaN</td>\n",
       "      <td>NaN</td>\n",
       "      <td>NaN</td>\n",
       "      <td>...</td>\n",
       "      <td>0.0</td>\n",
       "      <td>0.0</td>\n",
       "      <td>0.0</td>\n",
       "      <td>0.0</td>\n",
       "      <td>0.0</td>\n",
       "      <td>0.0</td>\n",
       "      <td>0.0</td>\n",
       "      <td>0.0</td>\n",
       "      <td>0.0</td>\n",
       "      <td>0.0</td>\n",
       "    </tr>\n",
       "    <tr>\n",
       "      <th>27075</th>\n",
       "      <td>NaN</td>\n",
       "      <td>NaN</td>\n",
       "      <td>NaN</td>\n",
       "      <td>NaN</td>\n",
       "      <td>NaN</td>\n",
       "      <td>NaN</td>\n",
       "      <td>NaN</td>\n",
       "      <td>NaN</td>\n",
       "      <td>NaN</td>\n",
       "      <td>NaN</td>\n",
       "      <td>...</td>\n",
       "      <td>0.0</td>\n",
       "      <td>0.0</td>\n",
       "      <td>0.0</td>\n",
       "      <td>0.0</td>\n",
       "      <td>0.0</td>\n",
       "      <td>0.0</td>\n",
       "      <td>0.0</td>\n",
       "      <td>0.0</td>\n",
       "      <td>0.0</td>\n",
       "      <td>0.0</td>\n",
       "    </tr>\n",
       "  </tbody>\n",
       "</table>\n",
       "<p>10622 rows × 5782 columns</p>\n",
       "</div>"
      ],
      "text/plain": [
       "       nm0000001  nm0000003  nm0000004  nm0000006  nm0000007  nm0000008  \\\n",
       "4            0.0        0.0        0.0        0.0        0.0        0.0   \n",
       "8            0.0        0.0        0.0        0.0        0.0        0.0   \n",
       "10           0.0        0.0        0.0        0.0        0.0        0.0   \n",
       "21           0.0        0.0        0.0        0.0        0.0        0.0   \n",
       "24           0.0        0.0        0.0        0.0        0.0        0.0   \n",
       "...          ...        ...        ...        ...        ...        ...   \n",
       "27055        NaN        NaN        NaN        NaN        NaN        NaN   \n",
       "27063        NaN        NaN        NaN        NaN        NaN        NaN   \n",
       "27067        NaN        NaN        NaN        NaN        NaN        NaN   \n",
       "27070        NaN        NaN        NaN        NaN        NaN        NaN   \n",
       "27075        NaN        NaN        NaN        NaN        NaN        NaN   \n",
       "\n",
       "       nm0000009  nm0000010  nm0000011  nm0000012  ...  nm9820630  nm9826817  \\\n",
       "4            0.0        0.0        0.0        0.0  ...        NaN        NaN   \n",
       "8            0.0        0.0        0.0        0.0  ...        NaN        NaN   \n",
       "10           0.0        0.0        0.0        0.0  ...        NaN        NaN   \n",
       "21           0.0        0.0        0.0        0.0  ...        NaN        NaN   \n",
       "24           0.0        0.0        0.0        0.0  ...        NaN        NaN   \n",
       "...          ...        ...        ...        ...  ...        ...        ...   \n",
       "27055        NaN        NaN        NaN        NaN  ...        0.0        0.0   \n",
       "27063        NaN        NaN        NaN        NaN  ...        0.0        0.0   \n",
       "27067        NaN        NaN        NaN        NaN  ...        0.0        0.0   \n",
       "27070        NaN        NaN        NaN        NaN  ...        0.0        0.0   \n",
       "27075        NaN        NaN        NaN        NaN  ...        0.0        0.0   \n",
       "\n",
       "       nm9858130  nm9862859  nm9875384  nm9891874  nm9912941  nm9928618  \\\n",
       "4            NaN        NaN        NaN        NaN        NaN        NaN   \n",
       "8            NaN        NaN        NaN        NaN        NaN        NaN   \n",
       "10           NaN        NaN        NaN        NaN        NaN        NaN   \n",
       "21           NaN        NaN        NaN        NaN        NaN        NaN   \n",
       "24           NaN        NaN        NaN        NaN        NaN        NaN   \n",
       "...          ...        ...        ...        ...        ...        ...   \n",
       "27055        0.0        0.0        0.0        0.0        0.0        0.0   \n",
       "27063        0.0        0.0        0.0        0.0        0.0        0.0   \n",
       "27067        0.0        0.0        0.0        0.0        0.0        0.0   \n",
       "27070        0.0        0.0        0.0        0.0        0.0        0.0   \n",
       "27075        0.0        0.0        0.0        0.0        0.0        0.0   \n",
       "\n",
       "       nm9964894  nm9979692  \n",
       "4            NaN        NaN  \n",
       "8            NaN        NaN  \n",
       "10           NaN        NaN  \n",
       "21           NaN        NaN  \n",
       "24           NaN        NaN  \n",
       "...          ...        ...  \n",
       "27055        0.0        0.0  \n",
       "27063        0.0        0.0  \n",
       "27067        0.0        0.0  \n",
       "27070        0.0        0.0  \n",
       "27075        0.0        0.0  \n",
       "\n",
       "[10622 rows x 5782 columns]"
      ]
     },
     "execution_count": 69,
     "metadata": {},
     "output_type": "execute_result"
    }
   ],
   "source": [
    "pd.concat([top1,\n",
    "          top2],\n",
    "          axis=1)"
   ]
  },
  {
   "cell_type": "code",
   "execution_count": 41,
   "metadata": {},
   "outputs": [],
   "source": [
    "directors = pd.DataFrame(nconstmovs.loc[nconstmovs['category'] == 'director'])"
   ]
  },
  {
   "cell_type": "code",
   "execution_count": 45,
   "metadata": {},
   "outputs": [],
   "source": [
    "directors[\"nconst\"] = directors[\"primaryName\"]"
   ]
  },
  {
   "cell_type": "code",
   "execution_count": 49,
   "metadata": {},
   "outputs": [],
   "source": [
    "directors.drop([\"primaryName\",\"birthYear\",\"deathYear\"],axis=1,inplace=True)"
   ]
  },
  {
   "cell_type": "code",
   "execution_count": 63,
   "metadata": {},
   "outputs": [
    {
     "data": {
      "text/html": [
       "<div>\n",
       "<style scoped>\n",
       "    .dataframe tbody tr th:only-of-type {\n",
       "        vertical-align: middle;\n",
       "    }\n",
       "\n",
       "    .dataframe tbody tr th {\n",
       "        vertical-align: top;\n",
       "    }\n",
       "\n",
       "    .dataframe thead th {\n",
       "        text-align: right;\n",
       "    }\n",
       "</style>\n",
       "<table border=\"1\" class=\"dataframe\">\n",
       "  <thead>\n",
       "    <tr style=\"text-align: right;\">\n",
       "      <th></th>\n",
       "      <th>tconst</th>\n",
       "      <th>primaryTitle</th>\n",
       "      <th>originalTitle</th>\n",
       "      <th>startYear</th>\n",
       "      <th>runtimeMinutes</th>\n",
       "      <th>genres</th>\n",
       "      <th>averageRating</th>\n",
       "      <th>numVotes</th>\n",
       "      <th>title</th>\n",
       "      <th>ordering</th>\n",
       "      <th>nconst</th>\n",
       "      <th>category</th>\n",
       "      <th>characters</th>\n",
       "      <th>primaryProfession</th>\n",
       "      <th>knownForTitles</th>\n",
       "    </tr>\n",
       "  </thead>\n",
       "  <tbody>\n",
       "    <tr>\n",
       "      <th>0</th>\n",
       "      <td>tt0004972</td>\n",
       "      <td>The Birth of a Nation</td>\n",
       "      <td>The Birth of a Nation</td>\n",
       "      <td>1915</td>\n",
       "      <td>195.0</td>\n",
       "      <td>Drama,War</td>\n",
       "      <td>6.2</td>\n",
       "      <td>25475</td>\n",
       "      <td>Naissance d'une nation</td>\n",
       "      <td>5</td>\n",
       "      <td>D.W. Griffith</td>\n",
       "      <td>director</td>\n",
       "      <td>\\N</td>\n",
       "      <td>director,writer,producer</td>\n",
       "      <td>tt0006864,tt0004972,tt0009968,tt0010484</td>\n",
       "    </tr>\n",
       "    <tr>\n",
       "      <th>6</th>\n",
       "      <td>tt0006864</td>\n",
       "      <td>Intolerance</td>\n",
       "      <td>Intolerance: Love's Struggle Throughout the Ages</td>\n",
       "      <td>1916</td>\n",
       "      <td>163.0</td>\n",
       "      <td>Drama,History</td>\n",
       "      <td>7.7</td>\n",
       "      <td>16121</td>\n",
       "      <td>Intolérance</td>\n",
       "      <td>5</td>\n",
       "      <td>D.W. Griffith</td>\n",
       "      <td>director</td>\n",
       "      <td>\\N</td>\n",
       "      <td>director,writer,producer</td>\n",
       "      <td>tt0006864,tt0004972,tt0009968,tt0010484</td>\n",
       "    </tr>\n",
       "    <tr>\n",
       "      <th>28</th>\n",
       "      <td>tt0013427</td>\n",
       "      <td>Nanook of the North</td>\n",
       "      <td>Nanook of the North</td>\n",
       "      <td>1922</td>\n",
       "      <td>78.0</td>\n",
       "      <td>Documentary</td>\n",
       "      <td>7.6</td>\n",
       "      <td>12886</td>\n",
       "      <td>Nanouk l'Esquimau</td>\n",
       "      <td>5</td>\n",
       "      <td>Robert J. Flaherty</td>\n",
       "      <td>director</td>\n",
       "      <td>\\N</td>\n",
       "      <td>director,writer,producer</td>\n",
       "      <td>tt0028827,tt0025456,tt0017162,tt0040550</td>\n",
       "    </tr>\n",
       "    <tr>\n",
       "      <th>30</th>\n",
       "      <td>tt0013442</td>\n",
       "      <td>Nosferatu</td>\n",
       "      <td>Nosferatu, eine Symphonie des Grauens</td>\n",
       "      <td>1922</td>\n",
       "      <td>94.0</td>\n",
       "      <td>Fantasy,Horror</td>\n",
       "      <td>7.9</td>\n",
       "      <td>100603</td>\n",
       "      <td>Nosferatu le vampire</td>\n",
       "      <td>5</td>\n",
       "      <td>F.W. Murnau</td>\n",
       "      <td>director</td>\n",
       "      <td>\\N</td>\n",
       "      <td>director,writer,producer</td>\n",
       "      <td>tt0013442,tt0015064,tt0022458,tt0018455</td>\n",
       "    </tr>\n",
       "    <tr>\n",
       "      <th>34</th>\n",
       "      <td>tt0014341</td>\n",
       "      <td>Our Hospitality</td>\n",
       "      <td>Our Hospitality</td>\n",
       "      <td>1923</td>\n",
       "      <td>65.0</td>\n",
       "      <td>Comedy,Romance,Thriller</td>\n",
       "      <td>7.8</td>\n",
       "      <td>11851</td>\n",
       "      <td>Les lois de l'hospitalité</td>\n",
       "      <td>5</td>\n",
       "      <td>John G. Blystone</td>\n",
       "      <td>director</td>\n",
       "      <td>\\N</td>\n",
       "      <td>director,miscellaneous,producer</td>\n",
       "      <td>tt0014341,tt0020689,tt0017631,tt0021138</td>\n",
       "    </tr>\n",
       "    <tr>\n",
       "      <th>...</th>\n",
       "      <td>...</td>\n",
       "      <td>...</td>\n",
       "      <td>...</td>\n",
       "      <td>...</td>\n",
       "      <td>...</td>\n",
       "      <td>...</td>\n",
       "      <td>...</td>\n",
       "      <td>...</td>\n",
       "      <td>...</td>\n",
       "      <td>...</td>\n",
       "      <td>...</td>\n",
       "      <td>...</td>\n",
       "      <td>...</td>\n",
       "      <td>...</td>\n",
       "      <td>...</td>\n",
       "    </tr>\n",
       "    <tr>\n",
       "      <th>27060</th>\n",
       "      <td>tt9866072</td>\n",
       "      <td>Holidate</td>\n",
       "      <td>Holidate</td>\n",
       "      <td>2020</td>\n",
       "      <td>104.0</td>\n",
       "      <td>Comedy,Romance</td>\n",
       "      <td>6.1</td>\n",
       "      <td>71605</td>\n",
       "      <td>Holidate</td>\n",
       "      <td>5</td>\n",
       "      <td>John Whitesell</td>\n",
       "      <td>director</td>\n",
       "      <td>\\N</td>\n",
       "      <td>director,producer</td>\n",
       "      <td>tt9866072,tt0044265,tt1464174,tt0790604</td>\n",
       "    </tr>\n",
       "    <tr>\n",
       "      <th>27064</th>\n",
       "      <td>tt9883832</td>\n",
       "      <td>Moonage Daydream</td>\n",
       "      <td>Moonage Daydream</td>\n",
       "      <td>2022</td>\n",
       "      <td>135.0</td>\n",
       "      <td>Biography,Documentary,History</td>\n",
       "      <td>7.7</td>\n",
       "      <td>11140</td>\n",
       "      <td>Moonage Daydream</td>\n",
       "      <td>5</td>\n",
       "      <td>Brett Morgen</td>\n",
       "      <td>director</td>\n",
       "      <td>\\N</td>\n",
       "      <td>producer,director,writer</td>\n",
       "      <td>tt0303353,tt4229236,tt7207238</td>\n",
       "    </tr>\n",
       "    <tr>\n",
       "      <th>27068</th>\n",
       "      <td>tt9893250</td>\n",
       "      <td>I Care a Lot</td>\n",
       "      <td>I Care a Lot</td>\n",
       "      <td>2020</td>\n",
       "      <td>118.0</td>\n",
       "      <td>Comedy,Crime,Drama</td>\n",
       "      <td>6.3</td>\n",
       "      <td>137616</td>\n",
       "      <td>I Care a Lot</td>\n",
       "      <td>5</td>\n",
       "      <td>J Blakeson</td>\n",
       "      <td>director</td>\n",
       "      <td>\\N</td>\n",
       "      <td>director,writer,actor</td>\n",
       "      <td>tt6128262,tt9893250,tt2304933,tt1379177</td>\n",
       "    </tr>\n",
       "    <tr>\n",
       "      <th>27074</th>\n",
       "      <td>tt9900782</td>\n",
       "      <td>Kaithi</td>\n",
       "      <td>Kaithi</td>\n",
       "      <td>2019</td>\n",
       "      <td>145.0</td>\n",
       "      <td>Action,Adventure,Crime</td>\n",
       "      <td>8.4</td>\n",
       "      <td>35885</td>\n",
       "      <td>Kaithi</td>\n",
       "      <td>5</td>\n",
       "      <td>Lokesh Kanagaraj</td>\n",
       "      <td>director</td>\n",
       "      <td>\\N</td>\n",
       "      <td>writer,director,actor</td>\n",
       "      <td>tt9900782,tt10579952,tt9179430,tt5559528</td>\n",
       "    </tr>\n",
       "    <tr>\n",
       "      <th>27077</th>\n",
       "      <td>tt9907782</td>\n",
       "      <td>The Cursed</td>\n",
       "      <td>Eight for Silver</td>\n",
       "      <td>2021</td>\n",
       "      <td>111.0</td>\n",
       "      <td>Fantasy,Horror,Mystery</td>\n",
       "      <td>6.2</td>\n",
       "      <td>13097</td>\n",
       "      <td>Eight for Silver</td>\n",
       "      <td>5</td>\n",
       "      <td>Sean Ellis</td>\n",
       "      <td>director</td>\n",
       "      <td>\\N</td>\n",
       "      <td>director,writer,producer</td>\n",
       "      <td>tt1845838,tt4190530</td>\n",
       "    </tr>\n",
       "  </tbody>\n",
       "</table>\n",
       "<p>5765 rows × 15 columns</p>\n",
       "</div>"
      ],
      "text/plain": [
       "          tconst           primaryTitle  \\\n",
       "0      tt0004972  The Birth of a Nation   \n",
       "6      tt0006864            Intolerance   \n",
       "28     tt0013427    Nanook of the North   \n",
       "30     tt0013442              Nosferatu   \n",
       "34     tt0014341        Our Hospitality   \n",
       "...          ...                    ...   \n",
       "27060  tt9866072               Holidate   \n",
       "27064  tt9883832       Moonage Daydream   \n",
       "27068  tt9893250           I Care a Lot   \n",
       "27074  tt9900782                 Kaithi   \n",
       "27077  tt9907782             The Cursed   \n",
       "\n",
       "                                          originalTitle  startYear  \\\n",
       "0                                 The Birth of a Nation       1915   \n",
       "6      Intolerance: Love's Struggle Throughout the Ages       1916   \n",
       "28                                  Nanook of the North       1922   \n",
       "30                Nosferatu, eine Symphonie des Grauens       1922   \n",
       "34                                      Our Hospitality       1923   \n",
       "...                                                 ...        ...   \n",
       "27060                                          Holidate       2020   \n",
       "27064                                  Moonage Daydream       2022   \n",
       "27068                                      I Care a Lot       2020   \n",
       "27074                                            Kaithi       2019   \n",
       "27077                                  Eight for Silver       2021   \n",
       "\n",
       "       runtimeMinutes                         genres  averageRating  numVotes  \\\n",
       "0               195.0                      Drama,War            6.2     25475   \n",
       "6               163.0                  Drama,History            7.7     16121   \n",
       "28               78.0                    Documentary            7.6     12886   \n",
       "30               94.0                 Fantasy,Horror            7.9    100603   \n",
       "34               65.0        Comedy,Romance,Thriller            7.8     11851   \n",
       "...               ...                            ...            ...       ...   \n",
       "27060           104.0                 Comedy,Romance            6.1     71605   \n",
       "27064           135.0  Biography,Documentary,History            7.7     11140   \n",
       "27068           118.0             Comedy,Crime,Drama            6.3    137616   \n",
       "27074           145.0         Action,Adventure,Crime            8.4     35885   \n",
       "27077           111.0         Fantasy,Horror,Mystery            6.2     13097   \n",
       "\n",
       "                           title  ordering              nconst  category  \\\n",
       "0         Naissance d'une nation         5       D.W. Griffith  director   \n",
       "6                    Intolérance         5       D.W. Griffith  director   \n",
       "28             Nanouk l'Esquimau         5  Robert J. Flaherty  director   \n",
       "30          Nosferatu le vampire         5         F.W. Murnau  director   \n",
       "34     Les lois de l'hospitalité         5    John G. Blystone  director   \n",
       "...                          ...       ...                 ...       ...   \n",
       "27060                   Holidate         5      John Whitesell  director   \n",
       "27064           Moonage Daydream         5        Brett Morgen  director   \n",
       "27068               I Care a Lot         5          J Blakeson  director   \n",
       "27074                     Kaithi         5    Lokesh Kanagaraj  director   \n",
       "27077           Eight for Silver         5          Sean Ellis  director   \n",
       "\n",
       "      characters                primaryProfession  \\\n",
       "0             \\N         director,writer,producer   \n",
       "6             \\N         director,writer,producer   \n",
       "28            \\N         director,writer,producer   \n",
       "30            \\N         director,writer,producer   \n",
       "34            \\N  director,miscellaneous,producer   \n",
       "...          ...                              ...   \n",
       "27060         \\N                director,producer   \n",
       "27064         \\N         producer,director,writer   \n",
       "27068         \\N            director,writer,actor   \n",
       "27074         \\N            writer,director,actor   \n",
       "27077         \\N         director,writer,producer   \n",
       "\n",
       "                                 knownForTitles  \n",
       "0       tt0006864,tt0004972,tt0009968,tt0010484  \n",
       "6       tt0006864,tt0004972,tt0009968,tt0010484  \n",
       "28      tt0028827,tt0025456,tt0017162,tt0040550  \n",
       "30      tt0013442,tt0015064,tt0022458,tt0018455  \n",
       "34      tt0014341,tt0020689,tt0017631,tt0021138  \n",
       "...                                         ...  \n",
       "27060   tt9866072,tt0044265,tt1464174,tt0790604  \n",
       "27064             tt0303353,tt4229236,tt7207238  \n",
       "27068   tt6128262,tt9893250,tt2304933,tt1379177  \n",
       "27074  tt9900782,tt10579952,tt9179430,tt5559528  \n",
       "27077                       tt1845838,tt4190530  \n",
       "\n",
       "[5765 rows x 15 columns]"
      ]
     },
     "execution_count": 63,
     "metadata": {},
     "output_type": "execute_result"
    }
   ],
   "source": [
    "directors"
   ]
  },
  {
   "cell_type": "code",
   "execution_count": 17,
   "metadata": {},
   "outputs": [],
   "source": [
    "nconstmovs[\"nconst\"] = nconstmovs[\"primaryName\"]"
   ]
  },
  {
   "cell_type": "code",
   "execution_count": 20,
   "metadata": {},
   "outputs": [],
   "source": [
    "columns = [\"primaryTitle\",\"originalTitle\",\"ordering\",\"category\",\"characters\",\"primaryName\",\"birthYear\",\"deathYear\",\"primaryProfession\",\"knownForTitles\"]"
   ]
  },
  {
   "cell_type": "code",
   "execution_count": 21,
   "metadata": {},
   "outputs": [],
   "source": [
    "nconstmovs.drop(columns,axis=1,inplace=True)"
   ]
  },
  {
   "cell_type": "code",
   "execution_count": 22,
   "metadata": {},
   "outputs": [
    {
     "name": "stdout",
     "output_type": "stream",
     "text": [
      "<class 'pandas.core.frame.DataFrame'>\n",
      "Int64Index: 27080 entries, 0 to 27079\n",
      "Data columns (total 8 columns):\n",
      " #   Column          Non-Null Count  Dtype  \n",
      "---  ------          --------------  -----  \n",
      " 0   tconst          27080 non-null  object \n",
      " 1   startYear       27080 non-null  int64  \n",
      " 2   runtimeMinutes  27080 non-null  float64\n",
      " 3   genres          27080 non-null  object \n",
      " 4   averageRating   27080 non-null  float64\n",
      " 5   numVotes        27080 non-null  int64  \n",
      " 6   title           27080 non-null  object \n",
      " 7   nconst          27080 non-null  object \n",
      "dtypes: float64(2), int64(2), object(4)\n",
      "memory usage: 1.9+ MB\n"
     ]
    }
   ],
   "source": [
    "nconstmovs.info()"
   ]
  },
  {
   "cell_type": "code",
   "execution_count": 70,
   "metadata": {},
   "outputs": [
    {
     "data": {
      "text/html": [
       "<div>\n",
       "<style scoped>\n",
       "    .dataframe tbody tr th:only-of-type {\n",
       "        vertical-align: middle;\n",
       "    }\n",
       "\n",
       "    .dataframe tbody tr th {\n",
       "        vertical-align: top;\n",
       "    }\n",
       "\n",
       "    .dataframe thead th {\n",
       "        text-align: right;\n",
       "    }\n",
       "</style>\n",
       "<table border=\"1\" class=\"dataframe\">\n",
       "  <thead>\n",
       "    <tr style=\"text-align: right;\">\n",
       "      <th></th>\n",
       "      <th>tconst</th>\n",
       "      <th>primaryTitle</th>\n",
       "      <th>originalTitle</th>\n",
       "      <th>startYear</th>\n",
       "      <th>runtimeMinutes</th>\n",
       "      <th>genres</th>\n",
       "      <th>averageRating</th>\n",
       "      <th>numVotes</th>\n",
       "      <th>title</th>\n",
       "      <th>ordering</th>\n",
       "      <th>nconst</th>\n",
       "      <th>category</th>\n",
       "      <th>characters</th>\n",
       "      <th>primaryName</th>\n",
       "      <th>birthYear</th>\n",
       "      <th>deathYear</th>\n",
       "      <th>primaryProfession</th>\n",
       "      <th>knownForTitles</th>\n",
       "    </tr>\n",
       "  </thead>\n",
       "  <tbody>\n",
       "    <tr>\n",
       "      <th>0</th>\n",
       "      <td>tt0004972</td>\n",
       "      <td>The Birth of a Nation</td>\n",
       "      <td>The Birth of a Nation</td>\n",
       "      <td>1915</td>\n",
       "      <td>195.0</td>\n",
       "      <td>Drama,War</td>\n",
       "      <td>6.2</td>\n",
       "      <td>25475</td>\n",
       "      <td>Naissance d'une nation</td>\n",
       "      <td>5</td>\n",
       "      <td>nm0000428</td>\n",
       "      <td>director</td>\n",
       "      <td>\\N</td>\n",
       "      <td>D.W. Griffith</td>\n",
       "      <td>1875</td>\n",
       "      <td>1948</td>\n",
       "      <td>director,writer,producer</td>\n",
       "      <td>tt0006864,tt0004972,tt0009968,tt0010484</td>\n",
       "    </tr>\n",
       "    <tr>\n",
       "      <th>1</th>\n",
       "      <td>tt0004972</td>\n",
       "      <td>The Birth of a Nation</td>\n",
       "      <td>The Birth of a Nation</td>\n",
       "      <td>1915</td>\n",
       "      <td>195.0</td>\n",
       "      <td>Drama,War</td>\n",
       "      <td>6.2</td>\n",
       "      <td>25475</td>\n",
       "      <td>Naissance d'une nation</td>\n",
       "      <td>3</td>\n",
       "      <td>nm0910400</td>\n",
       "      <td>actor</td>\n",
       "      <td>[\"Col. Ben Cameron aka The Little Colonel\"]</td>\n",
       "      <td>Henry B. Walthall</td>\n",
       "      <td>1878</td>\n",
       "      <td>1936</td>\n",
       "      <td>actor,assistant_director</td>\n",
       "      <td>tt0007478,tt0008198,tt0018097,tt0022753</td>\n",
       "    </tr>\n",
       "    <tr>\n",
       "      <th>2</th>\n",
       "      <td>tt0004972</td>\n",
       "      <td>The Birth of a Nation</td>\n",
       "      <td>The Birth of a Nation</td>\n",
       "      <td>1915</td>\n",
       "      <td>195.0</td>\n",
       "      <td>Drama,War</td>\n",
       "      <td>6.2</td>\n",
       "      <td>25475</td>\n",
       "      <td>Naissance d'une nation</td>\n",
       "      <td>4</td>\n",
       "      <td>nm0178270</td>\n",
       "      <td>actress</td>\n",
       "      <td>[\"Margaret Cameron - The Elder Sister\"]</td>\n",
       "      <td>Miriam Cooper</td>\n",
       "      <td>1891</td>\n",
       "      <td>1976</td>\n",
       "      <td>actress,casting_director,costume_department</td>\n",
       "      <td>tt0011102,tt0006864,tt0012665,tt0012515</td>\n",
       "    </tr>\n",
       "    <tr>\n",
       "      <th>3</th>\n",
       "      <td>tt0004972</td>\n",
       "      <td>The Birth of a Nation</td>\n",
       "      <td>The Birth of a Nation</td>\n",
       "      <td>1915</td>\n",
       "      <td>195.0</td>\n",
       "      <td>Drama,War</td>\n",
       "      <td>6.2</td>\n",
       "      <td>25475</td>\n",
       "      <td>Naissance d'une nation</td>\n",
       "      <td>2</td>\n",
       "      <td>nm0550615</td>\n",
       "      <td>actress</td>\n",
       "      <td>[\"Flora Cameron - The Pet Sister\"]</td>\n",
       "      <td>Mae Marsh</td>\n",
       "      <td>1894</td>\n",
       "      <td>1968</td>\n",
       "      <td>actress</td>\n",
       "      <td>tt0041503,tt0004972,tt0006826,tt0006864</td>\n",
       "    </tr>\n",
       "    <tr>\n",
       "      <th>4</th>\n",
       "      <td>tt0004972</td>\n",
       "      <td>The Birth of a Nation</td>\n",
       "      <td>The Birth of a Nation</td>\n",
       "      <td>1915</td>\n",
       "      <td>195.0</td>\n",
       "      <td>Drama,War</td>\n",
       "      <td>6.2</td>\n",
       "      <td>25475</td>\n",
       "      <td>Naissance d'une nation</td>\n",
       "      <td>1</td>\n",
       "      <td>nm0001273</td>\n",
       "      <td>actress</td>\n",
       "      <td>[\"Elsie - Stoneman's Daughter\"]</td>\n",
       "      <td>Lillian Gish</td>\n",
       "      <td>1893</td>\n",
       "      <td>1993</td>\n",
       "      <td>actress,writer,soundtrack</td>\n",
       "      <td>tt0048424,tt0094315,tt0019585,tt0038499</td>\n",
       "    </tr>\n",
       "    <tr>\n",
       "      <th>...</th>\n",
       "      <td>...</td>\n",
       "      <td>...</td>\n",
       "      <td>...</td>\n",
       "      <td>...</td>\n",
       "      <td>...</td>\n",
       "      <td>...</td>\n",
       "      <td>...</td>\n",
       "      <td>...</td>\n",
       "      <td>...</td>\n",
       "      <td>...</td>\n",
       "      <td>...</td>\n",
       "      <td>...</td>\n",
       "      <td>...</td>\n",
       "      <td>...</td>\n",
       "      <td>...</td>\n",
       "      <td>...</td>\n",
       "      <td>...</td>\n",
       "      <td>...</td>\n",
       "    </tr>\n",
       "    <tr>\n",
       "      <th>27075</th>\n",
       "      <td>tt9907782</td>\n",
       "      <td>The Cursed</td>\n",
       "      <td>Eight for Silver</td>\n",
       "      <td>2021</td>\n",
       "      <td>111.0</td>\n",
       "      <td>Fantasy,Horror,Mystery</td>\n",
       "      <td>6.2</td>\n",
       "      <td>13097</td>\n",
       "      <td>Eight for Silver</td>\n",
       "      <td>2</td>\n",
       "      <td>nm0717709</td>\n",
       "      <td>actress</td>\n",
       "      <td>[\"Isabelle Laurent\"]</td>\n",
       "      <td>Kelly Reilly</td>\n",
       "      <td>1977</td>\n",
       "      <td>\\N</td>\n",
       "      <td>actress,producer</td>\n",
       "      <td>tt0988045,tt1020530,tt0414387,tt1907668</td>\n",
       "    </tr>\n",
       "    <tr>\n",
       "      <th>27076</th>\n",
       "      <td>tt9907782</td>\n",
       "      <td>The Cursed</td>\n",
       "      <td>Eight for Silver</td>\n",
       "      <td>2021</td>\n",
       "      <td>111.0</td>\n",
       "      <td>Fantasy,Horror,Mystery</td>\n",
       "      <td>6.2</td>\n",
       "      <td>13097</td>\n",
       "      <td>Eight for Silver</td>\n",
       "      <td>3</td>\n",
       "      <td>nm0677944</td>\n",
       "      <td>actor</td>\n",
       "      <td>[\"Seamus Laurent\"]</td>\n",
       "      <td>Alistair Petrie</td>\n",
       "      <td>1970</td>\n",
       "      <td>\\N</td>\n",
       "      <td>actor,soundtrack</td>\n",
       "      <td>tt3748528,tt0200465,tt1979320,tt1976009</td>\n",
       "    </tr>\n",
       "    <tr>\n",
       "      <th>27077</th>\n",
       "      <td>tt9907782</td>\n",
       "      <td>The Cursed</td>\n",
       "      <td>Eight for Silver</td>\n",
       "      <td>2021</td>\n",
       "      <td>111.0</td>\n",
       "      <td>Fantasy,Horror,Mystery</td>\n",
       "      <td>6.2</td>\n",
       "      <td>13097</td>\n",
       "      <td>Eight for Silver</td>\n",
       "      <td>5</td>\n",
       "      <td>nm1193346</td>\n",
       "      <td>director</td>\n",
       "      <td>\\N</td>\n",
       "      <td>Sean Ellis</td>\n",
       "      <td>1970</td>\n",
       "      <td>\\N</td>\n",
       "      <td>director,writer,producer</td>\n",
       "      <td>tt1845838,tt4190530</td>\n",
       "    </tr>\n",
       "    <tr>\n",
       "      <th>27078</th>\n",
       "      <td>tt9907782</td>\n",
       "      <td>The Cursed</td>\n",
       "      <td>Eight for Silver</td>\n",
       "      <td>2021</td>\n",
       "      <td>111.0</td>\n",
       "      <td>Fantasy,Horror,Mystery</td>\n",
       "      <td>6.2</td>\n",
       "      <td>13097</td>\n",
       "      <td>Eight for Silver</td>\n",
       "      <td>1</td>\n",
       "      <td>nm2933542</td>\n",
       "      <td>actor</td>\n",
       "      <td>[\"John McBride\"]</td>\n",
       "      <td>Boyd Holbrook</td>\n",
       "      <td>1981</td>\n",
       "      <td>\\N</td>\n",
       "      <td>actor,writer,producer</td>\n",
       "      <td>tt1517260,tt8110640,tt3829266,tt3315342</td>\n",
       "    </tr>\n",
       "    <tr>\n",
       "      <th>27079</th>\n",
       "      <td>tt9907782</td>\n",
       "      <td>The Cursed</td>\n",
       "      <td>Eight for Silver</td>\n",
       "      <td>2021</td>\n",
       "      <td>111.0</td>\n",
       "      <td>Fantasy,Horror,Mystery</td>\n",
       "      <td>6.2</td>\n",
       "      <td>13097</td>\n",
       "      <td>Eight for Silver</td>\n",
       "      <td>4</td>\n",
       "      <td>nm3646923</td>\n",
       "      <td>actress</td>\n",
       "      <td>[\"Anais\"]</td>\n",
       "      <td>Roxane Duran</td>\n",
       "      <td>1993</td>\n",
       "      <td>\\N</td>\n",
       "      <td>actress</td>\n",
       "      <td>tt15384074,tt5151570,tt5936448,tt1149362</td>\n",
       "    </tr>\n",
       "  </tbody>\n",
       "</table>\n",
       "<p>27080 rows × 18 columns</p>\n",
       "</div>"
      ],
      "text/plain": [
       "          tconst           primaryTitle          originalTitle  startYear  \\\n",
       "0      tt0004972  The Birth of a Nation  The Birth of a Nation       1915   \n",
       "1      tt0004972  The Birth of a Nation  The Birth of a Nation       1915   \n",
       "2      tt0004972  The Birth of a Nation  The Birth of a Nation       1915   \n",
       "3      tt0004972  The Birth of a Nation  The Birth of a Nation       1915   \n",
       "4      tt0004972  The Birth of a Nation  The Birth of a Nation       1915   \n",
       "...          ...                    ...                    ...        ...   \n",
       "27075  tt9907782             The Cursed       Eight for Silver       2021   \n",
       "27076  tt9907782             The Cursed       Eight for Silver       2021   \n",
       "27077  tt9907782             The Cursed       Eight for Silver       2021   \n",
       "27078  tt9907782             The Cursed       Eight for Silver       2021   \n",
       "27079  tt9907782             The Cursed       Eight for Silver       2021   \n",
       "\n",
       "       runtimeMinutes                  genres  averageRating  numVotes  \\\n",
       "0               195.0               Drama,War            6.2     25475   \n",
       "1               195.0               Drama,War            6.2     25475   \n",
       "2               195.0               Drama,War            6.2     25475   \n",
       "3               195.0               Drama,War            6.2     25475   \n",
       "4               195.0               Drama,War            6.2     25475   \n",
       "...               ...                     ...            ...       ...   \n",
       "27075           111.0  Fantasy,Horror,Mystery            6.2     13097   \n",
       "27076           111.0  Fantasy,Horror,Mystery            6.2     13097   \n",
       "27077           111.0  Fantasy,Horror,Mystery            6.2     13097   \n",
       "27078           111.0  Fantasy,Horror,Mystery            6.2     13097   \n",
       "27079           111.0  Fantasy,Horror,Mystery            6.2     13097   \n",
       "\n",
       "                        title  ordering     nconst  category  \\\n",
       "0      Naissance d'une nation         5  nm0000428  director   \n",
       "1      Naissance d'une nation         3  nm0910400     actor   \n",
       "2      Naissance d'une nation         4  nm0178270   actress   \n",
       "3      Naissance d'une nation         2  nm0550615   actress   \n",
       "4      Naissance d'une nation         1  nm0001273   actress   \n",
       "...                       ...       ...        ...       ...   \n",
       "27075        Eight for Silver         2  nm0717709   actress   \n",
       "27076        Eight for Silver         3  nm0677944     actor   \n",
       "27077        Eight for Silver         5  nm1193346  director   \n",
       "27078        Eight for Silver         1  nm2933542     actor   \n",
       "27079        Eight for Silver         4  nm3646923   actress   \n",
       "\n",
       "                                        characters        primaryName  \\\n",
       "0                                               \\N      D.W. Griffith   \n",
       "1      [\"Col. Ben Cameron aka The Little Colonel\"]  Henry B. Walthall   \n",
       "2          [\"Margaret Cameron - The Elder Sister\"]      Miriam Cooper   \n",
       "3               [\"Flora Cameron - The Pet Sister\"]          Mae Marsh   \n",
       "4                  [\"Elsie - Stoneman's Daughter\"]       Lillian Gish   \n",
       "...                                            ...                ...   \n",
       "27075                         [\"Isabelle Laurent\"]       Kelly Reilly   \n",
       "27076                           [\"Seamus Laurent\"]    Alistair Petrie   \n",
       "27077                                           \\N         Sean Ellis   \n",
       "27078                             [\"John McBride\"]      Boyd Holbrook   \n",
       "27079                                    [\"Anais\"]       Roxane Duran   \n",
       "\n",
       "      birthYear deathYear                            primaryProfession  \\\n",
       "0          1875      1948                     director,writer,producer   \n",
       "1          1878      1936                     actor,assistant_director   \n",
       "2          1891      1976  actress,casting_director,costume_department   \n",
       "3          1894      1968                                      actress   \n",
       "4          1893      1993                    actress,writer,soundtrack   \n",
       "...         ...       ...                                          ...   \n",
       "27075      1977        \\N                             actress,producer   \n",
       "27076      1970        \\N                             actor,soundtrack   \n",
       "27077      1970        \\N                     director,writer,producer   \n",
       "27078      1981        \\N                        actor,writer,producer   \n",
       "27079      1993        \\N                                      actress   \n",
       "\n",
       "                                 knownForTitles  \n",
       "0       tt0006864,tt0004972,tt0009968,tt0010484  \n",
       "1       tt0007478,tt0008198,tt0018097,tt0022753  \n",
       "2       tt0011102,tt0006864,tt0012665,tt0012515  \n",
       "3       tt0041503,tt0004972,tt0006826,tt0006864  \n",
       "4       tt0048424,tt0094315,tt0019585,tt0038499  \n",
       "...                                         ...  \n",
       "27075   tt0988045,tt1020530,tt0414387,tt1907668  \n",
       "27076   tt3748528,tt0200465,tt1979320,tt1976009  \n",
       "27077                       tt1845838,tt4190530  \n",
       "27078   tt1517260,tt8110640,tt3829266,tt3315342  \n",
       "27079  tt15384074,tt5151570,tt5936448,tt1149362  \n",
       "\n",
       "[27080 rows x 18 columns]"
      ]
     },
     "execution_count": 70,
     "metadata": {},
     "output_type": "execute_result"
    }
   ],
   "source": [
    "nconstmovs"
   ]
  },
  {
   "cell_type": "code",
   "execution_count": 24,
   "metadata": {},
   "outputs": [],
   "source": [
    "dfgroup = nconstmovs.groupby(['tconst']).agg(\n",
    "    startYear=('startYear', 'first'),\n",
    "    nconst=('nconst', lambda x: list(x)),\n",
    "    runtimeMinutes=('runtimeMinutes', 'first'),\n",
    "    genres=('genres', 'first'),\n",
    "    averageRating=('averageRating', 'first'),\n",
    "    numVotes=('numVotes', 'first'),\n",
    "    title=('title', 'first')\n",
    ").reset_index()"
   ]
  },
  {
   "cell_type": "code",
   "execution_count": 25,
   "metadata": {},
   "outputs": [
    {
     "data": {
      "text/html": [
       "<div>\n",
       "<style scoped>\n",
       "    .dataframe tbody tr th:only-of-type {\n",
       "        vertical-align: middle;\n",
       "    }\n",
       "\n",
       "    .dataframe tbody tr th {\n",
       "        vertical-align: top;\n",
       "    }\n",
       "\n",
       "    .dataframe thead th {\n",
       "        text-align: right;\n",
       "    }\n",
       "</style>\n",
       "<table border=\"1\" class=\"dataframe\">\n",
       "  <thead>\n",
       "    <tr style=\"text-align: right;\">\n",
       "      <th></th>\n",
       "      <th>tconst</th>\n",
       "      <th>startYear</th>\n",
       "      <th>nconst</th>\n",
       "      <th>runtimeMinutes</th>\n",
       "      <th>genres</th>\n",
       "      <th>averageRating</th>\n",
       "      <th>numVotes</th>\n",
       "      <th>title</th>\n",
       "    </tr>\n",
       "  </thead>\n",
       "  <tbody>\n",
       "    <tr>\n",
       "      <th>1270</th>\n",
       "      <td>tt0111161</td>\n",
       "      <td>1994</td>\n",
       "      <td>[Morgan Freeman, Bob Gunton, Frank Darabont, T...</td>\n",
       "      <td>142.0</td>\n",
       "      <td>Drama</td>\n",
       "      <td>9.3</td>\n",
       "      <td>2738697</td>\n",
       "      <td>Les Évadés</td>\n",
       "    </tr>\n",
       "    <tr>\n",
       "      <th>507</th>\n",
       "      <td>tt0068646</td>\n",
       "      <td>1972</td>\n",
       "      <td>[Marlon Brando, Francis Ford Coppola, James Ca...</td>\n",
       "      <td>175.0</td>\n",
       "      <td>Crime,Drama</td>\n",
       "      <td>9.2</td>\n",
       "      <td>1904482</td>\n",
       "      <td>Le Parrain</td>\n",
       "    </tr>\n",
       "    <tr>\n",
       "      <th>1217</th>\n",
       "      <td>tt0108052</td>\n",
       "      <td>1993</td>\n",
       "      <td>[Steven Spielberg, Ben Kingsley, Liam Neeson, ...</td>\n",
       "      <td>195.0</td>\n",
       "      <td>Biography,Drama,History</td>\n",
       "      <td>9.0</td>\n",
       "      <td>1382321</td>\n",
       "      <td>La liste de Schindler</td>\n",
       "    </tr>\n",
       "    <tr>\n",
       "      <th>237</th>\n",
       "      <td>tt0050083</td>\n",
       "      <td>1957</td>\n",
       "      <td>[Henry Fonda, Sidney Lumet, Lee J. Cobb, John ...</td>\n",
       "      <td>96.0</td>\n",
       "      <td>Crime,Drama</td>\n",
       "      <td>9.0</td>\n",
       "      <td>810614</td>\n",
       "      <td>12 Hommes en colère</td>\n",
       "    </tr>\n",
       "    <tr>\n",
       "      <th>2236</th>\n",
       "      <td>tt0468569</td>\n",
       "      <td>2008</td>\n",
       "      <td>[Michael Caine, Christian Bale, Heath Ledger, ...</td>\n",
       "      <td>152.0</td>\n",
       "      <td>Action,Crime,Drama</td>\n",
       "      <td>9.0</td>\n",
       "      <td>2711731</td>\n",
       "      <td>The Dark Knight : Le Chevalier noir</td>\n",
       "    </tr>\n",
       "    <tr>\n",
       "      <th>...</th>\n",
       "      <td>...</td>\n",
       "      <td>...</td>\n",
       "      <td>...</td>\n",
       "      <td>...</td>\n",
       "      <td>...</td>\n",
       "      <td>...</td>\n",
       "      <td>...</td>\n",
       "      <td>...</td>\n",
       "    </tr>\n",
       "    <tr>\n",
       "      <th>4420</th>\n",
       "      <td>tt3678938</td>\n",
       "      <td>2014</td>\n",
       "      <td>[Ashutosh Rana, Alia Bhatt, Varun Dhawan, Sidh...</td>\n",
       "      <td>133.0</td>\n",
       "      <td>Comedy,Drama,Romance</td>\n",
       "      <td>6.0</td>\n",
       "      <td>13462</td>\n",
       "      <td>La mariée d'Humpty Sharma</td>\n",
       "    </tr>\n",
       "    <tr>\n",
       "      <th>4815</th>\n",
       "      <td>tt5539052</td>\n",
       "      <td>2017</td>\n",
       "      <td>[Jacki Weaver, Jack Black, Jason Schwartzman, ...</td>\n",
       "      <td>95.0</td>\n",
       "      <td>Biography,Comedy,Drama</td>\n",
       "      <td>6.0</td>\n",
       "      <td>11310</td>\n",
       "      <td>Le roi de la polka</td>\n",
       "    </tr>\n",
       "    <tr>\n",
       "      <th>2675</th>\n",
       "      <td>tt1078912</td>\n",
       "      <td>2009</td>\n",
       "      <td>[Ben Stiller, Hank Azaria, Owen Wilson, Shawn ...</td>\n",
       "      <td>105.0</td>\n",
       "      <td>Adventure,Comedy,Family</td>\n",
       "      <td>6.0</td>\n",
       "      <td>203590</td>\n",
       "      <td>La Nuit au musée 2</td>\n",
       "    </tr>\n",
       "    <tr>\n",
       "      <th>4441</th>\n",
       "      <td>tt3741700</td>\n",
       "      <td>2019</td>\n",
       "      <td>[Ken Watanabe, Kyle Chandler, Vera Farmiga, Mi...</td>\n",
       "      <td>132.0</td>\n",
       "      <td>Action,Adventure,Fantasy</td>\n",
       "      <td>6.0</td>\n",
       "      <td>189927</td>\n",
       "      <td>Godzilla II : Roi des monstres</td>\n",
       "    </tr>\n",
       "    <tr>\n",
       "      <th>2505</th>\n",
       "      <td>tt0978764</td>\n",
       "      <td>2011</td>\n",
       "      <td>[Jena Malone, Abbie Cornish, Emily Browning, V...</td>\n",
       "      <td>110.0</td>\n",
       "      <td>Action,Adventure,Fantasy</td>\n",
       "      <td>6.0</td>\n",
       "      <td>246423</td>\n",
       "      <td>Sucker Punch</td>\n",
       "    </tr>\n",
       "  </tbody>\n",
       "</table>\n",
       "<p>5423 rows × 8 columns</p>\n",
       "</div>"
      ],
      "text/plain": [
       "         tconst  startYear                                             nconst  \\\n",
       "1270  tt0111161       1994  [Morgan Freeman, Bob Gunton, Frank Darabont, T...   \n",
       "507   tt0068646       1972  [Marlon Brando, Francis Ford Coppola, James Ca...   \n",
       "1217  tt0108052       1993  [Steven Spielberg, Ben Kingsley, Liam Neeson, ...   \n",
       "237   tt0050083       1957  [Henry Fonda, Sidney Lumet, Lee J. Cobb, John ...   \n",
       "2236  tt0468569       2008  [Michael Caine, Christian Bale, Heath Ledger, ...   \n",
       "...         ...        ...                                                ...   \n",
       "4420  tt3678938       2014  [Ashutosh Rana, Alia Bhatt, Varun Dhawan, Sidh...   \n",
       "4815  tt5539052       2017  [Jacki Weaver, Jack Black, Jason Schwartzman, ...   \n",
       "2675  tt1078912       2009  [Ben Stiller, Hank Azaria, Owen Wilson, Shawn ...   \n",
       "4441  tt3741700       2019  [Ken Watanabe, Kyle Chandler, Vera Farmiga, Mi...   \n",
       "2505  tt0978764       2011  [Jena Malone, Abbie Cornish, Emily Browning, V...   \n",
       "\n",
       "      runtimeMinutes                    genres  averageRating  numVotes  \\\n",
       "1270           142.0                     Drama            9.3   2738697   \n",
       "507            175.0               Crime,Drama            9.2   1904482   \n",
       "1217           195.0   Biography,Drama,History            9.0   1382321   \n",
       "237             96.0               Crime,Drama            9.0    810614   \n",
       "2236           152.0        Action,Crime,Drama            9.0   2711731   \n",
       "...              ...                       ...            ...       ...   \n",
       "4420           133.0      Comedy,Drama,Romance            6.0     13462   \n",
       "4815            95.0    Biography,Comedy,Drama            6.0     11310   \n",
       "2675           105.0   Adventure,Comedy,Family            6.0    203590   \n",
       "4441           132.0  Action,Adventure,Fantasy            6.0    189927   \n",
       "2505           110.0  Action,Adventure,Fantasy            6.0    246423   \n",
       "\n",
       "                                    title  \n",
       "1270                           Les Évadés  \n",
       "507                            Le Parrain  \n",
       "1217                La liste de Schindler  \n",
       "237                   12 Hommes en colère  \n",
       "2236  The Dark Knight : Le Chevalier noir  \n",
       "...                                   ...  \n",
       "4420            La mariée d'Humpty Sharma  \n",
       "4815                   Le roi de la polka  \n",
       "2675                   La Nuit au musée 2  \n",
       "4441       Godzilla II : Roi des monstres  \n",
       "2505                         Sucker Punch  \n",
       "\n",
       "[5423 rows x 8 columns]"
      ]
     },
     "execution_count": 25,
     "metadata": {},
     "output_type": "execute_result"
    }
   ],
   "source": [
    "dfgroup.sort_values(by=\"averageRating\",ascending=False)"
   ]
  },
  {
   "cell_type": "code",
   "execution_count": 79,
   "metadata": {},
   "outputs": [],
   "source": [
    "dfdummies = dfgroup[\"genres\"].str.get_dummies(sep=\",\")"
   ]
  },
  {
   "cell_type": "code",
   "execution_count": 80,
   "metadata": {},
   "outputs": [],
   "source": [
    "dfdummies2 = algotest2[\"genres\"].str.get_dummies(sep=\",\")"
   ]
  },
  {
   "cell_type": "code",
   "execution_count": 81,
   "metadata": {},
   "outputs": [
    {
     "data": {
      "text/html": [
       "<div>\n",
       "<style scoped>\n",
       "    .dataframe tbody tr th:only-of-type {\n",
       "        vertical-align: middle;\n",
       "    }\n",
       "\n",
       "    .dataframe tbody tr th {\n",
       "        vertical-align: top;\n",
       "    }\n",
       "\n",
       "    .dataframe thead th {\n",
       "        text-align: right;\n",
       "    }\n",
       "</style>\n",
       "<table border=\"1\" class=\"dataframe\">\n",
       "  <thead>\n",
       "    <tr style=\"text-align: right;\">\n",
       "      <th></th>\n",
       "      <th>Action</th>\n",
       "      <th>Adventure</th>\n",
       "      <th>Animation</th>\n",
       "      <th>Biography</th>\n",
       "      <th>Comedy</th>\n",
       "      <th>Crime</th>\n",
       "      <th>Documentary</th>\n",
       "      <th>Drama</th>\n",
       "      <th>Family</th>\n",
       "      <th>Fantasy</th>\n",
       "      <th>...</th>\n",
       "      <th>Horror</th>\n",
       "      <th>Music</th>\n",
       "      <th>Musical</th>\n",
       "      <th>Mystery</th>\n",
       "      <th>Romance</th>\n",
       "      <th>Sci-Fi</th>\n",
       "      <th>Sport</th>\n",
       "      <th>Thriller</th>\n",
       "      <th>War</th>\n",
       "      <th>Western</th>\n",
       "    </tr>\n",
       "  </thead>\n",
       "  <tbody>\n",
       "    <tr>\n",
       "      <th>4</th>\n",
       "      <td>0</td>\n",
       "      <td>0</td>\n",
       "      <td>0</td>\n",
       "      <td>0</td>\n",
       "      <td>0</td>\n",
       "      <td>0</td>\n",
       "      <td>0</td>\n",
       "      <td>1</td>\n",
       "      <td>0</td>\n",
       "      <td>0</td>\n",
       "      <td>...</td>\n",
       "      <td>0</td>\n",
       "      <td>0</td>\n",
       "      <td>0</td>\n",
       "      <td>0</td>\n",
       "      <td>0</td>\n",
       "      <td>0</td>\n",
       "      <td>0</td>\n",
       "      <td>0</td>\n",
       "      <td>1</td>\n",
       "      <td>0</td>\n",
       "    </tr>\n",
       "    <tr>\n",
       "      <th>8</th>\n",
       "      <td>0</td>\n",
       "      <td>0</td>\n",
       "      <td>0</td>\n",
       "      <td>0</td>\n",
       "      <td>0</td>\n",
       "      <td>0</td>\n",
       "      <td>0</td>\n",
       "      <td>1</td>\n",
       "      <td>0</td>\n",
       "      <td>0</td>\n",
       "      <td>...</td>\n",
       "      <td>0</td>\n",
       "      <td>0</td>\n",
       "      <td>0</td>\n",
       "      <td>0</td>\n",
       "      <td>0</td>\n",
       "      <td>0</td>\n",
       "      <td>0</td>\n",
       "      <td>0</td>\n",
       "      <td>0</td>\n",
       "      <td>0</td>\n",
       "    </tr>\n",
       "    <tr>\n",
       "      <th>10</th>\n",
       "      <td>0</td>\n",
       "      <td>0</td>\n",
       "      <td>0</td>\n",
       "      <td>0</td>\n",
       "      <td>1</td>\n",
       "      <td>0</td>\n",
       "      <td>0</td>\n",
       "      <td>1</td>\n",
       "      <td>1</td>\n",
       "      <td>0</td>\n",
       "      <td>...</td>\n",
       "      <td>0</td>\n",
       "      <td>0</td>\n",
       "      <td>0</td>\n",
       "      <td>0</td>\n",
       "      <td>0</td>\n",
       "      <td>0</td>\n",
       "      <td>0</td>\n",
       "      <td>0</td>\n",
       "      <td>0</td>\n",
       "      <td>0</td>\n",
       "    </tr>\n",
       "    <tr>\n",
       "      <th>21</th>\n",
       "      <td>0</td>\n",
       "      <td>0</td>\n",
       "      <td>0</td>\n",
       "      <td>0</td>\n",
       "      <td>0</td>\n",
       "      <td>0</td>\n",
       "      <td>1</td>\n",
       "      <td>0</td>\n",
       "      <td>0</td>\n",
       "      <td>1</td>\n",
       "      <td>...</td>\n",
       "      <td>1</td>\n",
       "      <td>0</td>\n",
       "      <td>0</td>\n",
       "      <td>0</td>\n",
       "      <td>0</td>\n",
       "      <td>0</td>\n",
       "      <td>0</td>\n",
       "      <td>0</td>\n",
       "      <td>0</td>\n",
       "      <td>0</td>\n",
       "    </tr>\n",
       "    <tr>\n",
       "      <th>24</th>\n",
       "      <td>0</td>\n",
       "      <td>0</td>\n",
       "      <td>0</td>\n",
       "      <td>0</td>\n",
       "      <td>0</td>\n",
       "      <td>0</td>\n",
       "      <td>1</td>\n",
       "      <td>0</td>\n",
       "      <td>0</td>\n",
       "      <td>0</td>\n",
       "      <td>...</td>\n",
       "      <td>0</td>\n",
       "      <td>0</td>\n",
       "      <td>0</td>\n",
       "      <td>0</td>\n",
       "      <td>0</td>\n",
       "      <td>0</td>\n",
       "      <td>0</td>\n",
       "      <td>0</td>\n",
       "      <td>0</td>\n",
       "      <td>0</td>\n",
       "    </tr>\n",
       "    <tr>\n",
       "      <th>...</th>\n",
       "      <td>...</td>\n",
       "      <td>...</td>\n",
       "      <td>...</td>\n",
       "      <td>...</td>\n",
       "      <td>...</td>\n",
       "      <td>...</td>\n",
       "      <td>...</td>\n",
       "      <td>...</td>\n",
       "      <td>...</td>\n",
       "      <td>...</td>\n",
       "      <td>...</td>\n",
       "      <td>...</td>\n",
       "      <td>...</td>\n",
       "      <td>...</td>\n",
       "      <td>...</td>\n",
       "      <td>...</td>\n",
       "      <td>...</td>\n",
       "      <td>...</td>\n",
       "      <td>...</td>\n",
       "      <td>...</td>\n",
       "      <td>...</td>\n",
       "    </tr>\n",
       "    <tr>\n",
       "      <th>27056</th>\n",
       "      <td>1</td>\n",
       "      <td>0</td>\n",
       "      <td>0</td>\n",
       "      <td>1</td>\n",
       "      <td>0</td>\n",
       "      <td>0</td>\n",
       "      <td>0</td>\n",
       "      <td>1</td>\n",
       "      <td>0</td>\n",
       "      <td>0</td>\n",
       "      <td>...</td>\n",
       "      <td>0</td>\n",
       "      <td>0</td>\n",
       "      <td>0</td>\n",
       "      <td>0</td>\n",
       "      <td>0</td>\n",
       "      <td>0</td>\n",
       "      <td>0</td>\n",
       "      <td>0</td>\n",
       "      <td>0</td>\n",
       "      <td>0</td>\n",
       "    </tr>\n",
       "    <tr>\n",
       "      <th>27062</th>\n",
       "      <td>0</td>\n",
       "      <td>0</td>\n",
       "      <td>0</td>\n",
       "      <td>0</td>\n",
       "      <td>1</td>\n",
       "      <td>0</td>\n",
       "      <td>0</td>\n",
       "      <td>0</td>\n",
       "      <td>0</td>\n",
       "      <td>0</td>\n",
       "      <td>...</td>\n",
       "      <td>0</td>\n",
       "      <td>0</td>\n",
       "      <td>0</td>\n",
       "      <td>0</td>\n",
       "      <td>1</td>\n",
       "      <td>0</td>\n",
       "      <td>0</td>\n",
       "      <td>0</td>\n",
       "      <td>0</td>\n",
       "      <td>0</td>\n",
       "    </tr>\n",
       "    <tr>\n",
       "      <th>27066</th>\n",
       "      <td>0</td>\n",
       "      <td>0</td>\n",
       "      <td>0</td>\n",
       "      <td>0</td>\n",
       "      <td>1</td>\n",
       "      <td>1</td>\n",
       "      <td>0</td>\n",
       "      <td>1</td>\n",
       "      <td>0</td>\n",
       "      <td>0</td>\n",
       "      <td>...</td>\n",
       "      <td>0</td>\n",
       "      <td>0</td>\n",
       "      <td>0</td>\n",
       "      <td>0</td>\n",
       "      <td>0</td>\n",
       "      <td>0</td>\n",
       "      <td>0</td>\n",
       "      <td>0</td>\n",
       "      <td>0</td>\n",
       "      <td>0</td>\n",
       "    </tr>\n",
       "    <tr>\n",
       "      <th>27071</th>\n",
       "      <td>1</td>\n",
       "      <td>1</td>\n",
       "      <td>0</td>\n",
       "      <td>0</td>\n",
       "      <td>0</td>\n",
       "      <td>1</td>\n",
       "      <td>0</td>\n",
       "      <td>0</td>\n",
       "      <td>0</td>\n",
       "      <td>0</td>\n",
       "      <td>...</td>\n",
       "      <td>0</td>\n",
       "      <td>0</td>\n",
       "      <td>0</td>\n",
       "      <td>0</td>\n",
       "      <td>0</td>\n",
       "      <td>0</td>\n",
       "      <td>0</td>\n",
       "      <td>0</td>\n",
       "      <td>0</td>\n",
       "      <td>0</td>\n",
       "    </tr>\n",
       "    <tr>\n",
       "      <th>27078</th>\n",
       "      <td>0</td>\n",
       "      <td>0</td>\n",
       "      <td>0</td>\n",
       "      <td>0</td>\n",
       "      <td>0</td>\n",
       "      <td>0</td>\n",
       "      <td>0</td>\n",
       "      <td>0</td>\n",
       "      <td>0</td>\n",
       "      <td>1</td>\n",
       "      <td>...</td>\n",
       "      <td>1</td>\n",
       "      <td>0</td>\n",
       "      <td>0</td>\n",
       "      <td>1</td>\n",
       "      <td>0</td>\n",
       "      <td>0</td>\n",
       "      <td>0</td>\n",
       "      <td>0</td>\n",
       "      <td>0</td>\n",
       "      <td>0</td>\n",
       "    </tr>\n",
       "  </tbody>\n",
       "</table>\n",
       "<p>5313 rows × 22 columns</p>\n",
       "</div>"
      ],
      "text/plain": [
       "       Action  Adventure  Animation  Biography  Comedy  Crime  Documentary  \\\n",
       "4           0          0          0          0       0      0            0   \n",
       "8           0          0          0          0       0      0            0   \n",
       "10          0          0          0          0       1      0            0   \n",
       "21          0          0          0          0       0      0            1   \n",
       "24          0          0          0          0       0      0            1   \n",
       "...       ...        ...        ...        ...     ...    ...          ...   \n",
       "27056       1          0          0          1       0      0            0   \n",
       "27062       0          0          0          0       1      0            0   \n",
       "27066       0          0          0          0       1      1            0   \n",
       "27071       1          1          0          0       0      1            0   \n",
       "27078       0          0          0          0       0      0            0   \n",
       "\n",
       "       Drama  Family  Fantasy  ...  Horror  Music  Musical  Mystery  Romance  \\\n",
       "4          1       0        0  ...       0      0        0        0        0   \n",
       "8          1       0        0  ...       0      0        0        0        0   \n",
       "10         1       1        0  ...       0      0        0        0        0   \n",
       "21         0       0        1  ...       1      0        0        0        0   \n",
       "24         0       0        0  ...       0      0        0        0        0   \n",
       "...      ...     ...      ...  ...     ...    ...      ...      ...      ...   \n",
       "27056      1       0        0  ...       0      0        0        0        0   \n",
       "27062      0       0        0  ...       0      0        0        0        1   \n",
       "27066      1       0        0  ...       0      0        0        0        0   \n",
       "27071      0       0        0  ...       0      0        0        0        0   \n",
       "27078      0       0        1  ...       1      0        0        1        0   \n",
       "\n",
       "       Sci-Fi  Sport  Thriller  War  Western  \n",
       "4           0      0         0    1        0  \n",
       "8           0      0         0    0        0  \n",
       "10          0      0         0    0        0  \n",
       "21          0      0         0    0        0  \n",
       "24          0      0         0    0        0  \n",
       "...       ...    ...       ...  ...      ...  \n",
       "27056       0      0         0    0        0  \n",
       "27062       0      0         0    0        0  \n",
       "27066       0      0         0    0        0  \n",
       "27071       0      0         0    0        0  \n",
       "27078       0      0         0    0        0  \n",
       "\n",
       "[5313 rows x 22 columns]"
      ]
     },
     "execution_count": 81,
     "metadata": {},
     "output_type": "execute_result"
    }
   ],
   "source": [
    "dfdummies2"
   ]
  },
  {
   "cell_type": "code",
   "execution_count": 82,
   "metadata": {},
   "outputs": [],
   "source": [
    "dfalgotest_act = pd.concat([dfdummies2,\n",
    "                            algotest2],\n",
    "                            axis=1)"
   ]
  },
  {
   "cell_type": "code",
   "execution_count": 83,
   "metadata": {},
   "outputs": [
    {
     "data": {
      "text/html": [
       "<div>\n",
       "<style scoped>\n",
       "    .dataframe tbody tr th:only-of-type {\n",
       "        vertical-align: middle;\n",
       "    }\n",
       "\n",
       "    .dataframe tbody tr th {\n",
       "        vertical-align: top;\n",
       "    }\n",
       "\n",
       "    .dataframe thead th {\n",
       "        text-align: right;\n",
       "    }\n",
       "</style>\n",
       "<table border=\"1\" class=\"dataframe\">\n",
       "  <thead>\n",
       "    <tr style=\"text-align: right;\">\n",
       "      <th></th>\n",
       "      <th>Action</th>\n",
       "      <th>Adventure</th>\n",
       "      <th>Animation</th>\n",
       "      <th>Biography</th>\n",
       "      <th>Comedy</th>\n",
       "      <th>Crime</th>\n",
       "      <th>Documentary</th>\n",
       "      <th>Drama</th>\n",
       "      <th>Family</th>\n",
       "      <th>Fantasy</th>\n",
       "      <th>...</th>\n",
       "      <th>nm9602952</th>\n",
       "      <th>nm9665672</th>\n",
       "      <th>nm9760132</th>\n",
       "      <th>nm9858131</th>\n",
       "      <th>nm9862858</th>\n",
       "      <th>nm9877392</th>\n",
       "      <th>nm9903838</th>\n",
       "      <th>nm9912940</th>\n",
       "      <th>nm9913973</th>\n",
       "      <th>nm9930181</th>\n",
       "    </tr>\n",
       "  </thead>\n",
       "  <tbody>\n",
       "    <tr>\n",
       "      <th>4</th>\n",
       "      <td>0</td>\n",
       "      <td>0</td>\n",
       "      <td>0</td>\n",
       "      <td>0</td>\n",
       "      <td>0</td>\n",
       "      <td>0</td>\n",
       "      <td>0</td>\n",
       "      <td>1</td>\n",
       "      <td>0</td>\n",
       "      <td>0</td>\n",
       "      <td>...</td>\n",
       "      <td>0</td>\n",
       "      <td>0</td>\n",
       "      <td>0</td>\n",
       "      <td>0</td>\n",
       "      <td>0</td>\n",
       "      <td>0</td>\n",
       "      <td>0</td>\n",
       "      <td>0</td>\n",
       "      <td>0</td>\n",
       "      <td>0</td>\n",
       "    </tr>\n",
       "    <tr>\n",
       "      <th>8</th>\n",
       "      <td>0</td>\n",
       "      <td>0</td>\n",
       "      <td>0</td>\n",
       "      <td>0</td>\n",
       "      <td>0</td>\n",
       "      <td>0</td>\n",
       "      <td>0</td>\n",
       "      <td>1</td>\n",
       "      <td>0</td>\n",
       "      <td>0</td>\n",
       "      <td>...</td>\n",
       "      <td>0</td>\n",
       "      <td>0</td>\n",
       "      <td>0</td>\n",
       "      <td>0</td>\n",
       "      <td>0</td>\n",
       "      <td>0</td>\n",
       "      <td>0</td>\n",
       "      <td>0</td>\n",
       "      <td>0</td>\n",
       "      <td>0</td>\n",
       "    </tr>\n",
       "    <tr>\n",
       "      <th>10</th>\n",
       "      <td>0</td>\n",
       "      <td>0</td>\n",
       "      <td>0</td>\n",
       "      <td>0</td>\n",
       "      <td>1</td>\n",
       "      <td>0</td>\n",
       "      <td>0</td>\n",
       "      <td>1</td>\n",
       "      <td>1</td>\n",
       "      <td>0</td>\n",
       "      <td>...</td>\n",
       "      <td>0</td>\n",
       "      <td>0</td>\n",
       "      <td>0</td>\n",
       "      <td>0</td>\n",
       "      <td>0</td>\n",
       "      <td>0</td>\n",
       "      <td>0</td>\n",
       "      <td>0</td>\n",
       "      <td>0</td>\n",
       "      <td>0</td>\n",
       "    </tr>\n",
       "    <tr>\n",
       "      <th>21</th>\n",
       "      <td>0</td>\n",
       "      <td>0</td>\n",
       "      <td>0</td>\n",
       "      <td>0</td>\n",
       "      <td>0</td>\n",
       "      <td>0</td>\n",
       "      <td>1</td>\n",
       "      <td>0</td>\n",
       "      <td>0</td>\n",
       "      <td>1</td>\n",
       "      <td>...</td>\n",
       "      <td>0</td>\n",
       "      <td>0</td>\n",
       "      <td>0</td>\n",
       "      <td>0</td>\n",
       "      <td>0</td>\n",
       "      <td>0</td>\n",
       "      <td>0</td>\n",
       "      <td>0</td>\n",
       "      <td>0</td>\n",
       "      <td>0</td>\n",
       "    </tr>\n",
       "    <tr>\n",
       "      <th>24</th>\n",
       "      <td>0</td>\n",
       "      <td>0</td>\n",
       "      <td>0</td>\n",
       "      <td>0</td>\n",
       "      <td>0</td>\n",
       "      <td>0</td>\n",
       "      <td>1</td>\n",
       "      <td>0</td>\n",
       "      <td>0</td>\n",
       "      <td>0</td>\n",
       "      <td>...</td>\n",
       "      <td>0</td>\n",
       "      <td>0</td>\n",
       "      <td>0</td>\n",
       "      <td>0</td>\n",
       "      <td>0</td>\n",
       "      <td>0</td>\n",
       "      <td>0</td>\n",
       "      <td>0</td>\n",
       "      <td>0</td>\n",
       "      <td>0</td>\n",
       "    </tr>\n",
       "    <tr>\n",
       "      <th>...</th>\n",
       "      <td>...</td>\n",
       "      <td>...</td>\n",
       "      <td>...</td>\n",
       "      <td>...</td>\n",
       "      <td>...</td>\n",
       "      <td>...</td>\n",
       "      <td>...</td>\n",
       "      <td>...</td>\n",
       "      <td>...</td>\n",
       "      <td>...</td>\n",
       "      <td>...</td>\n",
       "      <td>...</td>\n",
       "      <td>...</td>\n",
       "      <td>...</td>\n",
       "      <td>...</td>\n",
       "      <td>...</td>\n",
       "      <td>...</td>\n",
       "      <td>...</td>\n",
       "      <td>...</td>\n",
       "      <td>...</td>\n",
       "      <td>...</td>\n",
       "    </tr>\n",
       "    <tr>\n",
       "      <th>27056</th>\n",
       "      <td>1</td>\n",
       "      <td>0</td>\n",
       "      <td>0</td>\n",
       "      <td>1</td>\n",
       "      <td>0</td>\n",
       "      <td>0</td>\n",
       "      <td>0</td>\n",
       "      <td>1</td>\n",
       "      <td>0</td>\n",
       "      <td>0</td>\n",
       "      <td>...</td>\n",
       "      <td>0</td>\n",
       "      <td>0</td>\n",
       "      <td>0</td>\n",
       "      <td>0</td>\n",
       "      <td>0</td>\n",
       "      <td>0</td>\n",
       "      <td>0</td>\n",
       "      <td>0</td>\n",
       "      <td>0</td>\n",
       "      <td>0</td>\n",
       "    </tr>\n",
       "    <tr>\n",
       "      <th>27062</th>\n",
       "      <td>0</td>\n",
       "      <td>0</td>\n",
       "      <td>0</td>\n",
       "      <td>0</td>\n",
       "      <td>1</td>\n",
       "      <td>0</td>\n",
       "      <td>0</td>\n",
       "      <td>0</td>\n",
       "      <td>0</td>\n",
       "      <td>0</td>\n",
       "      <td>...</td>\n",
       "      <td>0</td>\n",
       "      <td>0</td>\n",
       "      <td>0</td>\n",
       "      <td>0</td>\n",
       "      <td>0</td>\n",
       "      <td>0</td>\n",
       "      <td>0</td>\n",
       "      <td>0</td>\n",
       "      <td>0</td>\n",
       "      <td>0</td>\n",
       "    </tr>\n",
       "    <tr>\n",
       "      <th>27066</th>\n",
       "      <td>0</td>\n",
       "      <td>0</td>\n",
       "      <td>0</td>\n",
       "      <td>0</td>\n",
       "      <td>1</td>\n",
       "      <td>1</td>\n",
       "      <td>0</td>\n",
       "      <td>1</td>\n",
       "      <td>0</td>\n",
       "      <td>0</td>\n",
       "      <td>...</td>\n",
       "      <td>0</td>\n",
       "      <td>0</td>\n",
       "      <td>0</td>\n",
       "      <td>0</td>\n",
       "      <td>0</td>\n",
       "      <td>0</td>\n",
       "      <td>0</td>\n",
       "      <td>0</td>\n",
       "      <td>0</td>\n",
       "      <td>0</td>\n",
       "    </tr>\n",
       "    <tr>\n",
       "      <th>27071</th>\n",
       "      <td>1</td>\n",
       "      <td>1</td>\n",
       "      <td>0</td>\n",
       "      <td>0</td>\n",
       "      <td>0</td>\n",
       "      <td>1</td>\n",
       "      <td>0</td>\n",
       "      <td>0</td>\n",
       "      <td>0</td>\n",
       "      <td>0</td>\n",
       "      <td>...</td>\n",
       "      <td>0</td>\n",
       "      <td>0</td>\n",
       "      <td>0</td>\n",
       "      <td>0</td>\n",
       "      <td>0</td>\n",
       "      <td>0</td>\n",
       "      <td>0</td>\n",
       "      <td>0</td>\n",
       "      <td>0</td>\n",
       "      <td>0</td>\n",
       "    </tr>\n",
       "    <tr>\n",
       "      <th>27078</th>\n",
       "      <td>0</td>\n",
       "      <td>0</td>\n",
       "      <td>0</td>\n",
       "      <td>0</td>\n",
       "      <td>0</td>\n",
       "      <td>0</td>\n",
       "      <td>0</td>\n",
       "      <td>0</td>\n",
       "      <td>0</td>\n",
       "      <td>1</td>\n",
       "      <td>...</td>\n",
       "      <td>0</td>\n",
       "      <td>0</td>\n",
       "      <td>0</td>\n",
       "      <td>0</td>\n",
       "      <td>0</td>\n",
       "      <td>0</td>\n",
       "      <td>0</td>\n",
       "      <td>0</td>\n",
       "      <td>0</td>\n",
       "      <td>0</td>\n",
       "    </tr>\n",
       "  </tbody>\n",
       "</table>\n",
       "<p>5313 rows × 2492 columns</p>\n",
       "</div>"
      ],
      "text/plain": [
       "       Action  Adventure  Animation  Biography  Comedy  Crime  Documentary  \\\n",
       "4           0          0          0          0       0      0            0   \n",
       "8           0          0          0          0       0      0            0   \n",
       "10          0          0          0          0       1      0            0   \n",
       "21          0          0          0          0       0      0            1   \n",
       "24          0          0          0          0       0      0            1   \n",
       "...       ...        ...        ...        ...     ...    ...          ...   \n",
       "27056       1          0          0          1       0      0            0   \n",
       "27062       0          0          0          0       1      0            0   \n",
       "27066       0          0          0          0       1      1            0   \n",
       "27071       1          1          0          0       0      1            0   \n",
       "27078       0          0          0          0       0      0            0   \n",
       "\n",
       "       Drama  Family  Fantasy  ...  nm9602952  nm9665672  nm9760132  \\\n",
       "4          1       0        0  ...          0          0          0   \n",
       "8          1       0        0  ...          0          0          0   \n",
       "10         1       1        0  ...          0          0          0   \n",
       "21         0       0        1  ...          0          0          0   \n",
       "24         0       0        0  ...          0          0          0   \n",
       "...      ...     ...      ...  ...        ...        ...        ...   \n",
       "27056      1       0        0  ...          0          0          0   \n",
       "27062      0       0        0  ...          0          0          0   \n",
       "27066      1       0        0  ...          0          0          0   \n",
       "27071      0       0        0  ...          0          0          0   \n",
       "27078      0       0        1  ...          0          0          0   \n",
       "\n",
       "       nm9858131  nm9862858  nm9877392  nm9903838  nm9912940  nm9913973  \\\n",
       "4              0          0          0          0          0          0   \n",
       "8              0          0          0          0          0          0   \n",
       "10             0          0          0          0          0          0   \n",
       "21             0          0          0          0          0          0   \n",
       "24             0          0          0          0          0          0   \n",
       "...          ...        ...        ...        ...        ...        ...   \n",
       "27056          0          0          0          0          0          0   \n",
       "27062          0          0          0          0          0          0   \n",
       "27066          0          0          0          0          0          0   \n",
       "27071          0          0          0          0          0          0   \n",
       "27078          0          0          0          0          0          0   \n",
       "\n",
       "       nm9930181  \n",
       "4              0  \n",
       "8              0  \n",
       "10             0  \n",
       "21             0  \n",
       "24             0  \n",
       "...          ...  \n",
       "27056          0  \n",
       "27062          0  \n",
       "27066          0  \n",
       "27071          0  \n",
       "27078          0  \n",
       "\n",
       "[5313 rows x 2492 columns]"
      ]
     },
     "execution_count": 83,
     "metadata": {},
     "output_type": "execute_result"
    }
   ],
   "source": [
    "dfalgotest_act"
   ]
  },
  {
   "cell_type": "code",
   "execution_count": 87,
   "metadata": {},
   "outputs": [],
   "source": [
    "dfalgotest_act2 = pd.concat([dfgroup,\n",
    "                             dfalgotest_act,\n",
    "                             ],axis=1)"
   ]
  },
  {
   "cell_type": "code",
   "execution_count": 11,
   "metadata": {},
   "outputs": [],
   "source": [
    "test = pd.concat([dfgroup,\n",
    "          dfdummies],\n",
    "          axis=1)"
   ]
  },
  {
   "cell_type": "code",
   "execution_count": 12,
   "metadata": {},
   "outputs": [
    {
     "data": {
      "text/html": [
       "<div>\n",
       "<style scoped>\n",
       "    .dataframe tbody tr th:only-of-type {\n",
       "        vertical-align: middle;\n",
       "    }\n",
       "\n",
       "    .dataframe tbody tr th {\n",
       "        vertical-align: top;\n",
       "    }\n",
       "\n",
       "    .dataframe thead th {\n",
       "        text-align: right;\n",
       "    }\n",
       "</style>\n",
       "<table border=\"1\" class=\"dataframe\">\n",
       "  <thead>\n",
       "    <tr style=\"text-align: right;\">\n",
       "      <th></th>\n",
       "      <th>tconst</th>\n",
       "      <th>startYear</th>\n",
       "      <th>nconst</th>\n",
       "      <th>runtimeMinutes</th>\n",
       "      <th>genres</th>\n",
       "      <th>averageRating</th>\n",
       "      <th>numVotes</th>\n",
       "      <th>title</th>\n",
       "      <th>Action</th>\n",
       "      <th>Adventure</th>\n",
       "      <th>...</th>\n",
       "      <th>Music</th>\n",
       "      <th>Musical</th>\n",
       "      <th>Mystery</th>\n",
       "      <th>News</th>\n",
       "      <th>Romance</th>\n",
       "      <th>Sci-Fi</th>\n",
       "      <th>Sport</th>\n",
       "      <th>Thriller</th>\n",
       "      <th>War</th>\n",
       "      <th>Western</th>\n",
       "    </tr>\n",
       "  </thead>\n",
       "  <tbody>\n",
       "    <tr>\n",
       "      <th>0</th>\n",
       "      <td>tt0004972</td>\n",
       "      <td>1915</td>\n",
       "      <td>[nm0000428, nm0910400, nm0178270, nm0550615, n...</td>\n",
       "      <td>195.0</td>\n",
       "      <td>Drama,War</td>\n",
       "      <td>6.2</td>\n",
       "      <td>25475</td>\n",
       "      <td>Naissance d'une nation</td>\n",
       "      <td>0</td>\n",
       "      <td>0</td>\n",
       "      <td>...</td>\n",
       "      <td>0</td>\n",
       "      <td>0</td>\n",
       "      <td>0</td>\n",
       "      <td>0</td>\n",
       "      <td>0</td>\n",
       "      <td>0</td>\n",
       "      <td>0</td>\n",
       "      <td>0</td>\n",
       "      <td>1</td>\n",
       "      <td>0</td>\n",
       "    </tr>\n",
       "    <tr>\n",
       "      <th>1</th>\n",
       "      <td>tt0006864</td>\n",
       "      <td>1916</td>\n",
       "      <td>[nm0366008, nm0000428, nm0550615, nm0001273, n...</td>\n",
       "      <td>163.0</td>\n",
       "      <td>Drama,History</td>\n",
       "      <td>7.7</td>\n",
       "      <td>16121</td>\n",
       "      <td>Intolérance</td>\n",
       "      <td>0</td>\n",
       "      <td>0</td>\n",
       "      <td>...</td>\n",
       "      <td>0</td>\n",
       "      <td>0</td>\n",
       "      <td>0</td>\n",
       "      <td>0</td>\n",
       "      <td>0</td>\n",
       "      <td>0</td>\n",
       "      <td>0</td>\n",
       "      <td>0</td>\n",
       "      <td>0</td>\n",
       "      <td>0</td>\n",
       "    </tr>\n",
       "    <tr>\n",
       "      <th>2</th>\n",
       "      <td>tt0012349</td>\n",
       "      <td>1921</td>\n",
       "      <td>[nm0000122, nm0701012, nm0074788, nm0080930, n...</td>\n",
       "      <td>68.0</td>\n",
       "      <td>Comedy,Drama,Family</td>\n",
       "      <td>8.3</td>\n",
       "      <td>129088</td>\n",
       "      <td>Le Kid</td>\n",
       "      <td>0</td>\n",
       "      <td>0</td>\n",
       "      <td>...</td>\n",
       "      <td>0</td>\n",
       "      <td>0</td>\n",
       "      <td>0</td>\n",
       "      <td>0</td>\n",
       "      <td>0</td>\n",
       "      <td>0</td>\n",
       "      <td>0</td>\n",
       "      <td>0</td>\n",
       "      <td>0</td>\n",
       "      <td>0</td>\n",
       "    </tr>\n",
       "    <tr>\n",
       "      <th>3</th>\n",
       "      <td>tt0013257</td>\n",
       "      <td>1922</td>\n",
       "      <td>[nm0690702, nm0159725, nm0159770, nm0669922]</td>\n",
       "      <td>91.0</td>\n",
       "      <td>Documentary,Fantasy,Horror</td>\n",
       "      <td>7.6</td>\n",
       "      <td>15426</td>\n",
       "      <td>La sorcellerie à travers les âges</td>\n",
       "      <td>0</td>\n",
       "      <td>0</td>\n",
       "      <td>...</td>\n",
       "      <td>0</td>\n",
       "      <td>0</td>\n",
       "      <td>0</td>\n",
       "      <td>0</td>\n",
       "      <td>0</td>\n",
       "      <td>0</td>\n",
       "      <td>0</td>\n",
       "      <td>0</td>\n",
       "      <td>0</td>\n",
       "      <td>0</td>\n",
       "    </tr>\n",
       "    <tr>\n",
       "      <th>4</th>\n",
       "      <td>tt0013427</td>\n",
       "      <td>1922</td>\n",
       "      <td>[nm1354245, nm0638725, nm0192066, nm0020180, n...</td>\n",
       "      <td>78.0</td>\n",
       "      <td>Documentary</td>\n",
       "      <td>7.6</td>\n",
       "      <td>12886</td>\n",
       "      <td>Nanouk l'Esquimau</td>\n",
       "      <td>0</td>\n",
       "      <td>0</td>\n",
       "      <td>...</td>\n",
       "      <td>0</td>\n",
       "      <td>0</td>\n",
       "      <td>0</td>\n",
       "      <td>0</td>\n",
       "      <td>0</td>\n",
       "      <td>0</td>\n",
       "      <td>0</td>\n",
       "      <td>0</td>\n",
       "      <td>0</td>\n",
       "      <td>0</td>\n",
       "    </tr>\n",
       "    <tr>\n",
       "      <th>...</th>\n",
       "      <td>...</td>\n",
       "      <td>...</td>\n",
       "      <td>...</td>\n",
       "      <td>...</td>\n",
       "      <td>...</td>\n",
       "      <td>...</td>\n",
       "      <td>...</td>\n",
       "      <td>...</td>\n",
       "      <td>...</td>\n",
       "      <td>...</td>\n",
       "      <td>...</td>\n",
       "      <td>...</td>\n",
       "      <td>...</td>\n",
       "      <td>...</td>\n",
       "      <td>...</td>\n",
       "      <td>...</td>\n",
       "      <td>...</td>\n",
       "      <td>...</td>\n",
       "      <td>...</td>\n",
       "      <td>...</td>\n",
       "      <td>...</td>\n",
       "    </tr>\n",
       "    <tr>\n",
       "      <th>5418</th>\n",
       "      <td>tt9866072</td>\n",
       "      <td>2020</td>\n",
       "      <td>[nm0004920, nm0925870, nm0155693, nm0731075, n...</td>\n",
       "      <td>104.0</td>\n",
       "      <td>Comedy,Romance</td>\n",
       "      <td>6.1</td>\n",
       "      <td>71605</td>\n",
       "      <td>Holidate</td>\n",
       "      <td>0</td>\n",
       "      <td>0</td>\n",
       "      <td>...</td>\n",
       "      <td>0</td>\n",
       "      <td>0</td>\n",
       "      <td>0</td>\n",
       "      <td>0</td>\n",
       "      <td>1</td>\n",
       "      <td>0</td>\n",
       "      <td>0</td>\n",
       "      <td>0</td>\n",
       "      <td>0</td>\n",
       "      <td>0</td>\n",
       "    </tr>\n",
       "    <tr>\n",
       "      <th>5419</th>\n",
       "      <td>tt9883832</td>\n",
       "      <td>2022</td>\n",
       "      <td>[nm0605137]</td>\n",
       "      <td>135.0</td>\n",
       "      <td>Biography,Documentary,History</td>\n",
       "      <td>7.7</td>\n",
       "      <td>11140</td>\n",
       "      <td>Moonage Daydream</td>\n",
       "      <td>0</td>\n",
       "      <td>0</td>\n",
       "      <td>...</td>\n",
       "      <td>0</td>\n",
       "      <td>0</td>\n",
       "      <td>0</td>\n",
       "      <td>0</td>\n",
       "      <td>0</td>\n",
       "      <td>0</td>\n",
       "      <td>0</td>\n",
       "      <td>0</td>\n",
       "      <td>0</td>\n",
       "      <td>0</td>\n",
       "    </tr>\n",
       "    <tr>\n",
       "      <th>5420</th>\n",
       "      <td>tt9893250</td>\n",
       "      <td>2020</td>\n",
       "      <td>[nm0001848, nm0683253, nm0227759, nm2128335, n...</td>\n",
       "      <td>118.0</td>\n",
       "      <td>Comedy,Crime,Drama</td>\n",
       "      <td>6.3</td>\n",
       "      <td>137616</td>\n",
       "      <td>I Care a Lot</td>\n",
       "      <td>0</td>\n",
       "      <td>0</td>\n",
       "      <td>...</td>\n",
       "      <td>0</td>\n",
       "      <td>0</td>\n",
       "      <td>0</td>\n",
       "      <td>0</td>\n",
       "      <td>0</td>\n",
       "      <td>0</td>\n",
       "      <td>0</td>\n",
       "      <td>0</td>\n",
       "      <td>0</td>\n",
       "      <td>0</td>\n",
       "    </tr>\n",
       "    <tr>\n",
       "      <th>5421</th>\n",
       "      <td>tt9900782</td>\n",
       "      <td>2019</td>\n",
       "      <td>[nm1230844, nm1912683, nm6998719, nm10183124, ...</td>\n",
       "      <td>145.0</td>\n",
       "      <td>Action,Adventure,Crime</td>\n",
       "      <td>8.4</td>\n",
       "      <td>35885</td>\n",
       "      <td>Kaithi</td>\n",
       "      <td>1</td>\n",
       "      <td>1</td>\n",
       "      <td>...</td>\n",
       "      <td>0</td>\n",
       "      <td>0</td>\n",
       "      <td>0</td>\n",
       "      <td>0</td>\n",
       "      <td>0</td>\n",
       "      <td>0</td>\n",
       "      <td>0</td>\n",
       "      <td>0</td>\n",
       "      <td>0</td>\n",
       "      <td>0</td>\n",
       "    </tr>\n",
       "    <tr>\n",
       "      <th>5422</th>\n",
       "      <td>tt9907782</td>\n",
       "      <td>2021</td>\n",
       "      <td>[nm0717709, nm0677944, nm1193346, nm2933542, n...</td>\n",
       "      <td>111.0</td>\n",
       "      <td>Fantasy,Horror,Mystery</td>\n",
       "      <td>6.2</td>\n",
       "      <td>13097</td>\n",
       "      <td>Eight for Silver</td>\n",
       "      <td>0</td>\n",
       "      <td>0</td>\n",
       "      <td>...</td>\n",
       "      <td>0</td>\n",
       "      <td>0</td>\n",
       "      <td>1</td>\n",
       "      <td>0</td>\n",
       "      <td>0</td>\n",
       "      <td>0</td>\n",
       "      <td>0</td>\n",
       "      <td>0</td>\n",
       "      <td>0</td>\n",
       "      <td>0</td>\n",
       "    </tr>\n",
       "  </tbody>\n",
       "</table>\n",
       "<p>5423 rows × 31 columns</p>\n",
       "</div>"
      ],
      "text/plain": [
       "         tconst  startYear                                             nconst  \\\n",
       "0     tt0004972       1915  [nm0000428, nm0910400, nm0178270, nm0550615, n...   \n",
       "1     tt0006864       1916  [nm0366008, nm0000428, nm0550615, nm0001273, n...   \n",
       "2     tt0012349       1921  [nm0000122, nm0701012, nm0074788, nm0080930, n...   \n",
       "3     tt0013257       1922       [nm0690702, nm0159725, nm0159770, nm0669922]   \n",
       "4     tt0013427       1922  [nm1354245, nm0638725, nm0192066, nm0020180, n...   \n",
       "...         ...        ...                                                ...   \n",
       "5418  tt9866072       2020  [nm0004920, nm0925870, nm0155693, nm0731075, n...   \n",
       "5419  tt9883832       2022                                        [nm0605137]   \n",
       "5420  tt9893250       2020  [nm0001848, nm0683253, nm0227759, nm2128335, n...   \n",
       "5421  tt9900782       2019  [nm1230844, nm1912683, nm6998719, nm10183124, ...   \n",
       "5422  tt9907782       2021  [nm0717709, nm0677944, nm1193346, nm2933542, n...   \n",
       "\n",
       "      runtimeMinutes                         genres  averageRating  numVotes  \\\n",
       "0              195.0                      Drama,War            6.2     25475   \n",
       "1              163.0                  Drama,History            7.7     16121   \n",
       "2               68.0            Comedy,Drama,Family            8.3    129088   \n",
       "3               91.0     Documentary,Fantasy,Horror            7.6     15426   \n",
       "4               78.0                    Documentary            7.6     12886   \n",
       "...              ...                            ...            ...       ...   \n",
       "5418           104.0                 Comedy,Romance            6.1     71605   \n",
       "5419           135.0  Biography,Documentary,History            7.7     11140   \n",
       "5420           118.0             Comedy,Crime,Drama            6.3    137616   \n",
       "5421           145.0         Action,Adventure,Crime            8.4     35885   \n",
       "5422           111.0         Fantasy,Horror,Mystery            6.2     13097   \n",
       "\n",
       "                                  title  Action  Adventure  ...  Music  \\\n",
       "0                Naissance d'une nation       0          0  ...      0   \n",
       "1                           Intolérance       0          0  ...      0   \n",
       "2                                Le Kid       0          0  ...      0   \n",
       "3     La sorcellerie à travers les âges       0          0  ...      0   \n",
       "4                     Nanouk l'Esquimau       0          0  ...      0   \n",
       "...                                 ...     ...        ...  ...    ...   \n",
       "5418                           Holidate       0          0  ...      0   \n",
       "5419                   Moonage Daydream       0          0  ...      0   \n",
       "5420                       I Care a Lot       0          0  ...      0   \n",
       "5421                             Kaithi       1          1  ...      0   \n",
       "5422                   Eight for Silver       0          0  ...      0   \n",
       "\n",
       "      Musical  Mystery  News  Romance  Sci-Fi  Sport  Thriller  War  Western  \n",
       "0           0        0     0        0       0      0         0    1        0  \n",
       "1           0        0     0        0       0      0         0    0        0  \n",
       "2           0        0     0        0       0      0         0    0        0  \n",
       "3           0        0     0        0       0      0         0    0        0  \n",
       "4           0        0     0        0       0      0         0    0        0  \n",
       "...       ...      ...   ...      ...     ...    ...       ...  ...      ...  \n",
       "5418        0        0     0        1       0      0         0    0        0  \n",
       "5419        0        0     0        0       0      0         0    0        0  \n",
       "5420        0        0     0        0       0      0         0    0        0  \n",
       "5421        0        0     0        0       0      0         0    0        0  \n",
       "5422        0        1     0        0       0      0         0    0        0  \n",
       "\n",
       "[5423 rows x 31 columns]"
      ]
     },
     "execution_count": 12,
     "metadata": {},
     "output_type": "execute_result"
    }
   ],
   "source": [
    "test"
   ]
  },
  {
   "cell_type": "code",
   "execution_count": 20,
   "metadata": {},
   "outputs": [],
   "source": [
    "dfdummies2 = test['nconst'].str.get_dummies(sep=\",\").add_prefix('nconst_')"
   ]
  },
  {
   "cell_type": "code",
   "execution_count": 21,
   "metadata": {},
   "outputs": [
    {
     "data": {
      "text/html": [
       "<div>\n",
       "<style scoped>\n",
       "    .dataframe tbody tr th:only-of-type {\n",
       "        vertical-align: middle;\n",
       "    }\n",
       "\n",
       "    .dataframe tbody tr th {\n",
       "        vertical-align: top;\n",
       "    }\n",
       "\n",
       "    .dataframe thead th {\n",
       "        text-align: right;\n",
       "    }\n",
       "</style>\n",
       "<table border=\"1\" class=\"dataframe\">\n",
       "  <thead>\n",
       "    <tr style=\"text-align: right;\">\n",
       "      <th></th>\n",
       "      <th>nconst_ 'nm0000001'</th>\n",
       "      <th>nconst_ 'nm0000002'</th>\n",
       "      <th>nconst_ 'nm0000002']</th>\n",
       "      <th>nconst_ 'nm0000003'</th>\n",
       "      <th>nconst_ 'nm0000004']</th>\n",
       "      <th>nconst_ 'nm0000005'</th>\n",
       "      <th>nconst_ 'nm0000006'</th>\n",
       "      <th>nconst_ 'nm0000006']</th>\n",
       "      <th>nconst_ 'nm0000007'</th>\n",
       "      <th>nconst_ 'nm0000008'</th>\n",
       "      <th>...</th>\n",
       "      <th>nconst_['nm8923002'</th>\n",
       "      <th>nconst_['nm8927531'</th>\n",
       "      <th>nconst_['nm8958770'</th>\n",
       "      <th>nconst_['nm9176319'</th>\n",
       "      <th>nconst_['nm9242868'</th>\n",
       "      <th>nconst_['nm9393813'</th>\n",
       "      <th>nconst_['nm9556770'</th>\n",
       "      <th>nconst_['nm9576872'</th>\n",
       "      <th>nconst_['nm9654611'</th>\n",
       "      <th>nconst_['nm9665672'</th>\n",
       "    </tr>\n",
       "  </thead>\n",
       "  <tbody>\n",
       "    <tr>\n",
       "      <th>0</th>\n",
       "      <td>0</td>\n",
       "      <td>0</td>\n",
       "      <td>0</td>\n",
       "      <td>0</td>\n",
       "      <td>0</td>\n",
       "      <td>0</td>\n",
       "      <td>0</td>\n",
       "      <td>0</td>\n",
       "      <td>0</td>\n",
       "      <td>0</td>\n",
       "      <td>...</td>\n",
       "      <td>0</td>\n",
       "      <td>0</td>\n",
       "      <td>0</td>\n",
       "      <td>0</td>\n",
       "      <td>0</td>\n",
       "      <td>0</td>\n",
       "      <td>0</td>\n",
       "      <td>0</td>\n",
       "      <td>0</td>\n",
       "      <td>0</td>\n",
       "    </tr>\n",
       "    <tr>\n",
       "      <th>1</th>\n",
       "      <td>0</td>\n",
       "      <td>0</td>\n",
       "      <td>0</td>\n",
       "      <td>0</td>\n",
       "      <td>0</td>\n",
       "      <td>0</td>\n",
       "      <td>0</td>\n",
       "      <td>0</td>\n",
       "      <td>0</td>\n",
       "      <td>0</td>\n",
       "      <td>...</td>\n",
       "      <td>0</td>\n",
       "      <td>0</td>\n",
       "      <td>0</td>\n",
       "      <td>0</td>\n",
       "      <td>0</td>\n",
       "      <td>0</td>\n",
       "      <td>0</td>\n",
       "      <td>0</td>\n",
       "      <td>0</td>\n",
       "      <td>0</td>\n",
       "    </tr>\n",
       "    <tr>\n",
       "      <th>2</th>\n",
       "      <td>0</td>\n",
       "      <td>0</td>\n",
       "      <td>0</td>\n",
       "      <td>0</td>\n",
       "      <td>0</td>\n",
       "      <td>0</td>\n",
       "      <td>0</td>\n",
       "      <td>0</td>\n",
       "      <td>0</td>\n",
       "      <td>0</td>\n",
       "      <td>...</td>\n",
       "      <td>0</td>\n",
       "      <td>0</td>\n",
       "      <td>0</td>\n",
       "      <td>0</td>\n",
       "      <td>0</td>\n",
       "      <td>0</td>\n",
       "      <td>0</td>\n",
       "      <td>0</td>\n",
       "      <td>0</td>\n",
       "      <td>0</td>\n",
       "    </tr>\n",
       "    <tr>\n",
       "      <th>3</th>\n",
       "      <td>0</td>\n",
       "      <td>0</td>\n",
       "      <td>0</td>\n",
       "      <td>0</td>\n",
       "      <td>0</td>\n",
       "      <td>0</td>\n",
       "      <td>0</td>\n",
       "      <td>0</td>\n",
       "      <td>0</td>\n",
       "      <td>0</td>\n",
       "      <td>...</td>\n",
       "      <td>0</td>\n",
       "      <td>0</td>\n",
       "      <td>0</td>\n",
       "      <td>0</td>\n",
       "      <td>0</td>\n",
       "      <td>0</td>\n",
       "      <td>0</td>\n",
       "      <td>0</td>\n",
       "      <td>0</td>\n",
       "      <td>0</td>\n",
       "    </tr>\n",
       "    <tr>\n",
       "      <th>4</th>\n",
       "      <td>0</td>\n",
       "      <td>0</td>\n",
       "      <td>0</td>\n",
       "      <td>0</td>\n",
       "      <td>0</td>\n",
       "      <td>0</td>\n",
       "      <td>0</td>\n",
       "      <td>0</td>\n",
       "      <td>0</td>\n",
       "      <td>0</td>\n",
       "      <td>...</td>\n",
       "      <td>0</td>\n",
       "      <td>0</td>\n",
       "      <td>0</td>\n",
       "      <td>0</td>\n",
       "      <td>0</td>\n",
       "      <td>0</td>\n",
       "      <td>0</td>\n",
       "      <td>0</td>\n",
       "      <td>0</td>\n",
       "      <td>0</td>\n",
       "    </tr>\n",
       "    <tr>\n",
       "      <th>...</th>\n",
       "      <td>...</td>\n",
       "      <td>...</td>\n",
       "      <td>...</td>\n",
       "      <td>...</td>\n",
       "      <td>...</td>\n",
       "      <td>...</td>\n",
       "      <td>...</td>\n",
       "      <td>...</td>\n",
       "      <td>...</td>\n",
       "      <td>...</td>\n",
       "      <td>...</td>\n",
       "      <td>...</td>\n",
       "      <td>...</td>\n",
       "      <td>...</td>\n",
       "      <td>...</td>\n",
       "      <td>...</td>\n",
       "      <td>...</td>\n",
       "      <td>...</td>\n",
       "      <td>...</td>\n",
       "      <td>...</td>\n",
       "      <td>...</td>\n",
       "    </tr>\n",
       "    <tr>\n",
       "      <th>5418</th>\n",
       "      <td>0</td>\n",
       "      <td>0</td>\n",
       "      <td>0</td>\n",
       "      <td>0</td>\n",
       "      <td>0</td>\n",
       "      <td>0</td>\n",
       "      <td>0</td>\n",
       "      <td>0</td>\n",
       "      <td>0</td>\n",
       "      <td>0</td>\n",
       "      <td>...</td>\n",
       "      <td>0</td>\n",
       "      <td>0</td>\n",
       "      <td>0</td>\n",
       "      <td>0</td>\n",
       "      <td>0</td>\n",
       "      <td>0</td>\n",
       "      <td>0</td>\n",
       "      <td>0</td>\n",
       "      <td>0</td>\n",
       "      <td>0</td>\n",
       "    </tr>\n",
       "    <tr>\n",
       "      <th>5419</th>\n",
       "      <td>0</td>\n",
       "      <td>0</td>\n",
       "      <td>0</td>\n",
       "      <td>0</td>\n",
       "      <td>0</td>\n",
       "      <td>0</td>\n",
       "      <td>0</td>\n",
       "      <td>0</td>\n",
       "      <td>0</td>\n",
       "      <td>0</td>\n",
       "      <td>...</td>\n",
       "      <td>0</td>\n",
       "      <td>0</td>\n",
       "      <td>0</td>\n",
       "      <td>0</td>\n",
       "      <td>0</td>\n",
       "      <td>0</td>\n",
       "      <td>0</td>\n",
       "      <td>0</td>\n",
       "      <td>0</td>\n",
       "      <td>0</td>\n",
       "    </tr>\n",
       "    <tr>\n",
       "      <th>5420</th>\n",
       "      <td>0</td>\n",
       "      <td>0</td>\n",
       "      <td>0</td>\n",
       "      <td>0</td>\n",
       "      <td>0</td>\n",
       "      <td>0</td>\n",
       "      <td>0</td>\n",
       "      <td>0</td>\n",
       "      <td>0</td>\n",
       "      <td>0</td>\n",
       "      <td>...</td>\n",
       "      <td>0</td>\n",
       "      <td>0</td>\n",
       "      <td>0</td>\n",
       "      <td>0</td>\n",
       "      <td>0</td>\n",
       "      <td>0</td>\n",
       "      <td>0</td>\n",
       "      <td>0</td>\n",
       "      <td>0</td>\n",
       "      <td>0</td>\n",
       "    </tr>\n",
       "    <tr>\n",
       "      <th>5421</th>\n",
       "      <td>0</td>\n",
       "      <td>0</td>\n",
       "      <td>0</td>\n",
       "      <td>0</td>\n",
       "      <td>0</td>\n",
       "      <td>0</td>\n",
       "      <td>0</td>\n",
       "      <td>0</td>\n",
       "      <td>0</td>\n",
       "      <td>0</td>\n",
       "      <td>...</td>\n",
       "      <td>0</td>\n",
       "      <td>0</td>\n",
       "      <td>0</td>\n",
       "      <td>0</td>\n",
       "      <td>0</td>\n",
       "      <td>0</td>\n",
       "      <td>0</td>\n",
       "      <td>0</td>\n",
       "      <td>0</td>\n",
       "      <td>0</td>\n",
       "    </tr>\n",
       "    <tr>\n",
       "      <th>5422</th>\n",
       "      <td>0</td>\n",
       "      <td>0</td>\n",
       "      <td>0</td>\n",
       "      <td>0</td>\n",
       "      <td>0</td>\n",
       "      <td>0</td>\n",
       "      <td>0</td>\n",
       "      <td>0</td>\n",
       "      <td>0</td>\n",
       "      <td>0</td>\n",
       "      <td>...</td>\n",
       "      <td>0</td>\n",
       "      <td>0</td>\n",
       "      <td>0</td>\n",
       "      <td>0</td>\n",
       "      <td>0</td>\n",
       "      <td>0</td>\n",
       "      <td>0</td>\n",
       "      <td>0</td>\n",
       "      <td>0</td>\n",
       "      <td>0</td>\n",
       "    </tr>\n",
       "  </tbody>\n",
       "</table>\n",
       "<p>5423 rows × 15794 columns</p>\n",
       "</div>"
      ],
      "text/plain": [
       "      nconst_ 'nm0000001'  nconst_ 'nm0000002'  nconst_ 'nm0000002']  \\\n",
       "0                       0                    0                     0   \n",
       "1                       0                    0                     0   \n",
       "2                       0                    0                     0   \n",
       "3                       0                    0                     0   \n",
       "4                       0                    0                     0   \n",
       "...                   ...                  ...                   ...   \n",
       "5418                    0                    0                     0   \n",
       "5419                    0                    0                     0   \n",
       "5420                    0                    0                     0   \n",
       "5421                    0                    0                     0   \n",
       "5422                    0                    0                     0   \n",
       "\n",
       "      nconst_ 'nm0000003'  nconst_ 'nm0000004']  nconst_ 'nm0000005'  \\\n",
       "0                       0                     0                    0   \n",
       "1                       0                     0                    0   \n",
       "2                       0                     0                    0   \n",
       "3                       0                     0                    0   \n",
       "4                       0                     0                    0   \n",
       "...                   ...                   ...                  ...   \n",
       "5418                    0                     0                    0   \n",
       "5419                    0                     0                    0   \n",
       "5420                    0                     0                    0   \n",
       "5421                    0                     0                    0   \n",
       "5422                    0                     0                    0   \n",
       "\n",
       "      nconst_ 'nm0000006'  nconst_ 'nm0000006']  nconst_ 'nm0000007'  \\\n",
       "0                       0                     0                    0   \n",
       "1                       0                     0                    0   \n",
       "2                       0                     0                    0   \n",
       "3                       0                     0                    0   \n",
       "4                       0                     0                    0   \n",
       "...                   ...                   ...                  ...   \n",
       "5418                    0                     0                    0   \n",
       "5419                    0                     0                    0   \n",
       "5420                    0                     0                    0   \n",
       "5421                    0                     0                    0   \n",
       "5422                    0                     0                    0   \n",
       "\n",
       "      nconst_ 'nm0000008'  ...  nconst_['nm8923002'  nconst_['nm8927531'  \\\n",
       "0                       0  ...                    0                    0   \n",
       "1                       0  ...                    0                    0   \n",
       "2                       0  ...                    0                    0   \n",
       "3                       0  ...                    0                    0   \n",
       "4                       0  ...                    0                    0   \n",
       "...                   ...  ...                  ...                  ...   \n",
       "5418                    0  ...                    0                    0   \n",
       "5419                    0  ...                    0                    0   \n",
       "5420                    0  ...                    0                    0   \n",
       "5421                    0  ...                    0                    0   \n",
       "5422                    0  ...                    0                    0   \n",
       "\n",
       "      nconst_['nm8958770'  nconst_['nm9176319'  nconst_['nm9242868'  \\\n",
       "0                       0                    0                    0   \n",
       "1                       0                    0                    0   \n",
       "2                       0                    0                    0   \n",
       "3                       0                    0                    0   \n",
       "4                       0                    0                    0   \n",
       "...                   ...                  ...                  ...   \n",
       "5418                    0                    0                    0   \n",
       "5419                    0                    0                    0   \n",
       "5420                    0                    0                    0   \n",
       "5421                    0                    0                    0   \n",
       "5422                    0                    0                    0   \n",
       "\n",
       "      nconst_['nm9393813'  nconst_['nm9556770'  nconst_['nm9576872'  \\\n",
       "0                       0                    0                    0   \n",
       "1                       0                    0                    0   \n",
       "2                       0                    0                    0   \n",
       "3                       0                    0                    0   \n",
       "4                       0                    0                    0   \n",
       "...                   ...                  ...                  ...   \n",
       "5418                    0                    0                    0   \n",
       "5419                    0                    0                    0   \n",
       "5420                    0                    0                    0   \n",
       "5421                    0                    0                    0   \n",
       "5422                    0                    0                    0   \n",
       "\n",
       "      nconst_['nm9654611'  nconst_['nm9665672'  \n",
       "0                       0                    0  \n",
       "1                       0                    0  \n",
       "2                       0                    0  \n",
       "3                       0                    0  \n",
       "4                       0                    0  \n",
       "...                   ...                  ...  \n",
       "5418                    0                    0  \n",
       "5419                    0                    0  \n",
       "5420                    0                    0  \n",
       "5421                    0                    0  \n",
       "5422                    0                    0  \n",
       "\n",
       "[5423 rows x 15794 columns]"
      ]
     },
     "execution_count": 21,
     "metadata": {},
     "output_type": "execute_result"
    }
   ],
   "source": [
    "dfdummies2"
   ]
  },
  {
   "cell_type": "code",
   "execution_count": 22,
   "metadata": {},
   "outputs": [],
   "source": [
    "dfalgo = pd.concat([test,\n",
    "          dfdummies2],\n",
    "          axis=1)"
   ]
  },
  {
   "cell_type": "code",
   "execution_count": 5,
   "metadata": {},
   "outputs": [],
   "source": [
    "dfalgotest = pd.read_csv(\"dfalgotest.csv\")"
   ]
  },
  {
   "cell_type": "code",
   "execution_count": 6,
   "metadata": {},
   "outputs": [],
   "source": [
    "dfalgotest.index = dfalgotest[\"title\"]"
   ]
  },
  {
   "cell_type": "code",
   "execution_count": 113,
   "metadata": {},
   "outputs": [],
   "source": [
    "algotest3.index = algotest3[\"title\"]"
   ]
  },
  {
   "cell_type": "code",
   "execution_count": 8,
   "metadata": {},
   "outputs": [
    {
     "data": {
      "text/html": [
       "<div>\n",
       "<style scoped>\n",
       "    .dataframe tbody tr th:only-of-type {\n",
       "        vertical-align: middle;\n",
       "    }\n",
       "\n",
       "    .dataframe tbody tr th {\n",
       "        vertical-align: top;\n",
       "    }\n",
       "\n",
       "    .dataframe thead th {\n",
       "        text-align: right;\n",
       "    }\n",
       "</style>\n",
       "<table border=\"1\" class=\"dataframe\">\n",
       "  <thead>\n",
       "    <tr style=\"text-align: right;\">\n",
       "      <th></th>\n",
       "      <th>title</th>\n",
       "      <th>tconst</th>\n",
       "      <th>startYear</th>\n",
       "      <th>nconst</th>\n",
       "      <th>runtimeMinutes</th>\n",
       "      <th>genres</th>\n",
       "      <th>averageRating</th>\n",
       "      <th>numVotes</th>\n",
       "      <th>title.1</th>\n",
       "      <th>Action</th>\n",
       "      <th>...</th>\n",
       "      <th>nconst_['nm8923002'</th>\n",
       "      <th>nconst_['nm8927531'</th>\n",
       "      <th>nconst_['nm8958770'</th>\n",
       "      <th>nconst_['nm9176319'</th>\n",
       "      <th>nconst_['nm9242868'</th>\n",
       "      <th>nconst_['nm9393813'</th>\n",
       "      <th>nconst_['nm9556770'</th>\n",
       "      <th>nconst_['nm9576872'</th>\n",
       "      <th>nconst_['nm9654611'</th>\n",
       "      <th>nconst_['nm9665672'</th>\n",
       "    </tr>\n",
       "    <tr>\n",
       "      <th>title</th>\n",
       "      <th></th>\n",
       "      <th></th>\n",
       "      <th></th>\n",
       "      <th></th>\n",
       "      <th></th>\n",
       "      <th></th>\n",
       "      <th></th>\n",
       "      <th></th>\n",
       "      <th></th>\n",
       "      <th></th>\n",
       "      <th></th>\n",
       "      <th></th>\n",
       "      <th></th>\n",
       "      <th></th>\n",
       "      <th></th>\n",
       "      <th></th>\n",
       "      <th></th>\n",
       "      <th></th>\n",
       "      <th></th>\n",
       "      <th></th>\n",
       "      <th></th>\n",
       "    </tr>\n",
       "  </thead>\n",
       "  <tbody>\n",
       "    <tr>\n",
       "      <th>Naissance d'une nation</th>\n",
       "      <td>Naissance d'une nation</td>\n",
       "      <td>tt0004972</td>\n",
       "      <td>1915</td>\n",
       "      <td>['nm0000428', 'nm0910400', 'nm0178270', 'nm055...</td>\n",
       "      <td>195.0</td>\n",
       "      <td>Drama,War</td>\n",
       "      <td>6.2</td>\n",
       "      <td>25475</td>\n",
       "      <td>Naissance d'une nation</td>\n",
       "      <td>0</td>\n",
       "      <td>...</td>\n",
       "      <td>0</td>\n",
       "      <td>0</td>\n",
       "      <td>0</td>\n",
       "      <td>0</td>\n",
       "      <td>0</td>\n",
       "      <td>0</td>\n",
       "      <td>0</td>\n",
       "      <td>0</td>\n",
       "      <td>0</td>\n",
       "      <td>0</td>\n",
       "    </tr>\n",
       "    <tr>\n",
       "      <th>Intolérance</th>\n",
       "      <td>Intolérance</td>\n",
       "      <td>tt0006864</td>\n",
       "      <td>1916</td>\n",
       "      <td>['nm0366008', 'nm0000428', 'nm0550615', 'nm000...</td>\n",
       "      <td>163.0</td>\n",
       "      <td>Drama,History</td>\n",
       "      <td>7.7</td>\n",
       "      <td>16121</td>\n",
       "      <td>Intolérance</td>\n",
       "      <td>0</td>\n",
       "      <td>...</td>\n",
       "      <td>0</td>\n",
       "      <td>0</td>\n",
       "      <td>0</td>\n",
       "      <td>0</td>\n",
       "      <td>0</td>\n",
       "      <td>0</td>\n",
       "      <td>0</td>\n",
       "      <td>0</td>\n",
       "      <td>0</td>\n",
       "      <td>0</td>\n",
       "    </tr>\n",
       "    <tr>\n",
       "      <th>Le Kid</th>\n",
       "      <td>Le Kid</td>\n",
       "      <td>tt0012349</td>\n",
       "      <td>1921</td>\n",
       "      <td>['nm0000122', 'nm0701012', 'nm0074788', 'nm008...</td>\n",
       "      <td>68.0</td>\n",
       "      <td>Comedy,Drama,Family</td>\n",
       "      <td>8.3</td>\n",
       "      <td>129088</td>\n",
       "      <td>Le Kid</td>\n",
       "      <td>0</td>\n",
       "      <td>...</td>\n",
       "      <td>0</td>\n",
       "      <td>0</td>\n",
       "      <td>0</td>\n",
       "      <td>0</td>\n",
       "      <td>0</td>\n",
       "      <td>0</td>\n",
       "      <td>0</td>\n",
       "      <td>0</td>\n",
       "      <td>0</td>\n",
       "      <td>0</td>\n",
       "    </tr>\n",
       "    <tr>\n",
       "      <th>La sorcellerie à travers les âges</th>\n",
       "      <td>La sorcellerie à travers les âges</td>\n",
       "      <td>tt0013257</td>\n",
       "      <td>1922</td>\n",
       "      <td>['nm0690702', 'nm0159725', 'nm0159770', 'nm066...</td>\n",
       "      <td>91.0</td>\n",
       "      <td>Documentary,Fantasy,Horror</td>\n",
       "      <td>7.6</td>\n",
       "      <td>15426</td>\n",
       "      <td>La sorcellerie à travers les âges</td>\n",
       "      <td>0</td>\n",
       "      <td>...</td>\n",
       "      <td>0</td>\n",
       "      <td>0</td>\n",
       "      <td>0</td>\n",
       "      <td>0</td>\n",
       "      <td>0</td>\n",
       "      <td>0</td>\n",
       "      <td>0</td>\n",
       "      <td>0</td>\n",
       "      <td>0</td>\n",
       "      <td>0</td>\n",
       "    </tr>\n",
       "    <tr>\n",
       "      <th>Nanouk l'Esquimau</th>\n",
       "      <td>Nanouk l'Esquimau</td>\n",
       "      <td>tt0013427</td>\n",
       "      <td>1922</td>\n",
       "      <td>['nm1354245', 'nm0638725', 'nm0192066', 'nm002...</td>\n",
       "      <td>78.0</td>\n",
       "      <td>Documentary</td>\n",
       "      <td>7.6</td>\n",
       "      <td>12886</td>\n",
       "      <td>Nanouk l'Esquimau</td>\n",
       "      <td>0</td>\n",
       "      <td>...</td>\n",
       "      <td>0</td>\n",
       "      <td>0</td>\n",
       "      <td>0</td>\n",
       "      <td>0</td>\n",
       "      <td>0</td>\n",
       "      <td>0</td>\n",
       "      <td>0</td>\n",
       "      <td>0</td>\n",
       "      <td>0</td>\n",
       "      <td>0</td>\n",
       "    </tr>\n",
       "    <tr>\n",
       "      <th>Nosferatu le vampire</th>\n",
       "      <td>Nosferatu le vampire</td>\n",
       "      <td>tt0013442</td>\n",
       "      <td>1922</td>\n",
       "      <td>['nm0903194', 'nm0003638', 'nm0775659', 'nm077...</td>\n",
       "      <td>94.0</td>\n",
       "      <td>Fantasy,Horror</td>\n",
       "      <td>7.9</td>\n",
       "      <td>100603</td>\n",
       "      <td>Nosferatu le vampire</td>\n",
       "      <td>0</td>\n",
       "      <td>...</td>\n",
       "      <td>0</td>\n",
       "      <td>0</td>\n",
       "      <td>0</td>\n",
       "      <td>0</td>\n",
       "      <td>0</td>\n",
       "      <td>0</td>\n",
       "      <td>0</td>\n",
       "      <td>0</td>\n",
       "      <td>0</td>\n",
       "      <td>0</td>\n",
       "    </tr>\n",
       "    <tr>\n",
       "      <th>Les lois de l'hospitalité</th>\n",
       "      <td>Les lois de l'hospitalité</td>\n",
       "      <td>tt0014341</td>\n",
       "      <td>1923</td>\n",
       "      <td>['nm0090007', 'nm0000036', 'nm0444172', 'nm084...</td>\n",
       "      <td>65.0</td>\n",
       "      <td>Comedy,Romance,Thriller</td>\n",
       "      <td>7.8</td>\n",
       "      <td>11851</td>\n",
       "      <td>Les lois de l'hospitalité</td>\n",
       "      <td>0</td>\n",
       "      <td>...</td>\n",
       "      <td>0</td>\n",
       "      <td>0</td>\n",
       "      <td>0</td>\n",
       "      <td>0</td>\n",
       "      <td>0</td>\n",
       "      <td>0</td>\n",
       "      <td>0</td>\n",
       "      <td>0</td>\n",
       "      <td>0</td>\n",
       "      <td>0</td>\n",
       "    </tr>\n",
       "    <tr>\n",
       "      <th>Monte là-dessus!</th>\n",
       "      <td>Monte là-dessus!</td>\n",
       "      <td>tt0014429</td>\n",
       "      <td>1923</td>\n",
       "      <td>['nm0516001', 'nm0628345', 'nm0205192', 'nm094...</td>\n",
       "      <td>74.0</td>\n",
       "      <td>Action,Comedy,Thriller</td>\n",
       "      <td>8.1</td>\n",
       "      <td>21620</td>\n",
       "      <td>Monte là-dessus!</td>\n",
       "      <td>1</td>\n",
       "      <td>...</td>\n",
       "      <td>0</td>\n",
       "      <td>0</td>\n",
       "      <td>0</td>\n",
       "      <td>0</td>\n",
       "      <td>0</td>\n",
       "      <td>0</td>\n",
       "      <td>0</td>\n",
       "      <td>0</td>\n",
       "      <td>0</td>\n",
       "      <td>0</td>\n",
       "    </tr>\n",
       "    <tr>\n",
       "      <th>Faust</th>\n",
       "      <td>Faust</td>\n",
       "      <td>tt0016847</td>\n",
       "      <td>1926</td>\n",
       "      <td>['nm0723801', 'nm0417837', 'nm0252472', 'nm000...</td>\n",
       "      <td>107.0</td>\n",
       "      <td>Drama,Fantasy,Horror</td>\n",
       "      <td>8.1</td>\n",
       "      <td>15873</td>\n",
       "      <td>Faust</td>\n",
       "      <td>0</td>\n",
       "      <td>...</td>\n",
       "      <td>0</td>\n",
       "      <td>0</td>\n",
       "      <td>0</td>\n",
       "      <td>0</td>\n",
       "      <td>0</td>\n",
       "      <td>0</td>\n",
       "      <td>0</td>\n",
       "      <td>0</td>\n",
       "      <td>0</td>\n",
       "      <td>0</td>\n",
       "    </tr>\n",
       "    <tr>\n",
       "      <th>Les cheveux d'or</th>\n",
       "      <td>Les cheveux d'or</td>\n",
       "      <td>tt0017075</td>\n",
       "      <td>1927</td>\n",
       "      <td>['nm0637040', 'nm0000033', 'nm0042083', 'nm038...</td>\n",
       "      <td>92.0</td>\n",
       "      <td>Crime,Drama,Mystery</td>\n",
       "      <td>7.3</td>\n",
       "      <td>12597</td>\n",
       "      <td>Les cheveux d'or</td>\n",
       "      <td>0</td>\n",
       "      <td>...</td>\n",
       "      <td>0</td>\n",
       "      <td>0</td>\n",
       "      <td>0</td>\n",
       "      <td>0</td>\n",
       "      <td>0</td>\n",
       "      <td>0</td>\n",
       "      <td>0</td>\n",
       "      <td>0</td>\n",
       "      <td>0</td>\n",
       "      <td>0</td>\n",
       "    </tr>\n",
       "  </tbody>\n",
       "</table>\n",
       "<p>10 rows × 15826 columns</p>\n",
       "</div>"
      ],
      "text/plain": [
       "                                                               title  \\\n",
       "title                                                                  \n",
       "Naissance d'une nation                        Naissance d'une nation   \n",
       "Intolérance                                              Intolérance   \n",
       "Le Kid                                                        Le Kid   \n",
       "La sorcellerie à travers les âges  La sorcellerie à travers les âges   \n",
       "Nanouk l'Esquimau                                  Nanouk l'Esquimau   \n",
       "Nosferatu le vampire                            Nosferatu le vampire   \n",
       "Les lois de l'hospitalité                  Les lois de l'hospitalité   \n",
       "Monte là-dessus!                                    Monte là-dessus!   \n",
       "Faust                                                          Faust   \n",
       "Les cheveux d'or                                    Les cheveux d'or   \n",
       "\n",
       "                                      tconst  startYear  \\\n",
       "title                                                     \n",
       "Naissance d'une nation             tt0004972       1915   \n",
       "Intolérance                        tt0006864       1916   \n",
       "Le Kid                             tt0012349       1921   \n",
       "La sorcellerie à travers les âges  tt0013257       1922   \n",
       "Nanouk l'Esquimau                  tt0013427       1922   \n",
       "Nosferatu le vampire               tt0013442       1922   \n",
       "Les lois de l'hospitalité          tt0014341       1923   \n",
       "Monte là-dessus!                   tt0014429       1923   \n",
       "Faust                              tt0016847       1926   \n",
       "Les cheveux d'or                   tt0017075       1927   \n",
       "\n",
       "                                                                              nconst  \\\n",
       "title                                                                                  \n",
       "Naissance d'une nation             ['nm0000428', 'nm0910400', 'nm0178270', 'nm055...   \n",
       "Intolérance                        ['nm0366008', 'nm0000428', 'nm0550615', 'nm000...   \n",
       "Le Kid                             ['nm0000122', 'nm0701012', 'nm0074788', 'nm008...   \n",
       "La sorcellerie à travers les âges  ['nm0690702', 'nm0159725', 'nm0159770', 'nm066...   \n",
       "Nanouk l'Esquimau                  ['nm1354245', 'nm0638725', 'nm0192066', 'nm002...   \n",
       "Nosferatu le vampire               ['nm0903194', 'nm0003638', 'nm0775659', 'nm077...   \n",
       "Les lois de l'hospitalité          ['nm0090007', 'nm0000036', 'nm0444172', 'nm084...   \n",
       "Monte là-dessus!                   ['nm0516001', 'nm0628345', 'nm0205192', 'nm094...   \n",
       "Faust                              ['nm0723801', 'nm0417837', 'nm0252472', 'nm000...   \n",
       "Les cheveux d'or                   ['nm0637040', 'nm0000033', 'nm0042083', 'nm038...   \n",
       "\n",
       "                                   runtimeMinutes                      genres  \\\n",
       "title                                                                           \n",
       "Naissance d'une nation                      195.0                   Drama,War   \n",
       "Intolérance                                 163.0               Drama,History   \n",
       "Le Kid                                       68.0         Comedy,Drama,Family   \n",
       "La sorcellerie à travers les âges            91.0  Documentary,Fantasy,Horror   \n",
       "Nanouk l'Esquimau                            78.0                 Documentary   \n",
       "Nosferatu le vampire                         94.0              Fantasy,Horror   \n",
       "Les lois de l'hospitalité                    65.0     Comedy,Romance,Thriller   \n",
       "Monte là-dessus!                             74.0      Action,Comedy,Thriller   \n",
       "Faust                                       107.0        Drama,Fantasy,Horror   \n",
       "Les cheveux d'or                             92.0         Crime,Drama,Mystery   \n",
       "\n",
       "                                   averageRating  numVotes  \\\n",
       "title                                                        \n",
       "Naissance d'une nation                       6.2     25475   \n",
       "Intolérance                                  7.7     16121   \n",
       "Le Kid                                       8.3    129088   \n",
       "La sorcellerie à travers les âges            7.6     15426   \n",
       "Nanouk l'Esquimau                            7.6     12886   \n",
       "Nosferatu le vampire                         7.9    100603   \n",
       "Les lois de l'hospitalité                    7.8     11851   \n",
       "Monte là-dessus!                             8.1     21620   \n",
       "Faust                                        8.1     15873   \n",
       "Les cheveux d'or                             7.3     12597   \n",
       "\n",
       "                                                             title.1  Action  \\\n",
       "title                                                                          \n",
       "Naissance d'une nation                        Naissance d'une nation       0   \n",
       "Intolérance                                              Intolérance       0   \n",
       "Le Kid                                                        Le Kid       0   \n",
       "La sorcellerie à travers les âges  La sorcellerie à travers les âges       0   \n",
       "Nanouk l'Esquimau                                  Nanouk l'Esquimau       0   \n",
       "Nosferatu le vampire                            Nosferatu le vampire       0   \n",
       "Les lois de l'hospitalité                  Les lois de l'hospitalité       0   \n",
       "Monte là-dessus!                                    Monte là-dessus!       1   \n",
       "Faust                                                          Faust       0   \n",
       "Les cheveux d'or                                    Les cheveux d'or       0   \n",
       "\n",
       "                                   ...  nconst_['nm8923002'  \\\n",
       "title                              ...                        \n",
       "Naissance d'une nation             ...                    0   \n",
       "Intolérance                        ...                    0   \n",
       "Le Kid                             ...                    0   \n",
       "La sorcellerie à travers les âges  ...                    0   \n",
       "Nanouk l'Esquimau                  ...                    0   \n",
       "Nosferatu le vampire               ...                    0   \n",
       "Les lois de l'hospitalité          ...                    0   \n",
       "Monte là-dessus!                   ...                    0   \n",
       "Faust                              ...                    0   \n",
       "Les cheveux d'or                   ...                    0   \n",
       "\n",
       "                                   nconst_['nm8927531'  nconst_['nm8958770'  \\\n",
       "title                                                                         \n",
       "Naissance d'une nation                               0                    0   \n",
       "Intolérance                                          0                    0   \n",
       "Le Kid                                               0                    0   \n",
       "La sorcellerie à travers les âges                    0                    0   \n",
       "Nanouk l'Esquimau                                    0                    0   \n",
       "Nosferatu le vampire                                 0                    0   \n",
       "Les lois de l'hospitalité                            0                    0   \n",
       "Monte là-dessus!                                     0                    0   \n",
       "Faust                                                0                    0   \n",
       "Les cheveux d'or                                     0                    0   \n",
       "\n",
       "                                   nconst_['nm9176319'  nconst_['nm9242868'  \\\n",
       "title                                                                         \n",
       "Naissance d'une nation                               0                    0   \n",
       "Intolérance                                          0                    0   \n",
       "Le Kid                                               0                    0   \n",
       "La sorcellerie à travers les âges                    0                    0   \n",
       "Nanouk l'Esquimau                                    0                    0   \n",
       "Nosferatu le vampire                                 0                    0   \n",
       "Les lois de l'hospitalité                            0                    0   \n",
       "Monte là-dessus!                                     0                    0   \n",
       "Faust                                                0                    0   \n",
       "Les cheveux d'or                                     0                    0   \n",
       "\n",
       "                                   nconst_['nm9393813'  nconst_['nm9556770'  \\\n",
       "title                                                                         \n",
       "Naissance d'une nation                               0                    0   \n",
       "Intolérance                                          0                    0   \n",
       "Le Kid                                               0                    0   \n",
       "La sorcellerie à travers les âges                    0                    0   \n",
       "Nanouk l'Esquimau                                    0                    0   \n",
       "Nosferatu le vampire                                 0                    0   \n",
       "Les lois de l'hospitalité                            0                    0   \n",
       "Monte là-dessus!                                     0                    0   \n",
       "Faust                                                0                    0   \n",
       "Les cheveux d'or                                     0                    0   \n",
       "\n",
       "                                   nconst_['nm9576872'  nconst_['nm9654611'  \\\n",
       "title                                                                         \n",
       "Naissance d'une nation                               0                    0   \n",
       "Intolérance                                          0                    0   \n",
       "Le Kid                                               0                    0   \n",
       "La sorcellerie à travers les âges                    0                    0   \n",
       "Nanouk l'Esquimau                                    0                    0   \n",
       "Nosferatu le vampire                                 0                    0   \n",
       "Les lois de l'hospitalité                            0                    0   \n",
       "Monte là-dessus!                                     0                    0   \n",
       "Faust                                                0                    0   \n",
       "Les cheveux d'or                                     0                    0   \n",
       "\n",
       "                                   nconst_['nm9665672'  \n",
       "title                                                   \n",
       "Naissance d'une nation                               0  \n",
       "Intolérance                                          0  \n",
       "Le Kid                                               0  \n",
       "La sorcellerie à travers les âges                    0  \n",
       "Nanouk l'Esquimau                                    0  \n",
       "Nosferatu le vampire                                 0  \n",
       "Les lois de l'hospitalité                            0  \n",
       "Monte là-dessus!                                     0  \n",
       "Faust                                                0  \n",
       "Les cheveux d'or                                     0  \n",
       "\n",
       "[10 rows x 15826 columns]"
      ]
     },
     "execution_count": 8,
     "metadata": {},
     "output_type": "execute_result"
    }
   ],
   "source": [
    "dfalgotest.head(10)"
   ]
  },
  {
   "cell_type": "code",
   "execution_count": 11,
   "metadata": {},
   "outputs": [],
   "source": [
    "X = dfalgotest.select_dtypes(\"number\").drop([\"startYear\"],axis=1)\n",
    "y = dfalgotest[\"title\"]\n",
    "\n",
    "modelNN = KNeighborsClassifier().fit(X,y)"
   ]
  },
  {
   "cell_type": "code",
   "execution_count": 324,
   "metadata": {},
   "outputs": [],
   "source": [
    "algotest3.to_csv(\"dfalgotest2.csv\")"
   ]
  },
  {
   "cell_type": "code",
   "execution_count": 1,
   "metadata": {},
   "outputs": [
    {
     "ename": "NameError",
     "evalue": "name 'pd' is not defined",
     "output_type": "error",
     "traceback": [
      "\u001b[1;31m---------------------------------------------------------------------------\u001b[0m",
      "\u001b[1;31mNameError\u001b[0m                                 Traceback (most recent call last)",
      "Cell \u001b[1;32mIn[1], line 1\u001b[0m\n\u001b[1;32m----> 1\u001b[0m algotest3 \u001b[39m=\u001b[39m pd\u001b[39m.\u001b[39mread_csv(\u001b[39mr\u001b[39m\u001b[39m\"\u001b[39m\u001b[39mC:\u001b[39m\u001b[39m\\\u001b[39m\u001b[39mUsers\u001b[39m\u001b[39m\\\u001b[39m\u001b[39mTony\u001b[39m\u001b[39m\\\u001b[39m\u001b[39mDesktop\u001b[39m\u001b[39m\\\u001b[39m\u001b[39mPROJET2\u001b[39m\u001b[39m\\\u001b[39m\u001b[39mdfalgotest2.csv\u001b[39m\u001b[39m\"\u001b[39m)\n",
      "\u001b[1;31mNameError\u001b[0m: name 'pd' is not defined"
     ]
    }
   ],
   "source": [
    "algotest3 = pd.read_csv(r\"C:\\Users\\Tony\\Desktop\\PROJET2\\dfalgotest2.csv\")"
   ]
  },
  {
   "cell_type": "code",
   "execution_count": 3,
   "metadata": {},
   "outputs": [
    {
     "data": {
      "text/plain": [
       "Steven Spielberg     18\n",
       "Steven Soderbergh    17\n",
       "Richard Linklater    15\n",
       "Guy Ritchie          13\n",
       "Quentin Tarantino    12\n",
       "Ron Howard           12\n",
       "Woody Allen          12\n",
       "Joel Coen            11\n",
       "Luc Besson           11\n",
       "Lasse Hallström      11\n",
       "Name: primaryName, dtype: int64"
      ]
     },
     "execution_count": 3,
     "metadata": {},
     "output_type": "execute_result"
    }
   ],
   "source": [
    "actors = pd.read_csv(r\"C:\\Users\\Tony\\Desktop\\PROJET2\\Avec_nconst.csv\")\n",
    "\n",
    "test = actors[(actors['startYear'] >= 1993) & (actors['startYear'] <= 2023) & (actors[\"category\"]==\"director\")]\n",
    "test = test.filter([\"nconst\", \"primaryName\", \"startYear\",])\n",
    "top_director = test['primaryName'].value_counts().head(10)\n",
    "top_director"
   ]
  },
  {
   "cell_type": "code",
   "execution_count": 4,
   "metadata": {},
   "outputs": [
    {
     "data": {
      "text/plain": [
       "Samuel L. Jackson      34\n",
       "Ryan Reynolds          31\n",
       "Brad Pitt              29\n",
       "Matt Damon             28\n",
       "Matthew McConaughey    27\n",
       "Liam Neeson            27\n",
       "Johnny Depp            27\n",
       "Colin Farrell          26\n",
       "Mark Wahlberg          26\n",
       "Jude Law               26\n",
       "Name: primaryName, dtype: int64"
      ]
     },
     "execution_count": 4,
     "metadata": {},
     "output_type": "execute_result"
    }
   ],
   "source": [
    "test = actors[(actors['startYear'] >= 1993) & (actors['startYear'] <= 2023) & (actors[\"category\"]==\"actor\")]\n",
    "test = test.filter([\"nconst\", \"primaryName\", \"startYear\",])\n",
    "top_actor = test['primaryName'].value_counts().head(10)\n",
    "top_actor"
   ]
  },
  {
   "cell_type": "code",
   "execution_count": 12,
   "metadata": {},
   "outputs": [],
   "source": [
    "test = actors[(actors['startYear'] >= 1993) & (actors['startYear'] <= 2023) & (actors[\"category\"].str.contains(\"actor|actress\"))]\n",
    "actoress = test[\"category\"].value_counts()"
   ]
  },
  {
   "cell_type": "code",
   "execution_count": null,
   "metadata": {},
   "outputs": [],
   "source": []
  },
  {
   "cell_type": "code",
   "execution_count": 5,
   "metadata": {},
   "outputs": [
    {
     "data": {
      "text/plain": [
       "Cate Blanchett        29\n",
       "Nicole Kidman         28\n",
       "Julianne Moore        28\n",
       "Rachel Weisz          23\n",
       "Naomi Watts           23\n",
       "Scarlett Johansson    22\n",
       "Keira Knightley       22\n",
       "Charlize Theron       21\n",
       "Amy Adams             21\n",
       "Kate Winslet          20\n",
       "Name: primaryName, dtype: int64"
      ]
     },
     "execution_count": 5,
     "metadata": {},
     "output_type": "execute_result"
    }
   ],
   "source": [
    "test = actors[(actors['startYear'] >= 1993) & (actors['startYear'] <= 2023) & (actors[\"category\"]==\"actress\")]\n",
    "test = test.filter([\"nconst\", \"primaryName\", \"startYear\",])\n",
    "top_actress = test['primaryName'].value_counts().head(10)\n",
    "top_actress"
   ]
  },
  {
   "cell_type": "code",
   "execution_count": 12,
   "metadata": {},
   "outputs": [
    {
     "data": {
      "application/vnd.plotly.v1+json": {
       "config": {
        "plotlyServerURL": "https://plot.ly"
       },
       "data": [
        {
         "marker": {
          "color": [
           "#440154",
           "#482878",
           "#3e4989",
           "#31688e",
           "#26828e",
           "#1f9e89",
           "#35b779",
           "#6ece58",
           "#b5de2b",
           "#fde725"
          ]
         },
         "orientation": "h",
         "showlegend": false,
         "textposition": "inside",
         "type": "bar",
         "width": 0.7,
         "x": [
          26,
          26,
          26,
          27,
          27,
          27,
          28,
          29,
          31,
          34
         ],
         "xaxis": "x",
         "y": [
          "Colin Farrell",
          "Mark Wahlberg",
          "Jude Law",
          "Matthew McConaughey",
          "Liam Neeson",
          "Johnny Depp",
          "Matt Damon",
          "Brad Pitt",
          "Ryan Reynolds",
          "Samuel L. Jackson"
         ],
         "yaxis": "y"
        },
        {
         "marker": {
          "color": [
           "#440154",
           "#482878",
           "#3e4989",
           "#31688e",
           "#26828e",
           "#1f9e89",
           "#35b779",
           "#6ece58",
           "#b5de2b",
           "#fde725"
          ]
         },
         "orientation": "h",
         "showlegend": false,
         "textposition": "outside",
         "type": "bar",
         "width": 0.7,
         "x": [
          20,
          21,
          21,
          22,
          22,
          23,
          23,
          28,
          28,
          29
         ],
         "xaxis": "x2",
         "y": [
          "Kate Winslet",
          "Charlize Theron",
          "Amy Adams",
          "Scarlett Johansson",
          "Keira Knightley",
          "Rachel Weisz",
          "Naomi Watts",
          "Nicole Kidman",
          "Julianne Moore",
          "Cate Blanchett"
         ],
         "yaxis": "y2"
        }
       ],
       "layout": {
        "annotations": [
         {
          "font": {
           "size": 16
          },
          "showarrow": false,
          "text": "Acteurs",
          "x": 0.25,
          "xanchor": "center",
          "xref": "paper",
          "y": 1,
          "yanchor": "bottom",
          "yref": "paper"
         },
         {
          "font": {
           "size": 16
          },
          "showarrow": false,
          "text": "Actrices",
          "x": 0.75,
          "xanchor": "center",
          "xref": "paper",
          "y": 1,
          "yanchor": "bottom",
          "yref": "paper"
         }
        ],
        "height": 500,
        "template": {
         "data": {
          "bar": [
           {
            "error_x": {
             "color": "#2a3f5f"
            },
            "error_y": {
             "color": "#2a3f5f"
            },
            "marker": {
             "line": {
              "color": "#E5ECF6",
              "width": 0.5
             },
             "pattern": {
              "fillmode": "overlay",
              "size": 10,
              "solidity": 0.2
             }
            },
            "type": "bar"
           }
          ],
          "barpolar": [
           {
            "marker": {
             "line": {
              "color": "#E5ECF6",
              "width": 0.5
             },
             "pattern": {
              "fillmode": "overlay",
              "size": 10,
              "solidity": 0.2
             }
            },
            "type": "barpolar"
           }
          ],
          "carpet": [
           {
            "aaxis": {
             "endlinecolor": "#2a3f5f",
             "gridcolor": "white",
             "linecolor": "white",
             "minorgridcolor": "white",
             "startlinecolor": "#2a3f5f"
            },
            "baxis": {
             "endlinecolor": "#2a3f5f",
             "gridcolor": "white",
             "linecolor": "white",
             "minorgridcolor": "white",
             "startlinecolor": "#2a3f5f"
            },
            "type": "carpet"
           }
          ],
          "choropleth": [
           {
            "colorbar": {
             "outlinewidth": 0,
             "ticks": ""
            },
            "type": "choropleth"
           }
          ],
          "contour": [
           {
            "colorbar": {
             "outlinewidth": 0,
             "ticks": ""
            },
            "colorscale": [
             [
              0,
              "#0d0887"
             ],
             [
              0.1111111111111111,
              "#46039f"
             ],
             [
              0.2222222222222222,
              "#7201a8"
             ],
             [
              0.3333333333333333,
              "#9c179e"
             ],
             [
              0.4444444444444444,
              "#bd3786"
             ],
             [
              0.5555555555555556,
              "#d8576b"
             ],
             [
              0.6666666666666666,
              "#ed7953"
             ],
             [
              0.7777777777777778,
              "#fb9f3a"
             ],
             [
              0.8888888888888888,
              "#fdca26"
             ],
             [
              1,
              "#f0f921"
             ]
            ],
            "type": "contour"
           }
          ],
          "contourcarpet": [
           {
            "colorbar": {
             "outlinewidth": 0,
             "ticks": ""
            },
            "type": "contourcarpet"
           }
          ],
          "heatmap": [
           {
            "colorbar": {
             "outlinewidth": 0,
             "ticks": ""
            },
            "colorscale": [
             [
              0,
              "#0d0887"
             ],
             [
              0.1111111111111111,
              "#46039f"
             ],
             [
              0.2222222222222222,
              "#7201a8"
             ],
             [
              0.3333333333333333,
              "#9c179e"
             ],
             [
              0.4444444444444444,
              "#bd3786"
             ],
             [
              0.5555555555555556,
              "#d8576b"
             ],
             [
              0.6666666666666666,
              "#ed7953"
             ],
             [
              0.7777777777777778,
              "#fb9f3a"
             ],
             [
              0.8888888888888888,
              "#fdca26"
             ],
             [
              1,
              "#f0f921"
             ]
            ],
            "type": "heatmap"
           }
          ],
          "heatmapgl": [
           {
            "colorbar": {
             "outlinewidth": 0,
             "ticks": ""
            },
            "colorscale": [
             [
              0,
              "#0d0887"
             ],
             [
              0.1111111111111111,
              "#46039f"
             ],
             [
              0.2222222222222222,
              "#7201a8"
             ],
             [
              0.3333333333333333,
              "#9c179e"
             ],
             [
              0.4444444444444444,
              "#bd3786"
             ],
             [
              0.5555555555555556,
              "#d8576b"
             ],
             [
              0.6666666666666666,
              "#ed7953"
             ],
             [
              0.7777777777777778,
              "#fb9f3a"
             ],
             [
              0.8888888888888888,
              "#fdca26"
             ],
             [
              1,
              "#f0f921"
             ]
            ],
            "type": "heatmapgl"
           }
          ],
          "histogram": [
           {
            "marker": {
             "pattern": {
              "fillmode": "overlay",
              "size": 10,
              "solidity": 0.2
             }
            },
            "type": "histogram"
           }
          ],
          "histogram2d": [
           {
            "colorbar": {
             "outlinewidth": 0,
             "ticks": ""
            },
            "colorscale": [
             [
              0,
              "#0d0887"
             ],
             [
              0.1111111111111111,
              "#46039f"
             ],
             [
              0.2222222222222222,
              "#7201a8"
             ],
             [
              0.3333333333333333,
              "#9c179e"
             ],
             [
              0.4444444444444444,
              "#bd3786"
             ],
             [
              0.5555555555555556,
              "#d8576b"
             ],
             [
              0.6666666666666666,
              "#ed7953"
             ],
             [
              0.7777777777777778,
              "#fb9f3a"
             ],
             [
              0.8888888888888888,
              "#fdca26"
             ],
             [
              1,
              "#f0f921"
             ]
            ],
            "type": "histogram2d"
           }
          ],
          "histogram2dcontour": [
           {
            "colorbar": {
             "outlinewidth": 0,
             "ticks": ""
            },
            "colorscale": [
             [
              0,
              "#0d0887"
             ],
             [
              0.1111111111111111,
              "#46039f"
             ],
             [
              0.2222222222222222,
              "#7201a8"
             ],
             [
              0.3333333333333333,
              "#9c179e"
             ],
             [
              0.4444444444444444,
              "#bd3786"
             ],
             [
              0.5555555555555556,
              "#d8576b"
             ],
             [
              0.6666666666666666,
              "#ed7953"
             ],
             [
              0.7777777777777778,
              "#fb9f3a"
             ],
             [
              0.8888888888888888,
              "#fdca26"
             ],
             [
              1,
              "#f0f921"
             ]
            ],
            "type": "histogram2dcontour"
           }
          ],
          "mesh3d": [
           {
            "colorbar": {
             "outlinewidth": 0,
             "ticks": ""
            },
            "type": "mesh3d"
           }
          ],
          "parcoords": [
           {
            "line": {
             "colorbar": {
              "outlinewidth": 0,
              "ticks": ""
             }
            },
            "type": "parcoords"
           }
          ],
          "pie": [
           {
            "automargin": true,
            "type": "pie"
           }
          ],
          "scatter": [
           {
            "fillpattern": {
             "fillmode": "overlay",
             "size": 10,
             "solidity": 0.2
            },
            "type": "scatter"
           }
          ],
          "scatter3d": [
           {
            "line": {
             "colorbar": {
              "outlinewidth": 0,
              "ticks": ""
             }
            },
            "marker": {
             "colorbar": {
              "outlinewidth": 0,
              "ticks": ""
             }
            },
            "type": "scatter3d"
           }
          ],
          "scattercarpet": [
           {
            "marker": {
             "colorbar": {
              "outlinewidth": 0,
              "ticks": ""
             }
            },
            "type": "scattercarpet"
           }
          ],
          "scattergeo": [
           {
            "marker": {
             "colorbar": {
              "outlinewidth": 0,
              "ticks": ""
             }
            },
            "type": "scattergeo"
           }
          ],
          "scattergl": [
           {
            "marker": {
             "colorbar": {
              "outlinewidth": 0,
              "ticks": ""
             }
            },
            "type": "scattergl"
           }
          ],
          "scattermapbox": [
           {
            "marker": {
             "colorbar": {
              "outlinewidth": 0,
              "ticks": ""
             }
            },
            "type": "scattermapbox"
           }
          ],
          "scatterpolar": [
           {
            "marker": {
             "colorbar": {
              "outlinewidth": 0,
              "ticks": ""
             }
            },
            "type": "scatterpolar"
           }
          ],
          "scatterpolargl": [
           {
            "marker": {
             "colorbar": {
              "outlinewidth": 0,
              "ticks": ""
             }
            },
            "type": "scatterpolargl"
           }
          ],
          "scatterternary": [
           {
            "marker": {
             "colorbar": {
              "outlinewidth": 0,
              "ticks": ""
             }
            },
            "type": "scatterternary"
           }
          ],
          "surface": [
           {
            "colorbar": {
             "outlinewidth": 0,
             "ticks": ""
            },
            "colorscale": [
             [
              0,
              "#0d0887"
             ],
             [
              0.1111111111111111,
              "#46039f"
             ],
             [
              0.2222222222222222,
              "#7201a8"
             ],
             [
              0.3333333333333333,
              "#9c179e"
             ],
             [
              0.4444444444444444,
              "#bd3786"
             ],
             [
              0.5555555555555556,
              "#d8576b"
             ],
             [
              0.6666666666666666,
              "#ed7953"
             ],
             [
              0.7777777777777778,
              "#fb9f3a"
             ],
             [
              0.8888888888888888,
              "#fdca26"
             ],
             [
              1,
              "#f0f921"
             ]
            ],
            "type": "surface"
           }
          ],
          "table": [
           {
            "cells": {
             "fill": {
              "color": "#EBF0F8"
             },
             "line": {
              "color": "white"
             }
            },
            "header": {
             "fill": {
              "color": "#C8D4E3"
             },
             "line": {
              "color": "white"
             }
            },
            "type": "table"
           }
          ]
         },
         "layout": {
          "annotationdefaults": {
           "arrowcolor": "#2a3f5f",
           "arrowhead": 0,
           "arrowwidth": 1
          },
          "autotypenumbers": "strict",
          "coloraxis": {
           "colorbar": {
            "outlinewidth": 0,
            "ticks": ""
           }
          },
          "colorscale": {
           "diverging": [
            [
             0,
             "#8e0152"
            ],
            [
             0.1,
             "#c51b7d"
            ],
            [
             0.2,
             "#de77ae"
            ],
            [
             0.3,
             "#f1b6da"
            ],
            [
             0.4,
             "#fde0ef"
            ],
            [
             0.5,
             "#f7f7f7"
            ],
            [
             0.6,
             "#e6f5d0"
            ],
            [
             0.7,
             "#b8e186"
            ],
            [
             0.8,
             "#7fbc41"
            ],
            [
             0.9,
             "#4d9221"
            ],
            [
             1,
             "#276419"
            ]
           ],
           "sequential": [
            [
             0,
             "#0d0887"
            ],
            [
             0.1111111111111111,
             "#46039f"
            ],
            [
             0.2222222222222222,
             "#7201a8"
            ],
            [
             0.3333333333333333,
             "#9c179e"
            ],
            [
             0.4444444444444444,
             "#bd3786"
            ],
            [
             0.5555555555555556,
             "#d8576b"
            ],
            [
             0.6666666666666666,
             "#ed7953"
            ],
            [
             0.7777777777777778,
             "#fb9f3a"
            ],
            [
             0.8888888888888888,
             "#fdca26"
            ],
            [
             1,
             "#f0f921"
            ]
           ],
           "sequentialminus": [
            [
             0,
             "#0d0887"
            ],
            [
             0.1111111111111111,
             "#46039f"
            ],
            [
             0.2222222222222222,
             "#7201a8"
            ],
            [
             0.3333333333333333,
             "#9c179e"
            ],
            [
             0.4444444444444444,
             "#bd3786"
            ],
            [
             0.5555555555555556,
             "#d8576b"
            ],
            [
             0.6666666666666666,
             "#ed7953"
            ],
            [
             0.7777777777777778,
             "#fb9f3a"
            ],
            [
             0.8888888888888888,
             "#fdca26"
            ],
            [
             1,
             "#f0f921"
            ]
           ]
          },
          "colorway": [
           "#636efa",
           "#EF553B",
           "#00cc96",
           "#ab63fa",
           "#FFA15A",
           "#19d3f3",
           "#FF6692",
           "#B6E880",
           "#FF97FF",
           "#FECB52"
          ],
          "font": {
           "color": "#2a3f5f"
          },
          "geo": {
           "bgcolor": "white",
           "lakecolor": "white",
           "landcolor": "#E5ECF6",
           "showlakes": true,
           "showland": true,
           "subunitcolor": "white"
          },
          "hoverlabel": {
           "align": "left"
          },
          "hovermode": "closest",
          "mapbox": {
           "style": "light"
          },
          "paper_bgcolor": "white",
          "plot_bgcolor": "#E5ECF6",
          "polar": {
           "angularaxis": {
            "gridcolor": "white",
            "linecolor": "white",
            "ticks": ""
           },
           "bgcolor": "#E5ECF6",
           "radialaxis": {
            "gridcolor": "white",
            "linecolor": "white",
            "ticks": ""
           }
          },
          "scene": {
           "xaxis": {
            "backgroundcolor": "#E5ECF6",
            "gridcolor": "white",
            "gridwidth": 2,
            "linecolor": "white",
            "showbackground": true,
            "ticks": "",
            "zerolinecolor": "white"
           },
           "yaxis": {
            "backgroundcolor": "#E5ECF6",
            "gridcolor": "white",
            "gridwidth": 2,
            "linecolor": "white",
            "showbackground": true,
            "ticks": "",
            "zerolinecolor": "white"
           },
           "zaxis": {
            "backgroundcolor": "#E5ECF6",
            "gridcolor": "white",
            "gridwidth": 2,
            "linecolor": "white",
            "showbackground": true,
            "ticks": "",
            "zerolinecolor": "white"
           }
          },
          "shapedefaults": {
           "line": {
            "color": "#2a3f5f"
           }
          },
          "ternary": {
           "aaxis": {
            "gridcolor": "white",
            "linecolor": "white",
            "ticks": ""
           },
           "baxis": {
            "gridcolor": "white",
            "linecolor": "white",
            "ticks": ""
           },
           "bgcolor": "#E5ECF6",
           "caxis": {
            "gridcolor": "white",
            "linecolor": "white",
            "ticks": ""
           }
          },
          "title": {
           "x": 0.05
          },
          "xaxis": {
           "automargin": true,
           "gridcolor": "white",
           "linecolor": "white",
           "ticks": "",
           "title": {
            "standoff": 15
           },
           "zerolinecolor": "white",
           "zerolinewidth": 2
          },
          "yaxis": {
           "automargin": true,
           "gridcolor": "white",
           "linecolor": "white",
           "ticks": "",
           "title": {
            "standoff": 15
           },
           "zerolinecolor": "white",
           "zerolinewidth": 2
          }
         }
        },
        "title": {
         "text": "Top 10 Actor/Actress last 30 years",
         "x": 0.5
        },
        "width": 1000,
        "xaxis": {
         "anchor": "y",
         "autorange": "reversed",
         "domain": [
          0,
          0.5
         ],
         "showticklabels": true,
         "title": {
          "text": "Male"
         }
        },
        "xaxis2": {
         "anchor": "y2",
         "domain": [
          0.5,
          1
         ],
         "showticklabels": true,
         "title": {
          "text": "Female"
         }
        },
        "yaxis": {
         "anchor": "x",
         "domain": [
          0,
          1
         ]
        },
        "yaxis2": {
         "anchor": "x2",
         "domain": [
          0,
          1
         ],
         "overlaying": "y",
         "side": "right"
        }
       }
      }
     },
     "metadata": {},
     "output_type": "display_data"
    }
   ],
   "source": [
    "import plotly.graph_objects as go\n",
    "import plotly.express as px\n",
    "from plotly.subplots import make_subplots\n",
    "\n",
    "fig = make_subplots(rows=1, cols=2, specs=[[{}, {}]], shared_xaxes=False,\n",
    "                    shared_yaxes=False, horizontal_spacing=0,\n",
    "                    subplot_titles=(\"Acteurs\", \"Actrices\"))\n",
    "\n",
    "top_actor = top_actor.sort_values(ascending=True)\n",
    "fig.append_trace(go.Bar(x=top_actor.values,\n",
    "                        y=top_actor.index,\n",
    "                     textposition='inside',\n",
    "                     orientation='h', \n",
    "                     width=0.7, \n",
    "                     showlegend=False, \n",
    "                     marker=dict(\n",
    "                    color=px.colors.sequential.Viridis)), \n",
    "                     1, 1)\n",
    "\n",
    "top_actress = top_actress.sort_values(ascending=True)\n",
    "fig.append_trace(go.Bar(x=top_actress.values,\n",
    "                        y=top_actress.index,\n",
    "                     textposition='outside',\n",
    "                     orientation='h', \n",
    "                     width=0.7, \n",
    "                     showlegend=False, \n",
    "                     marker=dict(\n",
    "                    color=px.colors.sequential.Viridis),\n",
    "                     yaxis='y2'), \n",
    "                     1, 2)\n",
    "\n",
    "fig.update_layout(\n",
    "    yaxis=dict(),\n",
    "    yaxis2=dict(overlaying='y', side='right'))\n",
    "\n",
    "fig.update_xaxes(showticklabels=True,title_text=\"Male\", row=1, col=1, autorange='reversed')\n",
    "fig.update_xaxes(showticklabels=True,title_text=\"Female\", row=1, col=2)\n",
    "\n",
    "fig.update_layout(title_text=\"Top 10 Actor/Actress last 30 years\", \n",
    "                  width=1000, \n",
    "                  height=500,\n",
    "                  title_x=0.5)\n",
    "\n",
    "fig.show()"
   ]
  },
  {
   "cell_type": "code",
   "execution_count": 28,
   "metadata": {},
   "outputs": [
    {
     "data": {
      "application/vnd.plotly.v1+json": {
       "config": {
        "plotlyServerURL": "https://plot.ly"
       },
       "data": [
        {
         "labels": [
          "actor",
          "actress"
         ],
         "marker": {
          "colors": [
           "Gold",
           "Indigo"
          ],
          "line": {
           "color": "#000000",
           "width": 1
          }
         },
         "type": "pie",
         "values": [
          10476,
          6103
         ]
        }
       ],
       "layout": {
        "template": {
         "data": {
          "bar": [
           {
            "error_x": {
             "color": "#2a3f5f"
            },
            "error_y": {
             "color": "#2a3f5f"
            },
            "marker": {
             "line": {
              "color": "#E5ECF6",
              "width": 0.5
             },
             "pattern": {
              "fillmode": "overlay",
              "size": 10,
              "solidity": 0.2
             }
            },
            "type": "bar"
           }
          ],
          "barpolar": [
           {
            "marker": {
             "line": {
              "color": "#E5ECF6",
              "width": 0.5
             },
             "pattern": {
              "fillmode": "overlay",
              "size": 10,
              "solidity": 0.2
             }
            },
            "type": "barpolar"
           }
          ],
          "carpet": [
           {
            "aaxis": {
             "endlinecolor": "#2a3f5f",
             "gridcolor": "white",
             "linecolor": "white",
             "minorgridcolor": "white",
             "startlinecolor": "#2a3f5f"
            },
            "baxis": {
             "endlinecolor": "#2a3f5f",
             "gridcolor": "white",
             "linecolor": "white",
             "minorgridcolor": "white",
             "startlinecolor": "#2a3f5f"
            },
            "type": "carpet"
           }
          ],
          "choropleth": [
           {
            "colorbar": {
             "outlinewidth": 0,
             "ticks": ""
            },
            "type": "choropleth"
           }
          ],
          "contour": [
           {
            "colorbar": {
             "outlinewidth": 0,
             "ticks": ""
            },
            "colorscale": [
             [
              0,
              "#0d0887"
             ],
             [
              0.1111111111111111,
              "#46039f"
             ],
             [
              0.2222222222222222,
              "#7201a8"
             ],
             [
              0.3333333333333333,
              "#9c179e"
             ],
             [
              0.4444444444444444,
              "#bd3786"
             ],
             [
              0.5555555555555556,
              "#d8576b"
             ],
             [
              0.6666666666666666,
              "#ed7953"
             ],
             [
              0.7777777777777778,
              "#fb9f3a"
             ],
             [
              0.8888888888888888,
              "#fdca26"
             ],
             [
              1,
              "#f0f921"
             ]
            ],
            "type": "contour"
           }
          ],
          "contourcarpet": [
           {
            "colorbar": {
             "outlinewidth": 0,
             "ticks": ""
            },
            "type": "contourcarpet"
           }
          ],
          "heatmap": [
           {
            "colorbar": {
             "outlinewidth": 0,
             "ticks": ""
            },
            "colorscale": [
             [
              0,
              "#0d0887"
             ],
             [
              0.1111111111111111,
              "#46039f"
             ],
             [
              0.2222222222222222,
              "#7201a8"
             ],
             [
              0.3333333333333333,
              "#9c179e"
             ],
             [
              0.4444444444444444,
              "#bd3786"
             ],
             [
              0.5555555555555556,
              "#d8576b"
             ],
             [
              0.6666666666666666,
              "#ed7953"
             ],
             [
              0.7777777777777778,
              "#fb9f3a"
             ],
             [
              0.8888888888888888,
              "#fdca26"
             ],
             [
              1,
              "#f0f921"
             ]
            ],
            "type": "heatmap"
           }
          ],
          "heatmapgl": [
           {
            "colorbar": {
             "outlinewidth": 0,
             "ticks": ""
            },
            "colorscale": [
             [
              0,
              "#0d0887"
             ],
             [
              0.1111111111111111,
              "#46039f"
             ],
             [
              0.2222222222222222,
              "#7201a8"
             ],
             [
              0.3333333333333333,
              "#9c179e"
             ],
             [
              0.4444444444444444,
              "#bd3786"
             ],
             [
              0.5555555555555556,
              "#d8576b"
             ],
             [
              0.6666666666666666,
              "#ed7953"
             ],
             [
              0.7777777777777778,
              "#fb9f3a"
             ],
             [
              0.8888888888888888,
              "#fdca26"
             ],
             [
              1,
              "#f0f921"
             ]
            ],
            "type": "heatmapgl"
           }
          ],
          "histogram": [
           {
            "marker": {
             "pattern": {
              "fillmode": "overlay",
              "size": 10,
              "solidity": 0.2
             }
            },
            "type": "histogram"
           }
          ],
          "histogram2d": [
           {
            "colorbar": {
             "outlinewidth": 0,
             "ticks": ""
            },
            "colorscale": [
             [
              0,
              "#0d0887"
             ],
             [
              0.1111111111111111,
              "#46039f"
             ],
             [
              0.2222222222222222,
              "#7201a8"
             ],
             [
              0.3333333333333333,
              "#9c179e"
             ],
             [
              0.4444444444444444,
              "#bd3786"
             ],
             [
              0.5555555555555556,
              "#d8576b"
             ],
             [
              0.6666666666666666,
              "#ed7953"
             ],
             [
              0.7777777777777778,
              "#fb9f3a"
             ],
             [
              0.8888888888888888,
              "#fdca26"
             ],
             [
              1,
              "#f0f921"
             ]
            ],
            "type": "histogram2d"
           }
          ],
          "histogram2dcontour": [
           {
            "colorbar": {
             "outlinewidth": 0,
             "ticks": ""
            },
            "colorscale": [
             [
              0,
              "#0d0887"
             ],
             [
              0.1111111111111111,
              "#46039f"
             ],
             [
              0.2222222222222222,
              "#7201a8"
             ],
             [
              0.3333333333333333,
              "#9c179e"
             ],
             [
              0.4444444444444444,
              "#bd3786"
             ],
             [
              0.5555555555555556,
              "#d8576b"
             ],
             [
              0.6666666666666666,
              "#ed7953"
             ],
             [
              0.7777777777777778,
              "#fb9f3a"
             ],
             [
              0.8888888888888888,
              "#fdca26"
             ],
             [
              1,
              "#f0f921"
             ]
            ],
            "type": "histogram2dcontour"
           }
          ],
          "mesh3d": [
           {
            "colorbar": {
             "outlinewidth": 0,
             "ticks": ""
            },
            "type": "mesh3d"
           }
          ],
          "parcoords": [
           {
            "line": {
             "colorbar": {
              "outlinewidth": 0,
              "ticks": ""
             }
            },
            "type": "parcoords"
           }
          ],
          "pie": [
           {
            "automargin": true,
            "type": "pie"
           }
          ],
          "scatter": [
           {
            "fillpattern": {
             "fillmode": "overlay",
             "size": 10,
             "solidity": 0.2
            },
            "type": "scatter"
           }
          ],
          "scatter3d": [
           {
            "line": {
             "colorbar": {
              "outlinewidth": 0,
              "ticks": ""
             }
            },
            "marker": {
             "colorbar": {
              "outlinewidth": 0,
              "ticks": ""
             }
            },
            "type": "scatter3d"
           }
          ],
          "scattercarpet": [
           {
            "marker": {
             "colorbar": {
              "outlinewidth": 0,
              "ticks": ""
             }
            },
            "type": "scattercarpet"
           }
          ],
          "scattergeo": [
           {
            "marker": {
             "colorbar": {
              "outlinewidth": 0,
              "ticks": ""
             }
            },
            "type": "scattergeo"
           }
          ],
          "scattergl": [
           {
            "marker": {
             "colorbar": {
              "outlinewidth": 0,
              "ticks": ""
             }
            },
            "type": "scattergl"
           }
          ],
          "scattermapbox": [
           {
            "marker": {
             "colorbar": {
              "outlinewidth": 0,
              "ticks": ""
             }
            },
            "type": "scattermapbox"
           }
          ],
          "scatterpolar": [
           {
            "marker": {
             "colorbar": {
              "outlinewidth": 0,
              "ticks": ""
             }
            },
            "type": "scatterpolar"
           }
          ],
          "scatterpolargl": [
           {
            "marker": {
             "colorbar": {
              "outlinewidth": 0,
              "ticks": ""
             }
            },
            "type": "scatterpolargl"
           }
          ],
          "scatterternary": [
           {
            "marker": {
             "colorbar": {
              "outlinewidth": 0,
              "ticks": ""
             }
            },
            "type": "scatterternary"
           }
          ],
          "surface": [
           {
            "colorbar": {
             "outlinewidth": 0,
             "ticks": ""
            },
            "colorscale": [
             [
              0,
              "#0d0887"
             ],
             [
              0.1111111111111111,
              "#46039f"
             ],
             [
              0.2222222222222222,
              "#7201a8"
             ],
             [
              0.3333333333333333,
              "#9c179e"
             ],
             [
              0.4444444444444444,
              "#bd3786"
             ],
             [
              0.5555555555555556,
              "#d8576b"
             ],
             [
              0.6666666666666666,
              "#ed7953"
             ],
             [
              0.7777777777777778,
              "#fb9f3a"
             ],
             [
              0.8888888888888888,
              "#fdca26"
             ],
             [
              1,
              "#f0f921"
             ]
            ],
            "type": "surface"
           }
          ],
          "table": [
           {
            "cells": {
             "fill": {
              "color": "#EBF0F8"
             },
             "line": {
              "color": "white"
             }
            },
            "header": {
             "fill": {
              "color": "#C8D4E3"
             },
             "line": {
              "color": "white"
             }
            },
            "type": "table"
           }
          ]
         },
         "layout": {
          "annotationdefaults": {
           "arrowcolor": "#2a3f5f",
           "arrowhead": 0,
           "arrowwidth": 1
          },
          "autotypenumbers": "strict",
          "coloraxis": {
           "colorbar": {
            "outlinewidth": 0,
            "ticks": ""
           }
          },
          "colorscale": {
           "diverging": [
            [
             0,
             "#8e0152"
            ],
            [
             0.1,
             "#c51b7d"
            ],
            [
             0.2,
             "#de77ae"
            ],
            [
             0.3,
             "#f1b6da"
            ],
            [
             0.4,
             "#fde0ef"
            ],
            [
             0.5,
             "#f7f7f7"
            ],
            [
             0.6,
             "#e6f5d0"
            ],
            [
             0.7,
             "#b8e186"
            ],
            [
             0.8,
             "#7fbc41"
            ],
            [
             0.9,
             "#4d9221"
            ],
            [
             1,
             "#276419"
            ]
           ],
           "sequential": [
            [
             0,
             "#0d0887"
            ],
            [
             0.1111111111111111,
             "#46039f"
            ],
            [
             0.2222222222222222,
             "#7201a8"
            ],
            [
             0.3333333333333333,
             "#9c179e"
            ],
            [
             0.4444444444444444,
             "#bd3786"
            ],
            [
             0.5555555555555556,
             "#d8576b"
            ],
            [
             0.6666666666666666,
             "#ed7953"
            ],
            [
             0.7777777777777778,
             "#fb9f3a"
            ],
            [
             0.8888888888888888,
             "#fdca26"
            ],
            [
             1,
             "#f0f921"
            ]
           ],
           "sequentialminus": [
            [
             0,
             "#0d0887"
            ],
            [
             0.1111111111111111,
             "#46039f"
            ],
            [
             0.2222222222222222,
             "#7201a8"
            ],
            [
             0.3333333333333333,
             "#9c179e"
            ],
            [
             0.4444444444444444,
             "#bd3786"
            ],
            [
             0.5555555555555556,
             "#d8576b"
            ],
            [
             0.6666666666666666,
             "#ed7953"
            ],
            [
             0.7777777777777778,
             "#fb9f3a"
            ],
            [
             0.8888888888888888,
             "#fdca26"
            ],
            [
             1,
             "#f0f921"
            ]
           ]
          },
          "colorway": [
           "#636efa",
           "#EF553B",
           "#00cc96",
           "#ab63fa",
           "#FFA15A",
           "#19d3f3",
           "#FF6692",
           "#B6E880",
           "#FF97FF",
           "#FECB52"
          ],
          "font": {
           "color": "#2a3f5f"
          },
          "geo": {
           "bgcolor": "white",
           "lakecolor": "white",
           "landcolor": "#E5ECF6",
           "showlakes": true,
           "showland": true,
           "subunitcolor": "white"
          },
          "hoverlabel": {
           "align": "left"
          },
          "hovermode": "closest",
          "mapbox": {
           "style": "light"
          },
          "paper_bgcolor": "white",
          "plot_bgcolor": "#E5ECF6",
          "polar": {
           "angularaxis": {
            "gridcolor": "white",
            "linecolor": "white",
            "ticks": ""
           },
           "bgcolor": "#E5ECF6",
           "radialaxis": {
            "gridcolor": "white",
            "linecolor": "white",
            "ticks": ""
           }
          },
          "scene": {
           "xaxis": {
            "backgroundcolor": "#E5ECF6",
            "gridcolor": "white",
            "gridwidth": 2,
            "linecolor": "white",
            "showbackground": true,
            "ticks": "",
            "zerolinecolor": "white"
           },
           "yaxis": {
            "backgroundcolor": "#E5ECF6",
            "gridcolor": "white",
            "gridwidth": 2,
            "linecolor": "white",
            "showbackground": true,
            "ticks": "",
            "zerolinecolor": "white"
           },
           "zaxis": {
            "backgroundcolor": "#E5ECF6",
            "gridcolor": "white",
            "gridwidth": 2,
            "linecolor": "white",
            "showbackground": true,
            "ticks": "",
            "zerolinecolor": "white"
           }
          },
          "shapedefaults": {
           "line": {
            "color": "#2a3f5f"
           }
          },
          "ternary": {
           "aaxis": {
            "gridcolor": "white",
            "linecolor": "white",
            "ticks": ""
           },
           "baxis": {
            "gridcolor": "white",
            "linecolor": "white",
            "ticks": ""
           },
           "bgcolor": "#E5ECF6",
           "caxis": {
            "gridcolor": "white",
            "linecolor": "white",
            "ticks": ""
           }
          },
          "title": {
           "x": 0.05
          },
          "xaxis": {
           "automargin": true,
           "gridcolor": "white",
           "linecolor": "white",
           "ticks": "",
           "title": {
            "standoff": 15
           },
           "zerolinecolor": "white",
           "zerolinewidth": 2
          },
          "yaxis": {
           "automargin": true,
           "gridcolor": "white",
           "linecolor": "white",
           "ticks": "",
           "title": {
            "standoff": 15
           },
           "zerolinecolor": "white",
           "zerolinewidth": 2
          }
         }
        }
       }
      }
     },
     "metadata": {},
     "output_type": "display_data"
    }
   ],
   "source": [
    "import plotly.graph_objects as go\n",
    "\n",
    "labels = actoress.index\n",
    "values = actoress.values\n",
    "colors = [\"Gold\",\"Indigo\"]\n",
    "\n",
    "fig = go.Figure(data=[go.Pie(labels=labels, values=values)\n",
    "                    ])\n",
    "fig.update_traces(marker=dict(\n",
    "                    colors=colors, line=dict(color='#000000', width=1)))\n",
    "fig.show()"
   ]
  },
  {
   "cell_type": "code",
   "execution_count": 13,
   "metadata": {},
   "outputs": [
    {
     "data": {
      "application/vnd.plotly.v1+json": {
       "config": {
        "plotlyServerURL": "https://plot.ly"
       },
       "data": [
        {
         "marker": {
          "color": [
           "#fde725",
           "#b5de2b",
           "#6ece58",
           "#35b779",
           "#1f9e89",
           "#26828e",
           "#31688e",
           "#3e4989",
           "#482878",
           "#440154"
          ]
         },
         "type": "bar",
         "x": [
          "Steven Spielberg",
          "Steven Soderbergh",
          "Richard Linklater",
          "Guy Ritchie",
          "Quentin Tarantino",
          "Ron Howard",
          "Woody Allen",
          "Joel Coen",
          "Luc Besson",
          "Lasse Hallström"
         ],
         "y": [
          18,
          17,
          15,
          13,
          12,
          12,
          12,
          11,
          11,
          11
         ]
        }
       ],
       "layout": {
        "height": 500,
        "template": {
         "data": {
          "bar": [
           {
            "error_x": {
             "color": "#2a3f5f"
            },
            "error_y": {
             "color": "#2a3f5f"
            },
            "marker": {
             "line": {
              "color": "#E5ECF6",
              "width": 0.5
             },
             "pattern": {
              "fillmode": "overlay",
              "size": 10,
              "solidity": 0.2
             }
            },
            "type": "bar"
           }
          ],
          "barpolar": [
           {
            "marker": {
             "line": {
              "color": "#E5ECF6",
              "width": 0.5
             },
             "pattern": {
              "fillmode": "overlay",
              "size": 10,
              "solidity": 0.2
             }
            },
            "type": "barpolar"
           }
          ],
          "carpet": [
           {
            "aaxis": {
             "endlinecolor": "#2a3f5f",
             "gridcolor": "white",
             "linecolor": "white",
             "minorgridcolor": "white",
             "startlinecolor": "#2a3f5f"
            },
            "baxis": {
             "endlinecolor": "#2a3f5f",
             "gridcolor": "white",
             "linecolor": "white",
             "minorgridcolor": "white",
             "startlinecolor": "#2a3f5f"
            },
            "type": "carpet"
           }
          ],
          "choropleth": [
           {
            "colorbar": {
             "outlinewidth": 0,
             "ticks": ""
            },
            "type": "choropleth"
           }
          ],
          "contour": [
           {
            "colorbar": {
             "outlinewidth": 0,
             "ticks": ""
            },
            "colorscale": [
             [
              0,
              "#0d0887"
             ],
             [
              0.1111111111111111,
              "#46039f"
             ],
             [
              0.2222222222222222,
              "#7201a8"
             ],
             [
              0.3333333333333333,
              "#9c179e"
             ],
             [
              0.4444444444444444,
              "#bd3786"
             ],
             [
              0.5555555555555556,
              "#d8576b"
             ],
             [
              0.6666666666666666,
              "#ed7953"
             ],
             [
              0.7777777777777778,
              "#fb9f3a"
             ],
             [
              0.8888888888888888,
              "#fdca26"
             ],
             [
              1,
              "#f0f921"
             ]
            ],
            "type": "contour"
           }
          ],
          "contourcarpet": [
           {
            "colorbar": {
             "outlinewidth": 0,
             "ticks": ""
            },
            "type": "contourcarpet"
           }
          ],
          "heatmap": [
           {
            "colorbar": {
             "outlinewidth": 0,
             "ticks": ""
            },
            "colorscale": [
             [
              0,
              "#0d0887"
             ],
             [
              0.1111111111111111,
              "#46039f"
             ],
             [
              0.2222222222222222,
              "#7201a8"
             ],
             [
              0.3333333333333333,
              "#9c179e"
             ],
             [
              0.4444444444444444,
              "#bd3786"
             ],
             [
              0.5555555555555556,
              "#d8576b"
             ],
             [
              0.6666666666666666,
              "#ed7953"
             ],
             [
              0.7777777777777778,
              "#fb9f3a"
             ],
             [
              0.8888888888888888,
              "#fdca26"
             ],
             [
              1,
              "#f0f921"
             ]
            ],
            "type": "heatmap"
           }
          ],
          "heatmapgl": [
           {
            "colorbar": {
             "outlinewidth": 0,
             "ticks": ""
            },
            "colorscale": [
             [
              0,
              "#0d0887"
             ],
             [
              0.1111111111111111,
              "#46039f"
             ],
             [
              0.2222222222222222,
              "#7201a8"
             ],
             [
              0.3333333333333333,
              "#9c179e"
             ],
             [
              0.4444444444444444,
              "#bd3786"
             ],
             [
              0.5555555555555556,
              "#d8576b"
             ],
             [
              0.6666666666666666,
              "#ed7953"
             ],
             [
              0.7777777777777778,
              "#fb9f3a"
             ],
             [
              0.8888888888888888,
              "#fdca26"
             ],
             [
              1,
              "#f0f921"
             ]
            ],
            "type": "heatmapgl"
           }
          ],
          "histogram": [
           {
            "marker": {
             "pattern": {
              "fillmode": "overlay",
              "size": 10,
              "solidity": 0.2
             }
            },
            "type": "histogram"
           }
          ],
          "histogram2d": [
           {
            "colorbar": {
             "outlinewidth": 0,
             "ticks": ""
            },
            "colorscale": [
             [
              0,
              "#0d0887"
             ],
             [
              0.1111111111111111,
              "#46039f"
             ],
             [
              0.2222222222222222,
              "#7201a8"
             ],
             [
              0.3333333333333333,
              "#9c179e"
             ],
             [
              0.4444444444444444,
              "#bd3786"
             ],
             [
              0.5555555555555556,
              "#d8576b"
             ],
             [
              0.6666666666666666,
              "#ed7953"
             ],
             [
              0.7777777777777778,
              "#fb9f3a"
             ],
             [
              0.8888888888888888,
              "#fdca26"
             ],
             [
              1,
              "#f0f921"
             ]
            ],
            "type": "histogram2d"
           }
          ],
          "histogram2dcontour": [
           {
            "colorbar": {
             "outlinewidth": 0,
             "ticks": ""
            },
            "colorscale": [
             [
              0,
              "#0d0887"
             ],
             [
              0.1111111111111111,
              "#46039f"
             ],
             [
              0.2222222222222222,
              "#7201a8"
             ],
             [
              0.3333333333333333,
              "#9c179e"
             ],
             [
              0.4444444444444444,
              "#bd3786"
             ],
             [
              0.5555555555555556,
              "#d8576b"
             ],
             [
              0.6666666666666666,
              "#ed7953"
             ],
             [
              0.7777777777777778,
              "#fb9f3a"
             ],
             [
              0.8888888888888888,
              "#fdca26"
             ],
             [
              1,
              "#f0f921"
             ]
            ],
            "type": "histogram2dcontour"
           }
          ],
          "mesh3d": [
           {
            "colorbar": {
             "outlinewidth": 0,
             "ticks": ""
            },
            "type": "mesh3d"
           }
          ],
          "parcoords": [
           {
            "line": {
             "colorbar": {
              "outlinewidth": 0,
              "ticks": ""
             }
            },
            "type": "parcoords"
           }
          ],
          "pie": [
           {
            "automargin": true,
            "type": "pie"
           }
          ],
          "scatter": [
           {
            "fillpattern": {
             "fillmode": "overlay",
             "size": 10,
             "solidity": 0.2
            },
            "type": "scatter"
           }
          ],
          "scatter3d": [
           {
            "line": {
             "colorbar": {
              "outlinewidth": 0,
              "ticks": ""
             }
            },
            "marker": {
             "colorbar": {
              "outlinewidth": 0,
              "ticks": ""
             }
            },
            "type": "scatter3d"
           }
          ],
          "scattercarpet": [
           {
            "marker": {
             "colorbar": {
              "outlinewidth": 0,
              "ticks": ""
             }
            },
            "type": "scattercarpet"
           }
          ],
          "scattergeo": [
           {
            "marker": {
             "colorbar": {
              "outlinewidth": 0,
              "ticks": ""
             }
            },
            "type": "scattergeo"
           }
          ],
          "scattergl": [
           {
            "marker": {
             "colorbar": {
              "outlinewidth": 0,
              "ticks": ""
             }
            },
            "type": "scattergl"
           }
          ],
          "scattermapbox": [
           {
            "marker": {
             "colorbar": {
              "outlinewidth": 0,
              "ticks": ""
             }
            },
            "type": "scattermapbox"
           }
          ],
          "scatterpolar": [
           {
            "marker": {
             "colorbar": {
              "outlinewidth": 0,
              "ticks": ""
             }
            },
            "type": "scatterpolar"
           }
          ],
          "scatterpolargl": [
           {
            "marker": {
             "colorbar": {
              "outlinewidth": 0,
              "ticks": ""
             }
            },
            "type": "scatterpolargl"
           }
          ],
          "scatterternary": [
           {
            "marker": {
             "colorbar": {
              "outlinewidth": 0,
              "ticks": ""
             }
            },
            "type": "scatterternary"
           }
          ],
          "surface": [
           {
            "colorbar": {
             "outlinewidth": 0,
             "ticks": ""
            },
            "colorscale": [
             [
              0,
              "#0d0887"
             ],
             [
              0.1111111111111111,
              "#46039f"
             ],
             [
              0.2222222222222222,
              "#7201a8"
             ],
             [
              0.3333333333333333,
              "#9c179e"
             ],
             [
              0.4444444444444444,
              "#bd3786"
             ],
             [
              0.5555555555555556,
              "#d8576b"
             ],
             [
              0.6666666666666666,
              "#ed7953"
             ],
             [
              0.7777777777777778,
              "#fb9f3a"
             ],
             [
              0.8888888888888888,
              "#fdca26"
             ],
             [
              1,
              "#f0f921"
             ]
            ],
            "type": "surface"
           }
          ],
          "table": [
           {
            "cells": {
             "fill": {
              "color": "#EBF0F8"
             },
             "line": {
              "color": "white"
             }
            },
            "header": {
             "fill": {
              "color": "#C8D4E3"
             },
             "line": {
              "color": "white"
             }
            },
            "type": "table"
           }
          ]
         },
         "layout": {
          "annotationdefaults": {
           "arrowcolor": "#2a3f5f",
           "arrowhead": 0,
           "arrowwidth": 1
          },
          "autotypenumbers": "strict",
          "coloraxis": {
           "colorbar": {
            "outlinewidth": 0,
            "ticks": ""
           }
          },
          "colorscale": {
           "diverging": [
            [
             0,
             "#8e0152"
            ],
            [
             0.1,
             "#c51b7d"
            ],
            [
             0.2,
             "#de77ae"
            ],
            [
             0.3,
             "#f1b6da"
            ],
            [
             0.4,
             "#fde0ef"
            ],
            [
             0.5,
             "#f7f7f7"
            ],
            [
             0.6,
             "#e6f5d0"
            ],
            [
             0.7,
             "#b8e186"
            ],
            [
             0.8,
             "#7fbc41"
            ],
            [
             0.9,
             "#4d9221"
            ],
            [
             1,
             "#276419"
            ]
           ],
           "sequential": [
            [
             0,
             "#0d0887"
            ],
            [
             0.1111111111111111,
             "#46039f"
            ],
            [
             0.2222222222222222,
             "#7201a8"
            ],
            [
             0.3333333333333333,
             "#9c179e"
            ],
            [
             0.4444444444444444,
             "#bd3786"
            ],
            [
             0.5555555555555556,
             "#d8576b"
            ],
            [
             0.6666666666666666,
             "#ed7953"
            ],
            [
             0.7777777777777778,
             "#fb9f3a"
            ],
            [
             0.8888888888888888,
             "#fdca26"
            ],
            [
             1,
             "#f0f921"
            ]
           ],
           "sequentialminus": [
            [
             0,
             "#0d0887"
            ],
            [
             0.1111111111111111,
             "#46039f"
            ],
            [
             0.2222222222222222,
             "#7201a8"
            ],
            [
             0.3333333333333333,
             "#9c179e"
            ],
            [
             0.4444444444444444,
             "#bd3786"
            ],
            [
             0.5555555555555556,
             "#d8576b"
            ],
            [
             0.6666666666666666,
             "#ed7953"
            ],
            [
             0.7777777777777778,
             "#fb9f3a"
            ],
            [
             0.8888888888888888,
             "#fdca26"
            ],
            [
             1,
             "#f0f921"
            ]
           ]
          },
          "colorway": [
           "#636efa",
           "#EF553B",
           "#00cc96",
           "#ab63fa",
           "#FFA15A",
           "#19d3f3",
           "#FF6692",
           "#B6E880",
           "#FF97FF",
           "#FECB52"
          ],
          "font": {
           "color": "#2a3f5f"
          },
          "geo": {
           "bgcolor": "white",
           "lakecolor": "white",
           "landcolor": "#E5ECF6",
           "showlakes": true,
           "showland": true,
           "subunitcolor": "white"
          },
          "hoverlabel": {
           "align": "left"
          },
          "hovermode": "closest",
          "mapbox": {
           "style": "light"
          },
          "paper_bgcolor": "white",
          "plot_bgcolor": "#E5ECF6",
          "polar": {
           "angularaxis": {
            "gridcolor": "white",
            "linecolor": "white",
            "ticks": ""
           },
           "bgcolor": "#E5ECF6",
           "radialaxis": {
            "gridcolor": "white",
            "linecolor": "white",
            "ticks": ""
           }
          },
          "scene": {
           "xaxis": {
            "backgroundcolor": "#E5ECF6",
            "gridcolor": "white",
            "gridwidth": 2,
            "linecolor": "white",
            "showbackground": true,
            "ticks": "",
            "zerolinecolor": "white"
           },
           "yaxis": {
            "backgroundcolor": "#E5ECF6",
            "gridcolor": "white",
            "gridwidth": 2,
            "linecolor": "white",
            "showbackground": true,
            "ticks": "",
            "zerolinecolor": "white"
           },
           "zaxis": {
            "backgroundcolor": "#E5ECF6",
            "gridcolor": "white",
            "gridwidth": 2,
            "linecolor": "white",
            "showbackground": true,
            "ticks": "",
            "zerolinecolor": "white"
           }
          },
          "shapedefaults": {
           "line": {
            "color": "#2a3f5f"
           }
          },
          "ternary": {
           "aaxis": {
            "gridcolor": "white",
            "linecolor": "white",
            "ticks": ""
           },
           "baxis": {
            "gridcolor": "white",
            "linecolor": "white",
            "ticks": ""
           },
           "bgcolor": "#E5ECF6",
           "caxis": {
            "gridcolor": "white",
            "linecolor": "white",
            "ticks": ""
           }
          },
          "title": {
           "x": 0.05
          },
          "xaxis": {
           "automargin": true,
           "gridcolor": "white",
           "linecolor": "white",
           "ticks": "",
           "title": {
            "standoff": 15
           },
           "zerolinecolor": "white",
           "zerolinewidth": 2
          },
          "yaxis": {
           "automargin": true,
           "gridcolor": "white",
           "linecolor": "white",
           "ticks": "",
           "title": {
            "standoff": 15
           },
           "zerolinecolor": "white",
           "zerolinewidth": 2
          }
         }
        },
        "title": {
         "text": "Top 10 Directors in the last 30 years",
         "x": 0.5
        },
        "width": 1000
       }
      }
     },
     "metadata": {},
     "output_type": "display_data"
    }
   ],
   "source": [
    "fig = go.Figure(go.Bar(x=top_director.index, y=top_director.values, marker=dict(\n",
    "                    color=px.colors.sequential.Viridis[::-1])))\n",
    "fig.update_layout(title='Top 10 Directors in the last 30 years', \n",
    "                  width=1000, \n",
    "                  height=500,\n",
    "                  title_x=0.5)\n",
    "fig.show()"
   ]
  },
  {
   "cell_type": "code",
   "execution_count": 30,
   "metadata": {},
   "outputs": [],
   "source": [
    "testgenres = pd.read_csv(r\"C:\\Users\\Tony\\Desktop\\PROJET2\\Avec_tconst.csv\",low_memory=False)"
   ]
  },
  {
   "cell_type": "code",
   "execution_count": 37,
   "metadata": {},
   "outputs": [
    {
     "name": "stderr",
     "output_type": "stream",
     "text": [
      "C:\\Users\\Tony\\AppData\\Local\\Temp\\ipykernel_4136\\2942505301.py:2: SettingWithCopyWarning:\n",
      "\n",
      "\n",
      "A value is trying to be set on a copy of a slice from a DataFrame.\n",
      "Try using .loc[row_indexer,col_indexer] = value instead\n",
      "\n",
      "See the caveats in the documentation: https://pandas.pydata.org/pandas-docs/stable/user_guide/indexing.html#returning-a-view-versus-a-copy\n",
      "\n"
     ]
    }
   ],
   "source": [
    "testgenres = testgenres[testgenres['startYear'] != '\\\\N']\n",
    "testgenres['startYear'] = testgenres['startYear'].astype(int)"
   ]
  },
  {
   "cell_type": "code",
   "execution_count": 38,
   "metadata": {},
   "outputs": [],
   "source": [
    "testgenres = testgenres[(testgenres['startYear'] >= 1993) & (testgenres['startYear'] <= 2023)]"
   ]
  },
  {
   "cell_type": "code",
   "execution_count": 40,
   "metadata": {},
   "outputs": [],
   "source": [
    "genresiwant = testgenres[\"genres\"].str.get_dummies(sep=\",\")"
   ]
  },
  {
   "cell_type": "code",
   "execution_count": 66,
   "metadata": {},
   "outputs": [],
   "source": [
    "bestgenres = pd.concat([testgenres,\n",
    "                       genresiwant],\n",
    "                       axis=1)"
   ]
  },
  {
   "cell_type": "code",
   "execution_count": 112,
   "metadata": {},
   "outputs": [],
   "source": [
    "columns=[\"averageRating\",\"numVotes\"]\n",
    "bestmov1 = bestgenres.filter([\"title\",\"averageRating\",\"numVotes\",'Action', 'Adventure', 'Animation', 'Biography', 'Comedy', 'Crime',         \n",
    "                    'Documentary', 'Drama', 'Family', 'Fantasy', 'Film-Noir',\n",
    "                    'History', 'Horror', 'Music', 'Musical', 'Mystery',\n",
    "                    'Romance', 'Sci-Fi', 'Sport', 'Thriller', 'War', 'Western']).sort_values(by=\"numVotes\",ascending=False).head(100)"
   ]
  },
  {
   "cell_type": "code",
   "execution_count": 113,
   "metadata": {},
   "outputs": [],
   "source": [
    "bestmov2 = bestmov1.drop([\"averageRating\",\"numVotes\"],axis=1).head(100).sum()"
   ]
  },
  {
   "cell_type": "code",
   "execution_count": 122,
   "metadata": {},
   "outputs": [
    {
     "data": {
      "application/vnd.plotly.v1+json": {
       "config": {
        "plotlyServerURL": "https://plot.ly"
       },
       "data": [
        {
         "marker": {
          "color": [
           2735546,
           2708752,
           2404479,
           2178108,
           2128751,
           2102194,
           1951553,
           1910372,
           1899452,
           1881562,
           1736389,
           1698499,
           1691261,
           1593454,
           1498556,
           1486290,
           1456138,
           1412133,
           1380976,
           1360158,
           1354712,
           1351790,
           1345842,
           1339268,
           1330284,
           1216090,
           1204606,
           1185240,
           1172724,
           1171282,
           1150103,
           1140524,
           1139099,
           1138419,
           1137476,
           1116629,
           1112558,
           1101781,
           1081374,
           1063595,
           1063356,
           1028346,
           1026470,
           1010787,
           1005435,
           997996,
           948009,
           945279,
           944454,
           929041,
           899198,
           897494,
           882331,
           878599,
           876345,
           871656,
           866816,
           865425,
           863489,
           861808,
           857396,
           852681,
           852483,
           848208,
           842385,
           839191,
           835027,
           834248,
           825306,
           824932,
           822213,
           809090,
           808212,
           806512,
           805233,
           799063,
           790422,
           786978,
           786453,
           786078,
           784469,
           784260,
           777654,
           774074,
           772419,
           772014,
           768134,
           762450,
           758615,
           758360,
           741897,
           734641,
           733314,
           727099,
           724164,
           723601,
           720995,
           720256,
           715959,
           714140
          ],
          "colorscale": [
           [
            0,
            "#440154"
           ],
           [
            0.1111111111111111,
            "#482878"
           ],
           [
            0.2222222222222222,
            "#3e4989"
           ],
           [
            0.3333333333333333,
            "#31688e"
           ],
           [
            0.4444444444444444,
            "#26828e"
           ],
           [
            0.5555555555555556,
            "#1f9e89"
           ],
           [
            0.6666666666666666,
            "#35b779"
           ],
           [
            0.7777777777777778,
            "#6ece58"
           ],
           [
            0.8888888888888888,
            "#b5de2b"
           ],
           [
            1,
            "#fde725"
           ]
          ],
          "showscale": true,
          "size": [
           2735546,
           2708752,
           2404479,
           2178108,
           2128751,
           2102194,
           1951553,
           1910372,
           1899452,
           1881562,
           1736389,
           1698499,
           1691261,
           1593454,
           1498556,
           1486290,
           1456138,
           1412133,
           1380976,
           1360158,
           1354712,
           1351790,
           1345842,
           1339268,
           1330284,
           1216090,
           1204606,
           1185240,
           1172724,
           1171282,
           1150103,
           1140524,
           1139099,
           1138419,
           1137476,
           1116629,
           1112558,
           1101781,
           1081374,
           1063595,
           1063356,
           1028346,
           1026470,
           1010787,
           1005435,
           997996,
           948009,
           945279,
           944454,
           929041,
           899198,
           897494,
           882331,
           878599,
           876345,
           871656,
           866816,
           865425,
           863489,
           861808,
           857396,
           852681,
           852483,
           848208,
           842385,
           839191,
           835027,
           834248,
           825306,
           824932,
           822213,
           809090,
           808212,
           806512,
           805233,
           799063,
           790422,
           786978,
           786453,
           786078,
           784469,
           784260,
           777654,
           774074,
           772419,
           772014,
           768134,
           762450,
           758615,
           758360,
           741897,
           734641,
           733314,
           727099,
           724164,
           723601,
           720995,
           720256,
           715959,
           714140
          ]
         },
         "mode": "markers",
         "text": [
          "title",
          "Action",
          "Adventure",
          "Animation",
          "Biography",
          "Comedy",
          "Crime",
          "Documentary",
          "Drama",
          "Family",
          "Fantasy",
          "History",
          "Horror",
          "Music",
          "Musical",
          "Mystery",
          "Romance",
          "Sci-Fi",
          "Sport",
          "Thriller",
          "War",
          "Western"
         ],
         "type": "scatter",
         "x": [
          9.3,
          9,
          8.8,
          8.8,
          8.8,
          8.9,
          8.7,
          8.8,
          8.6,
          9,
          8.4,
          8.8,
          8.6,
          8.4,
          8.2,
          8.3,
          8.2,
          8,
          9,
          8.5,
          8.2,
          8.5,
          8.4,
          7.9,
          8.6,
          7.9,
          8,
          8.5,
          8.4,
          8.3,
          8.1,
          8.5,
          8.4,
          8.2,
          8.2,
          8.4,
          8.2,
          8.5,
          8.5,
          8,
          8.2,
          8.3,
          8.1,
          8.2,
          8.1,
          8.2,
          8.2,
          7.8,
          7.2,
          8.1,
          8.5,
          8.1,
          7.3,
          8.5,
          8,
          8.2,
          7.1,
          7,
          7.8,
          6.9,
          8,
          8.5,
          8.3,
          8.5,
          7.8,
          7.7,
          8.1,
          6.9,
          8,
          8.1,
          6.5,
          7.6,
          7.8,
          7.6,
          7.7,
          7.3,
          8.2,
          8,
          8,
          8.6,
          7.1,
          8.1,
          7.2,
          7.6,
          7.9,
          8,
          8.3,
          7.5,
          8.1,
          8,
          8.1,
          7.3,
          8.1,
          6.6,
          7.9,
          7.9,
          7.8,
          7.7,
          7.9,
          8.1
         ],
         "y": [
          "title",
          "Action",
          "Adventure",
          "Animation",
          "Biography",
          "Comedy",
          "Crime",
          "Documentary",
          "Drama",
          "Family",
          "Fantasy",
          "History",
          "Horror",
          "Music",
          "Musical",
          "Mystery",
          "Romance",
          "Sci-Fi",
          "Sport",
          "Thriller",
          "War",
          "Western"
         ]
        }
       ],
       "layout": {
        "hovermode": "closest",
        "template": {
         "data": {
          "bar": [
           {
            "error_x": {
             "color": "#2a3f5f"
            },
            "error_y": {
             "color": "#2a3f5f"
            },
            "marker": {
             "line": {
              "color": "#E5ECF6",
              "width": 0.5
             },
             "pattern": {
              "fillmode": "overlay",
              "size": 10,
              "solidity": 0.2
             }
            },
            "type": "bar"
           }
          ],
          "barpolar": [
           {
            "marker": {
             "line": {
              "color": "#E5ECF6",
              "width": 0.5
             },
             "pattern": {
              "fillmode": "overlay",
              "size": 10,
              "solidity": 0.2
             }
            },
            "type": "barpolar"
           }
          ],
          "carpet": [
           {
            "aaxis": {
             "endlinecolor": "#2a3f5f",
             "gridcolor": "white",
             "linecolor": "white",
             "minorgridcolor": "white",
             "startlinecolor": "#2a3f5f"
            },
            "baxis": {
             "endlinecolor": "#2a3f5f",
             "gridcolor": "white",
             "linecolor": "white",
             "minorgridcolor": "white",
             "startlinecolor": "#2a3f5f"
            },
            "type": "carpet"
           }
          ],
          "choropleth": [
           {
            "colorbar": {
             "outlinewidth": 0,
             "ticks": ""
            },
            "type": "choropleth"
           }
          ],
          "contour": [
           {
            "colorbar": {
             "outlinewidth": 0,
             "ticks": ""
            },
            "colorscale": [
             [
              0,
              "#0d0887"
             ],
             [
              0.1111111111111111,
              "#46039f"
             ],
             [
              0.2222222222222222,
              "#7201a8"
             ],
             [
              0.3333333333333333,
              "#9c179e"
             ],
             [
              0.4444444444444444,
              "#bd3786"
             ],
             [
              0.5555555555555556,
              "#d8576b"
             ],
             [
              0.6666666666666666,
              "#ed7953"
             ],
             [
              0.7777777777777778,
              "#fb9f3a"
             ],
             [
              0.8888888888888888,
              "#fdca26"
             ],
             [
              1,
              "#f0f921"
             ]
            ],
            "type": "contour"
           }
          ],
          "contourcarpet": [
           {
            "colorbar": {
             "outlinewidth": 0,
             "ticks": ""
            },
            "type": "contourcarpet"
           }
          ],
          "heatmap": [
           {
            "colorbar": {
             "outlinewidth": 0,
             "ticks": ""
            },
            "colorscale": [
             [
              0,
              "#0d0887"
             ],
             [
              0.1111111111111111,
              "#46039f"
             ],
             [
              0.2222222222222222,
              "#7201a8"
             ],
             [
              0.3333333333333333,
              "#9c179e"
             ],
             [
              0.4444444444444444,
              "#bd3786"
             ],
             [
              0.5555555555555556,
              "#d8576b"
             ],
             [
              0.6666666666666666,
              "#ed7953"
             ],
             [
              0.7777777777777778,
              "#fb9f3a"
             ],
             [
              0.8888888888888888,
              "#fdca26"
             ],
             [
              1,
              "#f0f921"
             ]
            ],
            "type": "heatmap"
           }
          ],
          "heatmapgl": [
           {
            "colorbar": {
             "outlinewidth": 0,
             "ticks": ""
            },
            "colorscale": [
             [
              0,
              "#0d0887"
             ],
             [
              0.1111111111111111,
              "#46039f"
             ],
             [
              0.2222222222222222,
              "#7201a8"
             ],
             [
              0.3333333333333333,
              "#9c179e"
             ],
             [
              0.4444444444444444,
              "#bd3786"
             ],
             [
              0.5555555555555556,
              "#d8576b"
             ],
             [
              0.6666666666666666,
              "#ed7953"
             ],
             [
              0.7777777777777778,
              "#fb9f3a"
             ],
             [
              0.8888888888888888,
              "#fdca26"
             ],
             [
              1,
              "#f0f921"
             ]
            ],
            "type": "heatmapgl"
           }
          ],
          "histogram": [
           {
            "marker": {
             "pattern": {
              "fillmode": "overlay",
              "size": 10,
              "solidity": 0.2
             }
            },
            "type": "histogram"
           }
          ],
          "histogram2d": [
           {
            "colorbar": {
             "outlinewidth": 0,
             "ticks": ""
            },
            "colorscale": [
             [
              0,
              "#0d0887"
             ],
             [
              0.1111111111111111,
              "#46039f"
             ],
             [
              0.2222222222222222,
              "#7201a8"
             ],
             [
              0.3333333333333333,
              "#9c179e"
             ],
             [
              0.4444444444444444,
              "#bd3786"
             ],
             [
              0.5555555555555556,
              "#d8576b"
             ],
             [
              0.6666666666666666,
              "#ed7953"
             ],
             [
              0.7777777777777778,
              "#fb9f3a"
             ],
             [
              0.8888888888888888,
              "#fdca26"
             ],
             [
              1,
              "#f0f921"
             ]
            ],
            "type": "histogram2d"
           }
          ],
          "histogram2dcontour": [
           {
            "colorbar": {
             "outlinewidth": 0,
             "ticks": ""
            },
            "colorscale": [
             [
              0,
              "#0d0887"
             ],
             [
              0.1111111111111111,
              "#46039f"
             ],
             [
              0.2222222222222222,
              "#7201a8"
             ],
             [
              0.3333333333333333,
              "#9c179e"
             ],
             [
              0.4444444444444444,
              "#bd3786"
             ],
             [
              0.5555555555555556,
              "#d8576b"
             ],
             [
              0.6666666666666666,
              "#ed7953"
             ],
             [
              0.7777777777777778,
              "#fb9f3a"
             ],
             [
              0.8888888888888888,
              "#fdca26"
             ],
             [
              1,
              "#f0f921"
             ]
            ],
            "type": "histogram2dcontour"
           }
          ],
          "mesh3d": [
           {
            "colorbar": {
             "outlinewidth": 0,
             "ticks": ""
            },
            "type": "mesh3d"
           }
          ],
          "parcoords": [
           {
            "line": {
             "colorbar": {
              "outlinewidth": 0,
              "ticks": ""
             }
            },
            "type": "parcoords"
           }
          ],
          "pie": [
           {
            "automargin": true,
            "type": "pie"
           }
          ],
          "scatter": [
           {
            "fillpattern": {
             "fillmode": "overlay",
             "size": 10,
             "solidity": 0.2
            },
            "type": "scatter"
           }
          ],
          "scatter3d": [
           {
            "line": {
             "colorbar": {
              "outlinewidth": 0,
              "ticks": ""
             }
            },
            "marker": {
             "colorbar": {
              "outlinewidth": 0,
              "ticks": ""
             }
            },
            "type": "scatter3d"
           }
          ],
          "scattercarpet": [
           {
            "marker": {
             "colorbar": {
              "outlinewidth": 0,
              "ticks": ""
             }
            },
            "type": "scattercarpet"
           }
          ],
          "scattergeo": [
           {
            "marker": {
             "colorbar": {
              "outlinewidth": 0,
              "ticks": ""
             }
            },
            "type": "scattergeo"
           }
          ],
          "scattergl": [
           {
            "marker": {
             "colorbar": {
              "outlinewidth": 0,
              "ticks": ""
             }
            },
            "type": "scattergl"
           }
          ],
          "scattermapbox": [
           {
            "marker": {
             "colorbar": {
              "outlinewidth": 0,
              "ticks": ""
             }
            },
            "type": "scattermapbox"
           }
          ],
          "scatterpolar": [
           {
            "marker": {
             "colorbar": {
              "outlinewidth": 0,
              "ticks": ""
             }
            },
            "type": "scatterpolar"
           }
          ],
          "scatterpolargl": [
           {
            "marker": {
             "colorbar": {
              "outlinewidth": 0,
              "ticks": ""
             }
            },
            "type": "scatterpolargl"
           }
          ],
          "scatterternary": [
           {
            "marker": {
             "colorbar": {
              "outlinewidth": 0,
              "ticks": ""
             }
            },
            "type": "scatterternary"
           }
          ],
          "surface": [
           {
            "colorbar": {
             "outlinewidth": 0,
             "ticks": ""
            },
            "colorscale": [
             [
              0,
              "#0d0887"
             ],
             [
              0.1111111111111111,
              "#46039f"
             ],
             [
              0.2222222222222222,
              "#7201a8"
             ],
             [
              0.3333333333333333,
              "#9c179e"
             ],
             [
              0.4444444444444444,
              "#bd3786"
             ],
             [
              0.5555555555555556,
              "#d8576b"
             ],
             [
              0.6666666666666666,
              "#ed7953"
             ],
             [
              0.7777777777777778,
              "#fb9f3a"
             ],
             [
              0.8888888888888888,
              "#fdca26"
             ],
             [
              1,
              "#f0f921"
             ]
            ],
            "type": "surface"
           }
          ],
          "table": [
           {
            "cells": {
             "fill": {
              "color": "#EBF0F8"
             },
             "line": {
              "color": "white"
             }
            },
            "header": {
             "fill": {
              "color": "#C8D4E3"
             },
             "line": {
              "color": "white"
             }
            },
            "type": "table"
           }
          ]
         },
         "layout": {
          "annotationdefaults": {
           "arrowcolor": "#2a3f5f",
           "arrowhead": 0,
           "arrowwidth": 1
          },
          "autotypenumbers": "strict",
          "coloraxis": {
           "colorbar": {
            "outlinewidth": 0,
            "ticks": ""
           }
          },
          "colorscale": {
           "diverging": [
            [
             0,
             "#8e0152"
            ],
            [
             0.1,
             "#c51b7d"
            ],
            [
             0.2,
             "#de77ae"
            ],
            [
             0.3,
             "#f1b6da"
            ],
            [
             0.4,
             "#fde0ef"
            ],
            [
             0.5,
             "#f7f7f7"
            ],
            [
             0.6,
             "#e6f5d0"
            ],
            [
             0.7,
             "#b8e186"
            ],
            [
             0.8,
             "#7fbc41"
            ],
            [
             0.9,
             "#4d9221"
            ],
            [
             1,
             "#276419"
            ]
           ],
           "sequential": [
            [
             0,
             "#0d0887"
            ],
            [
             0.1111111111111111,
             "#46039f"
            ],
            [
             0.2222222222222222,
             "#7201a8"
            ],
            [
             0.3333333333333333,
             "#9c179e"
            ],
            [
             0.4444444444444444,
             "#bd3786"
            ],
            [
             0.5555555555555556,
             "#d8576b"
            ],
            [
             0.6666666666666666,
             "#ed7953"
            ],
            [
             0.7777777777777778,
             "#fb9f3a"
            ],
            [
             0.8888888888888888,
             "#fdca26"
            ],
            [
             1,
             "#f0f921"
            ]
           ],
           "sequentialminus": [
            [
             0,
             "#0d0887"
            ],
            [
             0.1111111111111111,
             "#46039f"
            ],
            [
             0.2222222222222222,
             "#7201a8"
            ],
            [
             0.3333333333333333,
             "#9c179e"
            ],
            [
             0.4444444444444444,
             "#bd3786"
            ],
            [
             0.5555555555555556,
             "#d8576b"
            ],
            [
             0.6666666666666666,
             "#ed7953"
            ],
            [
             0.7777777777777778,
             "#fb9f3a"
            ],
            [
             0.8888888888888888,
             "#fdca26"
            ],
            [
             1,
             "#f0f921"
            ]
           ]
          },
          "colorway": [
           "#636efa",
           "#EF553B",
           "#00cc96",
           "#ab63fa",
           "#FFA15A",
           "#19d3f3",
           "#FF6692",
           "#B6E880",
           "#FF97FF",
           "#FECB52"
          ],
          "font": {
           "color": "#2a3f5f"
          },
          "geo": {
           "bgcolor": "white",
           "lakecolor": "white",
           "landcolor": "#E5ECF6",
           "showlakes": true,
           "showland": true,
           "subunitcolor": "white"
          },
          "hoverlabel": {
           "align": "left"
          },
          "hovermode": "closest",
          "mapbox": {
           "style": "light"
          },
          "paper_bgcolor": "white",
          "plot_bgcolor": "#E5ECF6",
          "polar": {
           "angularaxis": {
            "gridcolor": "white",
            "linecolor": "white",
            "ticks": ""
           },
           "bgcolor": "#E5ECF6",
           "radialaxis": {
            "gridcolor": "white",
            "linecolor": "white",
            "ticks": ""
           }
          },
          "scene": {
           "xaxis": {
            "backgroundcolor": "#E5ECF6",
            "gridcolor": "white",
            "gridwidth": 2,
            "linecolor": "white",
            "showbackground": true,
            "ticks": "",
            "zerolinecolor": "white"
           },
           "yaxis": {
            "backgroundcolor": "#E5ECF6",
            "gridcolor": "white",
            "gridwidth": 2,
            "linecolor": "white",
            "showbackground": true,
            "ticks": "",
            "zerolinecolor": "white"
           },
           "zaxis": {
            "backgroundcolor": "#E5ECF6",
            "gridcolor": "white",
            "gridwidth": 2,
            "linecolor": "white",
            "showbackground": true,
            "ticks": "",
            "zerolinecolor": "white"
           }
          },
          "shapedefaults": {
           "line": {
            "color": "#2a3f5f"
           }
          },
          "ternary": {
           "aaxis": {
            "gridcolor": "white",
            "linecolor": "white",
            "ticks": ""
           },
           "baxis": {
            "gridcolor": "white",
            "linecolor": "white",
            "ticks": ""
           },
           "bgcolor": "#E5ECF6",
           "caxis": {
            "gridcolor": "white",
            "linecolor": "white",
            "ticks": ""
           }
          },
          "title": {
           "x": 0.05
          },
          "xaxis": {
           "automargin": true,
           "gridcolor": "white",
           "linecolor": "white",
           "ticks": "",
           "title": {
            "standoff": 15
           },
           "zerolinecolor": "white",
           "zerolinewidth": 2
          },
          "yaxis": {
           "automargin": true,
           "gridcolor": "white",
           "linecolor": "white",
           "ticks": "",
           "title": {
            "standoff": 15
           },
           "zerolinecolor": "white",
           "zerolinewidth": 2
          }
         }
        },
        "title": {
         "text": "Top Rated Movies by Genre"
        },
        "xaxis": {
         "title": {
          "text": "Genre"
         }
        },
        "yaxis": {
         "title": {
          "text": "Average Rating"
         }
        }
       }
      }
     },
     "metadata": {},
     "output_type": "display_data"
    }
   ],
   "source": [
    "fig5 = go.Figure(data=go.Scatter(\n",
    "    x=bestmov1['averageRating'],\n",
    "    y=list(bestmov2.index),\n",
    "    mode='markers',\n",
    "    marker=dict(\n",
    "        color=bestmov1['numVotes'],\n",
    "        size=bestmov1['numVotes'],\n",
    "        colorscale='Viridis',\n",
    "        showscale=True\n",
    "    ),\n",
    "    text=bestmov2.index\n",
    "))\n",
    "\n",
    "fig5.update_layout(\n",
    "    title='Top Rated Movies by Genre',\n",
    "    xaxis=dict(title='Genre'),\n",
    "    yaxis=dict(title='Average Rating'),\n",
    "    hovermode='closest'\n",
    ")\n",
    "\n",
    "fig5.show()\n"
   ]
  },
  {
   "cell_type": "code",
   "execution_count": 124,
   "metadata": {},
   "outputs": [
    {
     "ename": "ValueError",
     "evalue": "\n    Invalid value of type 'numpy.float64' received for the 'x' property of scatter\n        Received value: 9.3\n\n    The 'x' property is an array that may be specified as a tuple,\n    list, numpy array, or pandas Series",
     "output_type": "error",
     "traceback": [
      "\u001b[1;31m---------------------------------------------------------------------------\u001b[0m",
      "\u001b[1;31mValueError\u001b[0m                                Traceback (most recent call last)",
      "Cell \u001b[1;32mIn[124], line 3\u001b[0m\n\u001b[0;32m      1\u001b[0m data \u001b[39m=\u001b[39m []\n\u001b[0;32m      2\u001b[0m \u001b[39mfor\u001b[39;00m genre \u001b[39min\u001b[39;00m bestmov1\u001b[39m.\u001b[39mindex:\n\u001b[1;32m----> 3\u001b[0m     scatter \u001b[39m=\u001b[39m go\u001b[39m.\u001b[39;49mScatter(\n\u001b[0;32m      4\u001b[0m         x\u001b[39m=\u001b[39;49mbestmov1\u001b[39m.\u001b[39;49mloc[genre, \u001b[39m'\u001b[39;49m\u001b[39maverageRating\u001b[39;49m\u001b[39m'\u001b[39;49m],\n\u001b[0;32m      5\u001b[0m         y\u001b[39m=\u001b[39;49m[genre] \u001b[39m*\u001b[39;49m \u001b[39mlen\u001b[39;49m(bestmov1\u001b[39m.\u001b[39;49mloc[genre]),\n\u001b[0;32m      6\u001b[0m         mode\u001b[39m=\u001b[39;49m\u001b[39m'\u001b[39;49m\u001b[39mmarkers\u001b[39;49m\u001b[39m'\u001b[39;49m,\n\u001b[0;32m      7\u001b[0m         marker\u001b[39m=\u001b[39;49m\u001b[39mdict\u001b[39;49m(\n\u001b[0;32m      8\u001b[0m             color\u001b[39m=\u001b[39;49mbestmov1\u001b[39m.\u001b[39;49mloc[genre, \u001b[39m'\u001b[39;49m\u001b[39mnumVotes\u001b[39;49m\u001b[39m'\u001b[39;49m],\n\u001b[0;32m      9\u001b[0m             size\u001b[39m=\u001b[39;49mbestmov1\u001b[39m.\u001b[39;49mloc[genre, \u001b[39m'\u001b[39;49m\u001b[39mnumVotes\u001b[39;49m\u001b[39m'\u001b[39;49m],\n\u001b[0;32m     10\u001b[0m             colorscale\u001b[39m=\u001b[39;49m\u001b[39m'\u001b[39;49m\u001b[39mViridis\u001b[39;49m\u001b[39m'\u001b[39;49m,\n\u001b[0;32m     11\u001b[0m             showscale\u001b[39m=\u001b[39;49m\u001b[39mTrue\u001b[39;49;00m\n\u001b[0;32m     12\u001b[0m         ),\n\u001b[0;32m     13\u001b[0m         name\u001b[39m=\u001b[39;49mgenre\n\u001b[0;32m     14\u001b[0m     )\n\u001b[0;32m     15\u001b[0m     data\u001b[39m.\u001b[39mappend(scatter)\n\u001b[0;32m     17\u001b[0m fig5 \u001b[39m=\u001b[39m go\u001b[39m.\u001b[39mFigure(data\u001b[39m=\u001b[39mdata)\n",
      "File \u001b[1;32mc:\\Users\\Tony\\anaconda3\\lib\\site-packages\\plotly\\graph_objs\\_scatter.py:3292\u001b[0m, in \u001b[0;36mScatter.__init__\u001b[1;34m(self, arg, cliponaxis, connectgaps, customdata, customdatasrc, dx, dy, error_x, error_y, fill, fillcolor, fillpattern, groupnorm, hoverinfo, hoverinfosrc, hoverlabel, hoveron, hovertemplate, hovertemplatesrc, hovertext, hovertextsrc, ids, idssrc, legendgroup, legendgrouptitle, legendrank, line, marker, meta, metasrc, mode, name, opacity, orientation, selected, selectedpoints, showlegend, stackgaps, stackgroup, stream, text, textfont, textposition, textpositionsrc, textsrc, texttemplate, texttemplatesrc, uid, uirevision, unselected, visible, x, x0, xaxis, xcalendar, xhoverformat, xperiod, xperiod0, xperiodalignment, xsrc, y, y0, yaxis, ycalendar, yhoverformat, yperiod, yperiod0, yperiodalignment, ysrc, **kwargs)\u001b[0m\n\u001b[0;32m   3290\u001b[0m _v \u001b[39m=\u001b[39m x \u001b[39mif\u001b[39;00m x \u001b[39mis\u001b[39;00m \u001b[39mnot\u001b[39;00m \u001b[39mNone\u001b[39;00m \u001b[39melse\u001b[39;00m _v\n\u001b[0;32m   3291\u001b[0m \u001b[39mif\u001b[39;00m _v \u001b[39mis\u001b[39;00m \u001b[39mnot\u001b[39;00m \u001b[39mNone\u001b[39;00m:\n\u001b[1;32m-> 3292\u001b[0m     \u001b[39mself\u001b[39m[\u001b[39m\"\u001b[39m\u001b[39mx\u001b[39m\u001b[39m\"\u001b[39m] \u001b[39m=\u001b[39m _v\n\u001b[0;32m   3293\u001b[0m _v \u001b[39m=\u001b[39m arg\u001b[39m.\u001b[39mpop(\u001b[39m\"\u001b[39m\u001b[39mx0\u001b[39m\u001b[39m\"\u001b[39m, \u001b[39mNone\u001b[39;00m)\n\u001b[0;32m   3294\u001b[0m _v \u001b[39m=\u001b[39m x0 \u001b[39mif\u001b[39;00m x0 \u001b[39mis\u001b[39;00m \u001b[39mnot\u001b[39;00m \u001b[39mNone\u001b[39;00m \u001b[39melse\u001b[39;00m _v\n",
      "File \u001b[1;32mc:\\Users\\Tony\\anaconda3\\lib\\site-packages\\plotly\\basedatatypes.py:4859\u001b[0m, in \u001b[0;36mBasePlotlyType.__setitem__\u001b[1;34m(self, prop, value)\u001b[0m\n\u001b[0;32m   4855\u001b[0m         \u001b[39mself\u001b[39m\u001b[39m.\u001b[39m_set_array_prop(prop, value)\n\u001b[0;32m   4857\u001b[0m     \u001b[39m# ### Handle simple property ###\u001b[39;00m\n\u001b[0;32m   4858\u001b[0m     \u001b[39melse\u001b[39;00m:\n\u001b[1;32m-> 4859\u001b[0m         \u001b[39mself\u001b[39;49m\u001b[39m.\u001b[39;49m_set_prop(prop, value)\n\u001b[0;32m   4860\u001b[0m \u001b[39melse\u001b[39;00m:\n\u001b[0;32m   4861\u001b[0m     \u001b[39m# Make sure properties dict is initialized\u001b[39;00m\n\u001b[0;32m   4862\u001b[0m     \u001b[39mself\u001b[39m\u001b[39m.\u001b[39m_init_props()\n",
      "File \u001b[1;32mc:\\Users\\Tony\\anaconda3\\lib\\site-packages\\plotly\\basedatatypes.py:5203\u001b[0m, in \u001b[0;36mBasePlotlyType._set_prop\u001b[1;34m(self, prop, val)\u001b[0m\n\u001b[0;32m   5201\u001b[0m         \u001b[39mreturn\u001b[39;00m\n\u001b[0;32m   5202\u001b[0m     \u001b[39melse\u001b[39;00m:\n\u001b[1;32m-> 5203\u001b[0m         \u001b[39mraise\u001b[39;00m err\n\u001b[0;32m   5205\u001b[0m \u001b[39m# val is None\u001b[39;00m\n\u001b[0;32m   5206\u001b[0m \u001b[39m# -----------\u001b[39;00m\n\u001b[0;32m   5207\u001b[0m \u001b[39mif\u001b[39;00m val \u001b[39mis\u001b[39;00m \u001b[39mNone\u001b[39;00m:\n\u001b[0;32m   5208\u001b[0m     \u001b[39m# Check if we should send null update\u001b[39;00m\n",
      "File \u001b[1;32mc:\\Users\\Tony\\anaconda3\\lib\\site-packages\\plotly\\basedatatypes.py:5198\u001b[0m, in \u001b[0;36mBasePlotlyType._set_prop\u001b[1;34m(self, prop, val)\u001b[0m\n\u001b[0;32m   5195\u001b[0m validator \u001b[39m=\u001b[39m \u001b[39mself\u001b[39m\u001b[39m.\u001b[39m_get_validator(prop)\n\u001b[0;32m   5197\u001b[0m \u001b[39mtry\u001b[39;00m:\n\u001b[1;32m-> 5198\u001b[0m     val \u001b[39m=\u001b[39m validator\u001b[39m.\u001b[39;49mvalidate_coerce(val)\n\u001b[0;32m   5199\u001b[0m \u001b[39mexcept\u001b[39;00m \u001b[39mValueError\u001b[39;00m \u001b[39mas\u001b[39;00m err:\n\u001b[0;32m   5200\u001b[0m     \u001b[39mif\u001b[39;00m \u001b[39mself\u001b[39m\u001b[39m.\u001b[39m_skip_invalid:\n",
      "File \u001b[1;32mc:\\Users\\Tony\\anaconda3\\lib\\site-packages\\_plotly_utils\\basevalidators.py:404\u001b[0m, in \u001b[0;36mDataArrayValidator.validate_coerce\u001b[1;34m(self, v)\u001b[0m\n\u001b[0;32m    402\u001b[0m     v \u001b[39m=\u001b[39m to_scalar_or_list(v)\n\u001b[0;32m    403\u001b[0m \u001b[39melse\u001b[39;00m:\n\u001b[1;32m--> 404\u001b[0m     \u001b[39mself\u001b[39;49m\u001b[39m.\u001b[39;49mraise_invalid_val(v)\n\u001b[0;32m    405\u001b[0m \u001b[39mreturn\u001b[39;00m v\n",
      "File \u001b[1;32mc:\\Users\\Tony\\anaconda3\\lib\\site-packages\\_plotly_utils\\basevalidators.py:288\u001b[0m, in \u001b[0;36mBaseValidator.raise_invalid_val\u001b[1;34m(self, v, inds)\u001b[0m\n\u001b[0;32m    285\u001b[0m             \u001b[39mfor\u001b[39;00m i \u001b[39min\u001b[39;00m inds:\n\u001b[0;32m    286\u001b[0m                 name \u001b[39m+\u001b[39m\u001b[39m=\u001b[39m \u001b[39m\"\u001b[39m\u001b[39m[\u001b[39m\u001b[39m\"\u001b[39m \u001b[39m+\u001b[39m \u001b[39mstr\u001b[39m(i) \u001b[39m+\u001b[39m \u001b[39m\"\u001b[39m\u001b[39m]\u001b[39m\u001b[39m\"\u001b[39m\n\u001b[1;32m--> 288\u001b[0m         \u001b[39mraise\u001b[39;00m \u001b[39mValueError\u001b[39;00m(\n\u001b[0;32m    289\u001b[0m \u001b[39m            \u001b[39m\u001b[39m\"\"\"\u001b[39;00m\n\u001b[0;32m    290\u001b[0m \u001b[39m    Invalid value of type {typ} received for the '{name}' property of {pname}\u001b[39;00m\n\u001b[0;32m    291\u001b[0m \u001b[39m        Received value: {v}\u001b[39;00m\n\u001b[0;32m    292\u001b[0m \n\u001b[0;32m    293\u001b[0m \u001b[39m{valid_clr_desc}\"\"\"\u001b[39;00m\u001b[39m.\u001b[39mformat(\n\u001b[0;32m    294\u001b[0m                 name\u001b[39m=\u001b[39mname,\n\u001b[0;32m    295\u001b[0m                 pname\u001b[39m=\u001b[39m\u001b[39mself\u001b[39m\u001b[39m.\u001b[39mparent_name,\n\u001b[0;32m    296\u001b[0m                 typ\u001b[39m=\u001b[39mtype_str(v),\n\u001b[0;32m    297\u001b[0m                 v\u001b[39m=\u001b[39m\u001b[39mrepr\u001b[39m(v),\n\u001b[0;32m    298\u001b[0m                 valid_clr_desc\u001b[39m=\u001b[39m\u001b[39mself\u001b[39m\u001b[39m.\u001b[39mdescription(),\n\u001b[0;32m    299\u001b[0m             )\n\u001b[0;32m    300\u001b[0m         )\n",
      "\u001b[1;31mValueError\u001b[0m: \n    Invalid value of type 'numpy.float64' received for the 'x' property of scatter\n        Received value: 9.3\n\n    The 'x' property is an array that may be specified as a tuple,\n    list, numpy array, or pandas Series"
     ]
    }
   ],
   "source": [
    "data = []\n",
    "for genre in bestmov1.index:\n",
    "    scatter = go.Scatter(\n",
    "        x=bestmov1.loc[genre, 'averageRating'],\n",
    "        y=[genre] * len(bestmov1.loc[genre]),\n",
    "        mode='markers',\n",
    "        marker=dict(\n",
    "            color=bestmov1.loc[genre, 'numVotes'],\n",
    "            size=bestmov1.loc[genre, 'numVotes'],\n",
    "            colorscale='Viridis',\n",
    "            showscale=True\n",
    "        ),\n",
    "        name=genre\n",
    "    )\n",
    "    data.append(scatter)\n",
    "\n",
    "fig5 = go.Figure(data=data)\n",
    "\n",
    "fig5.update_layout(\n",
    "    title='Top Rated Movies by Genre',\n",
    "    xaxis=dict(title='Average Rating'),\n",
    "    yaxis=dict(title='Genre', type='category'),\n",
    "    hovermode='closest'\n",
    ")\n",
    "\n",
    "fig5.show()\n",
    "\n"
   ]
  },
  {
   "cell_type": "code",
   "execution_count": 62,
   "metadata": {},
   "outputs": [],
   "source": [
    "genresiwantsum = testgenres[\"genres\"].str.get_dummies(sep=\",\").sum()"
   ]
  },
  {
   "cell_type": "code",
   "execution_count": 45,
   "metadata": {},
   "outputs": [],
   "source": [
    "totalgenres = genresiwant.sum().sort_values(ascending=False).head(10)"
   ]
  },
  {
   "cell_type": "code",
   "execution_count": 61,
   "metadata": {},
   "outputs": [
    {
     "data": {
      "application/vnd.plotly.v1+json": {
       "config": {
        "plotlyServerURL": "https://plot.ly"
       },
       "data": [
        {
         "hoverinfo": "skip",
         "insidetextfont": {
          "size": 16
         },
         "labels": [
          "Drama",
          "Comedy",
          "Action",
          "Documentary",
          "Thriller",
          "Romance",
          "Crime",
          "Adventure",
          "Horror",
          "Mystery"
         ],
         "marker": {
          "colorscale": [
           [
            0,
            "#440154"
           ],
           [
            0.1111111111111111,
            "#482878"
           ],
           [
            0.2222222222222222,
            "#3e4989"
           ],
           [
            0.3333333333333333,
            "#31688e"
           ],
           [
            0.4444444444444444,
            "#26828e"
           ],
           [
            0.5555555555555556,
            "#1f9e89"
           ],
           [
            0.6666666666666666,
            "#35b779"
           ],
           [
            0.7777777777777778,
            "#6ece58"
           ],
           [
            0.8888888888888888,
            "#b5de2b"
           ],
           [
            1,
            "#fde725"
           ]
          ]
         },
         "parents": [
          "Genres",
          "Genres",
          "Genres",
          "Genres",
          "Genres",
          "Genres",
          "Genres",
          "Genres",
          "Genres",
          "Genres"
         ],
         "textinfo": "label+value+percent root",
         "textposition": "middle center",
         "texttemplate": "<b>%{label}</b><br>%{value} films<br>Ratio : %{percentRoot}",
         "type": "treemap",
         "values": [
          13758,
          7219,
          4010,
          3858,
          3798,
          3112,
          3090,
          2665,
          2580,
          1652
         ]
        }
       ],
       "layout": {
        "height": 630,
        "margin": {
         "b": 0,
         "l": 0,
         "r": 0,
         "t": 0
        },
        "template": {
         "data": {
          "bar": [
           {
            "error_x": {
             "color": "#2a3f5f"
            },
            "error_y": {
             "color": "#2a3f5f"
            },
            "marker": {
             "line": {
              "color": "#E5ECF6",
              "width": 0.5
             },
             "pattern": {
              "fillmode": "overlay",
              "size": 10,
              "solidity": 0.2
             }
            },
            "type": "bar"
           }
          ],
          "barpolar": [
           {
            "marker": {
             "line": {
              "color": "#E5ECF6",
              "width": 0.5
             },
             "pattern": {
              "fillmode": "overlay",
              "size": 10,
              "solidity": 0.2
             }
            },
            "type": "barpolar"
           }
          ],
          "carpet": [
           {
            "aaxis": {
             "endlinecolor": "#2a3f5f",
             "gridcolor": "white",
             "linecolor": "white",
             "minorgridcolor": "white",
             "startlinecolor": "#2a3f5f"
            },
            "baxis": {
             "endlinecolor": "#2a3f5f",
             "gridcolor": "white",
             "linecolor": "white",
             "minorgridcolor": "white",
             "startlinecolor": "#2a3f5f"
            },
            "type": "carpet"
           }
          ],
          "choropleth": [
           {
            "colorbar": {
             "outlinewidth": 0,
             "ticks": ""
            },
            "type": "choropleth"
           }
          ],
          "contour": [
           {
            "colorbar": {
             "outlinewidth": 0,
             "ticks": ""
            },
            "colorscale": [
             [
              0,
              "#0d0887"
             ],
             [
              0.1111111111111111,
              "#46039f"
             ],
             [
              0.2222222222222222,
              "#7201a8"
             ],
             [
              0.3333333333333333,
              "#9c179e"
             ],
             [
              0.4444444444444444,
              "#bd3786"
             ],
             [
              0.5555555555555556,
              "#d8576b"
             ],
             [
              0.6666666666666666,
              "#ed7953"
             ],
             [
              0.7777777777777778,
              "#fb9f3a"
             ],
             [
              0.8888888888888888,
              "#fdca26"
             ],
             [
              1,
              "#f0f921"
             ]
            ],
            "type": "contour"
           }
          ],
          "contourcarpet": [
           {
            "colorbar": {
             "outlinewidth": 0,
             "ticks": ""
            },
            "type": "contourcarpet"
           }
          ],
          "heatmap": [
           {
            "colorbar": {
             "outlinewidth": 0,
             "ticks": ""
            },
            "colorscale": [
             [
              0,
              "#0d0887"
             ],
             [
              0.1111111111111111,
              "#46039f"
             ],
             [
              0.2222222222222222,
              "#7201a8"
             ],
             [
              0.3333333333333333,
              "#9c179e"
             ],
             [
              0.4444444444444444,
              "#bd3786"
             ],
             [
              0.5555555555555556,
              "#d8576b"
             ],
             [
              0.6666666666666666,
              "#ed7953"
             ],
             [
              0.7777777777777778,
              "#fb9f3a"
             ],
             [
              0.8888888888888888,
              "#fdca26"
             ],
             [
              1,
              "#f0f921"
             ]
            ],
            "type": "heatmap"
           }
          ],
          "heatmapgl": [
           {
            "colorbar": {
             "outlinewidth": 0,
             "ticks": ""
            },
            "colorscale": [
             [
              0,
              "#0d0887"
             ],
             [
              0.1111111111111111,
              "#46039f"
             ],
             [
              0.2222222222222222,
              "#7201a8"
             ],
             [
              0.3333333333333333,
              "#9c179e"
             ],
             [
              0.4444444444444444,
              "#bd3786"
             ],
             [
              0.5555555555555556,
              "#d8576b"
             ],
             [
              0.6666666666666666,
              "#ed7953"
             ],
             [
              0.7777777777777778,
              "#fb9f3a"
             ],
             [
              0.8888888888888888,
              "#fdca26"
             ],
             [
              1,
              "#f0f921"
             ]
            ],
            "type": "heatmapgl"
           }
          ],
          "histogram": [
           {
            "marker": {
             "pattern": {
              "fillmode": "overlay",
              "size": 10,
              "solidity": 0.2
             }
            },
            "type": "histogram"
           }
          ],
          "histogram2d": [
           {
            "colorbar": {
             "outlinewidth": 0,
             "ticks": ""
            },
            "colorscale": [
             [
              0,
              "#0d0887"
             ],
             [
              0.1111111111111111,
              "#46039f"
             ],
             [
              0.2222222222222222,
              "#7201a8"
             ],
             [
              0.3333333333333333,
              "#9c179e"
             ],
             [
              0.4444444444444444,
              "#bd3786"
             ],
             [
              0.5555555555555556,
              "#d8576b"
             ],
             [
              0.6666666666666666,
              "#ed7953"
             ],
             [
              0.7777777777777778,
              "#fb9f3a"
             ],
             [
              0.8888888888888888,
              "#fdca26"
             ],
             [
              1,
              "#f0f921"
             ]
            ],
            "type": "histogram2d"
           }
          ],
          "histogram2dcontour": [
           {
            "colorbar": {
             "outlinewidth": 0,
             "ticks": ""
            },
            "colorscale": [
             [
              0,
              "#0d0887"
             ],
             [
              0.1111111111111111,
              "#46039f"
             ],
             [
              0.2222222222222222,
              "#7201a8"
             ],
             [
              0.3333333333333333,
              "#9c179e"
             ],
             [
              0.4444444444444444,
              "#bd3786"
             ],
             [
              0.5555555555555556,
              "#d8576b"
             ],
             [
              0.6666666666666666,
              "#ed7953"
             ],
             [
              0.7777777777777778,
              "#fb9f3a"
             ],
             [
              0.8888888888888888,
              "#fdca26"
             ],
             [
              1,
              "#f0f921"
             ]
            ],
            "type": "histogram2dcontour"
           }
          ],
          "mesh3d": [
           {
            "colorbar": {
             "outlinewidth": 0,
             "ticks": ""
            },
            "type": "mesh3d"
           }
          ],
          "parcoords": [
           {
            "line": {
             "colorbar": {
              "outlinewidth": 0,
              "ticks": ""
             }
            },
            "type": "parcoords"
           }
          ],
          "pie": [
           {
            "automargin": true,
            "type": "pie"
           }
          ],
          "scatter": [
           {
            "fillpattern": {
             "fillmode": "overlay",
             "size": 10,
             "solidity": 0.2
            },
            "type": "scatter"
           }
          ],
          "scatter3d": [
           {
            "line": {
             "colorbar": {
              "outlinewidth": 0,
              "ticks": ""
             }
            },
            "marker": {
             "colorbar": {
              "outlinewidth": 0,
              "ticks": ""
             }
            },
            "type": "scatter3d"
           }
          ],
          "scattercarpet": [
           {
            "marker": {
             "colorbar": {
              "outlinewidth": 0,
              "ticks": ""
             }
            },
            "type": "scattercarpet"
           }
          ],
          "scattergeo": [
           {
            "marker": {
             "colorbar": {
              "outlinewidth": 0,
              "ticks": ""
             }
            },
            "type": "scattergeo"
           }
          ],
          "scattergl": [
           {
            "marker": {
             "colorbar": {
              "outlinewidth": 0,
              "ticks": ""
             }
            },
            "type": "scattergl"
           }
          ],
          "scattermapbox": [
           {
            "marker": {
             "colorbar": {
              "outlinewidth": 0,
              "ticks": ""
             }
            },
            "type": "scattermapbox"
           }
          ],
          "scatterpolar": [
           {
            "marker": {
             "colorbar": {
              "outlinewidth": 0,
              "ticks": ""
             }
            },
            "type": "scatterpolar"
           }
          ],
          "scatterpolargl": [
           {
            "marker": {
             "colorbar": {
              "outlinewidth": 0,
              "ticks": ""
             }
            },
            "type": "scatterpolargl"
           }
          ],
          "scatterternary": [
           {
            "marker": {
             "colorbar": {
              "outlinewidth": 0,
              "ticks": ""
             }
            },
            "type": "scatterternary"
           }
          ],
          "surface": [
           {
            "colorbar": {
             "outlinewidth": 0,
             "ticks": ""
            },
            "colorscale": [
             [
              0,
              "#0d0887"
             ],
             [
              0.1111111111111111,
              "#46039f"
             ],
             [
              0.2222222222222222,
              "#7201a8"
             ],
             [
              0.3333333333333333,
              "#9c179e"
             ],
             [
              0.4444444444444444,
              "#bd3786"
             ],
             [
              0.5555555555555556,
              "#d8576b"
             ],
             [
              0.6666666666666666,
              "#ed7953"
             ],
             [
              0.7777777777777778,
              "#fb9f3a"
             ],
             [
              0.8888888888888888,
              "#fdca26"
             ],
             [
              1,
              "#f0f921"
             ]
            ],
            "type": "surface"
           }
          ],
          "table": [
           {
            "cells": {
             "fill": {
              "color": "#EBF0F8"
             },
             "line": {
              "color": "white"
             }
            },
            "header": {
             "fill": {
              "color": "#C8D4E3"
             },
             "line": {
              "color": "white"
             }
            },
            "type": "table"
           }
          ]
         },
         "layout": {
          "annotationdefaults": {
           "arrowcolor": "#2a3f5f",
           "arrowhead": 0,
           "arrowwidth": 1
          },
          "autotypenumbers": "strict",
          "coloraxis": {
           "colorbar": {
            "outlinewidth": 0,
            "ticks": ""
           }
          },
          "colorscale": {
           "diverging": [
            [
             0,
             "#8e0152"
            ],
            [
             0.1,
             "#c51b7d"
            ],
            [
             0.2,
             "#de77ae"
            ],
            [
             0.3,
             "#f1b6da"
            ],
            [
             0.4,
             "#fde0ef"
            ],
            [
             0.5,
             "#f7f7f7"
            ],
            [
             0.6,
             "#e6f5d0"
            ],
            [
             0.7,
             "#b8e186"
            ],
            [
             0.8,
             "#7fbc41"
            ],
            [
             0.9,
             "#4d9221"
            ],
            [
             1,
             "#276419"
            ]
           ],
           "sequential": [
            [
             0,
             "#0d0887"
            ],
            [
             0.1111111111111111,
             "#46039f"
            ],
            [
             0.2222222222222222,
             "#7201a8"
            ],
            [
             0.3333333333333333,
             "#9c179e"
            ],
            [
             0.4444444444444444,
             "#bd3786"
            ],
            [
             0.5555555555555556,
             "#d8576b"
            ],
            [
             0.6666666666666666,
             "#ed7953"
            ],
            [
             0.7777777777777778,
             "#fb9f3a"
            ],
            [
             0.8888888888888888,
             "#fdca26"
            ],
            [
             1,
             "#f0f921"
            ]
           ],
           "sequentialminus": [
            [
             0,
             "#0d0887"
            ],
            [
             0.1111111111111111,
             "#46039f"
            ],
            [
             0.2222222222222222,
             "#7201a8"
            ],
            [
             0.3333333333333333,
             "#9c179e"
            ],
            [
             0.4444444444444444,
             "#bd3786"
            ],
            [
             0.5555555555555556,
             "#d8576b"
            ],
            [
             0.6666666666666666,
             "#ed7953"
            ],
            [
             0.7777777777777778,
             "#fb9f3a"
            ],
            [
             0.8888888888888888,
             "#fdca26"
            ],
            [
             1,
             "#f0f921"
            ]
           ]
          },
          "colorway": [
           "#636efa",
           "#EF553B",
           "#00cc96",
           "#ab63fa",
           "#FFA15A",
           "#19d3f3",
           "#FF6692",
           "#B6E880",
           "#FF97FF",
           "#FECB52"
          ],
          "font": {
           "color": "#2a3f5f"
          },
          "geo": {
           "bgcolor": "white",
           "lakecolor": "white",
           "landcolor": "#E5ECF6",
           "showlakes": true,
           "showland": true,
           "subunitcolor": "white"
          },
          "hoverlabel": {
           "align": "left"
          },
          "hovermode": "closest",
          "mapbox": {
           "style": "light"
          },
          "paper_bgcolor": "white",
          "plot_bgcolor": "#E5ECF6",
          "polar": {
           "angularaxis": {
            "gridcolor": "white",
            "linecolor": "white",
            "ticks": ""
           },
           "bgcolor": "#E5ECF6",
           "radialaxis": {
            "gridcolor": "white",
            "linecolor": "white",
            "ticks": ""
           }
          },
          "scene": {
           "xaxis": {
            "backgroundcolor": "#E5ECF6",
            "gridcolor": "white",
            "gridwidth": 2,
            "linecolor": "white",
            "showbackground": true,
            "ticks": "",
            "zerolinecolor": "white"
           },
           "yaxis": {
            "backgroundcolor": "#E5ECF6",
            "gridcolor": "white",
            "gridwidth": 2,
            "linecolor": "white",
            "showbackground": true,
            "ticks": "",
            "zerolinecolor": "white"
           },
           "zaxis": {
            "backgroundcolor": "#E5ECF6",
            "gridcolor": "white",
            "gridwidth": 2,
            "linecolor": "white",
            "showbackground": true,
            "ticks": "",
            "zerolinecolor": "white"
           }
          },
          "shapedefaults": {
           "line": {
            "color": "#2a3f5f"
           }
          },
          "ternary": {
           "aaxis": {
            "gridcolor": "white",
            "linecolor": "white",
            "ticks": ""
           },
           "baxis": {
            "gridcolor": "white",
            "linecolor": "white",
            "ticks": ""
           },
           "bgcolor": "#E5ECF6",
           "caxis": {
            "gridcolor": "white",
            "linecolor": "white",
            "ticks": ""
           }
          },
          "title": {
           "x": 0.05
          },
          "xaxis": {
           "automargin": true,
           "gridcolor": "white",
           "linecolor": "white",
           "ticks": "",
           "title": {
            "standoff": 15
           },
           "zerolinecolor": "white",
           "zerolinewidth": 2
          },
          "yaxis": {
           "automargin": true,
           "gridcolor": "white",
           "linecolor": "white",
           "ticks": "",
           "title": {
            "standoff": 15
           },
           "zerolinecolor": "white",
           "zerolinewidth": 2
          }
         }
        }
       }
      }
     },
     "metadata": {},
     "output_type": "display_data"
    }
   ],
   "source": [
    "fig4 = go.Figure(go.Treemap(\n",
    "    values=totalgenres.values,\n",
    "    labels=totalgenres.index,\n",
    "    parents=[\"Genres\"] * len(totalgenres.index),\n",
    "        textinfo = \"label+value+percent root\",\n",
    "        textposition='middle center',\n",
    "        hoverinfo = 'skip',\n",
    "        texttemplate='<b>%{label}</b><br>%{value} films<br>Ratio : %{percentRoot}',\n",
    "        insidetextfont=dict(size=16),           \n",
    "        marker=dict(\n",
    "            colorscale='Viridis'),\n",
    "            ))\n",
    "fig4.update_layout(margin = dict(t=0, l=0, r=0, b=0),                 \n",
    "    height=630,\n",
    "    )\n"
   ]
  },
  {
   "cell_type": "code",
   "execution_count": 366,
   "metadata": {},
   "outputs": [],
   "source": [
    "X2 = algotest3.select_dtypes(\"number\").drop([\"numVotes\",\"startYear\",\"averageRating\",\"runtimeMinutes\",'Action', 'Adventure', 'Animation', 'Biography', 'Comedy', 'Crime',         \n",
    "                    'Documentary', 'Drama', 'Family', 'Fantasy', 'Film-Noir',\n",
    "                    'History', 'Horror', 'Music', 'Musical', 'Mystery',\n",
    "                    'Romance', 'Sci-Fi', 'Sport', 'Thriller', 'War', 'Western'],axis=1)\n",
    "\n",
    "scaler = StandardScaler()\n",
    "\n",
    "scaler.fit(X2)\n",
    "\n",
    "scaled_X = scaler.transform(X2)\n",
    "\n",
    "modelNN2 = NearestNeighbors(n_neighbors=9).fit(X2)"
   ]
  },
  {
   "cell_type": "code",
   "execution_count": 367,
   "metadata": {},
   "outputs": [
    {
     "name": "stderr",
     "output_type": "stream",
     "text": [
      "c:\\Users\\Tony\\anaconda3\\lib\\site-packages\\sklearn\\base.py:420: UserWarning: X does not have valid feature names, but NearestNeighbors was fitted with feature names\n",
      "  warnings.warn(\n"
     ]
    },
    {
     "data": {
      "text/plain": [
       "(array([[0., 0., 0., 0., 0., 0., 0., 0., 0., 0., 0.]]),\n",
       " array([[1874, 4843, 2025, 4300, 1618, 4511, 2580, 1635, 4152,  992, 3057]],\n",
       "       dtype=int64))"
      ]
     },
     "execution_count": 367,
     "metadata": {},
     "output_type": "execute_result"
    }
   ],
   "source": [
    "filmchoisi2 = X2.loc[\"John Wick: Chapitre 4\"]\n",
    "filmchoisi2_array = np.array(filmchoisi2)\n",
    "filmchoisi2_reshaped = filmchoisi2_array.reshape(1,-1)\n",
    "\n",
    "modelNN2.kneighbors(filmchoisi2_reshaped,\n",
    "                    n_neighbors=11)"
   ]
  },
  {
   "cell_type": "code",
   "execution_count": 368,
   "metadata": {},
   "outputs": [
    {
     "name": "stderr",
     "output_type": "stream",
     "text": [
      "c:\\Users\\Tony\\anaconda3\\lib\\site-packages\\sklearn\\base.py:420: UserWarning: X does not have valid feature names, but NearestNeighbors was fitted with feature names\n",
      "  warnings.warn(\n"
     ]
    }
   ],
   "source": [
    "neigh_dist, neigh_index = modelNN2.kneighbors(\n",
    "    filmchoisi2_reshaped,\n",
    "    n_neighbors=11\n",
    ")"
   ]
  },
  {
   "cell_type": "code",
   "execution_count": 369,
   "metadata": {},
   "outputs": [
    {
     "data": {
      "text/html": [
       "<div>\n",
       "<style scoped>\n",
       "    .dataframe tbody tr th:only-of-type {\n",
       "        vertical-align: middle;\n",
       "    }\n",
       "\n",
       "    .dataframe tbody tr th {\n",
       "        vertical-align: top;\n",
       "    }\n",
       "\n",
       "    .dataframe thead th {\n",
       "        text-align: right;\n",
       "    }\n",
       "</style>\n",
       "<table border=\"1\" class=\"dataframe\">\n",
       "  <thead>\n",
       "    <tr style=\"text-align: right;\">\n",
       "      <th></th>\n",
       "      <th>tconst</th>\n",
       "      <th>primaryTitle</th>\n",
       "      <th>originalTitle</th>\n",
       "      <th>startYear</th>\n",
       "      <th>runtimeMinutes</th>\n",
       "      <th>genres</th>\n",
       "      <th>averageRating</th>\n",
       "      <th>numVotes</th>\n",
       "      <th>title</th>\n",
       "      <th>ordering</th>\n",
       "      <th>...</th>\n",
       "      <th>Horror</th>\n",
       "      <th>Music</th>\n",
       "      <th>Musical</th>\n",
       "      <th>Mystery</th>\n",
       "      <th>Romance</th>\n",
       "      <th>Sci-Fi</th>\n",
       "      <th>Sport</th>\n",
       "      <th>Thriller</th>\n",
       "      <th>War</th>\n",
       "      <th>Western</th>\n",
       "    </tr>\n",
       "    <tr>\n",
       "      <th>title</th>\n",
       "      <th></th>\n",
       "      <th></th>\n",
       "      <th></th>\n",
       "      <th></th>\n",
       "      <th></th>\n",
       "      <th></th>\n",
       "      <th></th>\n",
       "      <th></th>\n",
       "      <th></th>\n",
       "      <th></th>\n",
       "      <th></th>\n",
       "      <th></th>\n",
       "      <th></th>\n",
       "      <th></th>\n",
       "      <th></th>\n",
       "      <th></th>\n",
       "      <th></th>\n",
       "      <th></th>\n",
       "      <th></th>\n",
       "      <th></th>\n",
       "      <th></th>\n",
       "    </tr>\n",
       "  </thead>\n",
       "  <tbody>\n",
       "    <tr>\n",
       "      <th>John Wick Parabellum</th>\n",
       "      <td>tt6146586</td>\n",
       "      <td>John Wick: Chapter 3 - Parabellum</td>\n",
       "      <td>John Wick: Chapter 3 - Parabellum</td>\n",
       "      <td>2019</td>\n",
       "      <td>130.0</td>\n",
       "      <td>Action,Crime,Thriller</td>\n",
       "      <td>7.4</td>\n",
       "      <td>386746</td>\n",
       "      <td>John Wick Parabellum</td>\n",
       "      <td>1</td>\n",
       "      <td>...</td>\n",
       "      <td>0</td>\n",
       "      <td>0</td>\n",
       "      <td>0</td>\n",
       "      <td>0</td>\n",
       "      <td>0</td>\n",
       "      <td>0</td>\n",
       "      <td>0</td>\n",
       "      <td>1</td>\n",
       "      <td>0</td>\n",
       "      <td>0</td>\n",
       "    </tr>\n",
       "    <tr>\n",
       "      <th>A Scanner Darkly</th>\n",
       "      <td>tt0405296</td>\n",
       "      <td>A Scanner Darkly</td>\n",
       "      <td>A Scanner Darkly</td>\n",
       "      <td>2006</td>\n",
       "      <td>100.0</td>\n",
       "      <td>Animation,Comedy,Crime</td>\n",
       "      <td>7.0</td>\n",
       "      <td>114310</td>\n",
       "      <td>A Scanner Darkly</td>\n",
       "      <td>1</td>\n",
       "      <td>...</td>\n",
       "      <td>0</td>\n",
       "      <td>0</td>\n",
       "      <td>0</td>\n",
       "      <td>0</td>\n",
       "      <td>0</td>\n",
       "      <td>0</td>\n",
       "      <td>0</td>\n",
       "      <td>0</td>\n",
       "      <td>0</td>\n",
       "      <td>0</td>\n",
       "    </tr>\n",
       "    <tr>\n",
       "      <th>The Whole Truth</th>\n",
       "      <td>tt3503406</td>\n",
       "      <td>The Whole Truth</td>\n",
       "      <td>The Whole Truth</td>\n",
       "      <td>2016</td>\n",
       "      <td>93.0</td>\n",
       "      <td>Crime,Drama,Mystery</td>\n",
       "      <td>6.2</td>\n",
       "      <td>30807</td>\n",
       "      <td>The Whole Truth</td>\n",
       "      <td>1</td>\n",
       "      <td>...</td>\n",
       "      <td>0</td>\n",
       "      <td>0</td>\n",
       "      <td>0</td>\n",
       "      <td>1</td>\n",
       "      <td>0</td>\n",
       "      <td>0</td>\n",
       "      <td>0</td>\n",
       "      <td>0</td>\n",
       "      <td>0</td>\n",
       "      <td>0</td>\n",
       "    </tr>\n",
       "    <tr>\n",
       "      <th>Matrix Reloaded</th>\n",
       "      <td>tt0234215</td>\n",
       "      <td>The Matrix Reloaded</td>\n",
       "      <td>The Matrix Reloaded</td>\n",
       "      <td>2003</td>\n",
       "      <td>138.0</td>\n",
       "      <td>Action,Sci-Fi</td>\n",
       "      <td>7.2</td>\n",
       "      <td>607653</td>\n",
       "      <td>Matrix Reloaded</td>\n",
       "      <td>1</td>\n",
       "      <td>...</td>\n",
       "      <td>0</td>\n",
       "      <td>0</td>\n",
       "      <td>0</td>\n",
       "      <td>0</td>\n",
       "      <td>0</td>\n",
       "      <td>1</td>\n",
       "      <td>0</td>\n",
       "      <td>0</td>\n",
       "      <td>0</td>\n",
       "      <td>0</td>\n",
       "    </tr>\n",
       "    <tr>\n",
       "      <th>John Wick 2</th>\n",
       "      <td>tt4425200</td>\n",
       "      <td>John Wick: Chapter 2</td>\n",
       "      <td>John Wick: Chapter 2</td>\n",
       "      <td>2017</td>\n",
       "      <td>122.0</td>\n",
       "      <td>Action,Crime,Thriller</td>\n",
       "      <td>7.4</td>\n",
       "      <td>473590</td>\n",
       "      <td>John Wick 2</td>\n",
       "      <td>1</td>\n",
       "      <td>...</td>\n",
       "      <td>0</td>\n",
       "      <td>0</td>\n",
       "      <td>0</td>\n",
       "      <td>0</td>\n",
       "      <td>0</td>\n",
       "      <td>0</td>\n",
       "      <td>0</td>\n",
       "      <td>1</td>\n",
       "      <td>0</td>\n",
       "      <td>0</td>\n",
       "    </tr>\n",
       "    <tr>\n",
       "      <th>John Wick: Chapitre 4</th>\n",
       "      <td>tt10366206</td>\n",
       "      <td>John Wick: Chapter 4</td>\n",
       "      <td>John Wick: Chapter 4</td>\n",
       "      <td>2023</td>\n",
       "      <td>169.0</td>\n",
       "      <td>Action,Crime,Thriller</td>\n",
       "      <td>8.2</td>\n",
       "      <td>146278</td>\n",
       "      <td>John Wick: Chapitre 4</td>\n",
       "      <td>1</td>\n",
       "      <td>...</td>\n",
       "      <td>0</td>\n",
       "      <td>0</td>\n",
       "      <td>0</td>\n",
       "      <td>0</td>\n",
       "      <td>0</td>\n",
       "      <td>0</td>\n",
       "      <td>0</td>\n",
       "      <td>1</td>\n",
       "      <td>0</td>\n",
       "      <td>0</td>\n",
       "    </tr>\n",
       "    <tr>\n",
       "      <th>Matrix Revolutions</th>\n",
       "      <td>tt0242653</td>\n",
       "      <td>The Matrix Revolutions</td>\n",
       "      <td>The Matrix Revolutions</td>\n",
       "      <td>2003</td>\n",
       "      <td>129.0</td>\n",
       "      <td>Action,Sci-Fi</td>\n",
       "      <td>6.7</td>\n",
       "      <td>524748</td>\n",
       "      <td>Matrix Revolutions</td>\n",
       "      <td>1</td>\n",
       "      <td>...</td>\n",
       "      <td>0</td>\n",
       "      <td>0</td>\n",
       "      <td>0</td>\n",
       "      <td>0</td>\n",
       "      <td>0</td>\n",
       "      <td>1</td>\n",
       "      <td>0</td>\n",
       "      <td>0</td>\n",
       "      <td>0</td>\n",
       "      <td>0</td>\n",
       "    </tr>\n",
       "    <tr>\n",
       "      <th>John Wick</th>\n",
       "      <td>tt2911666</td>\n",
       "      <td>John Wick</td>\n",
       "      <td>John Wick</td>\n",
       "      <td>2014</td>\n",
       "      <td>101.0</td>\n",
       "      <td>Action,Crime,Thriller</td>\n",
       "      <td>7.4</td>\n",
       "      <td>689444</td>\n",
       "      <td>John Wick</td>\n",
       "      <td>1</td>\n",
       "      <td>...</td>\n",
       "      <td>0</td>\n",
       "      <td>0</td>\n",
       "      <td>0</td>\n",
       "      <td>0</td>\n",
       "      <td>0</td>\n",
       "      <td>0</td>\n",
       "      <td>0</td>\n",
       "      <td>1</td>\n",
       "      <td>0</td>\n",
       "      <td>0</td>\n",
       "    </tr>\n",
       "    <tr>\n",
       "      <th>L'Excellente Aventure de Bill &amp; Ted</th>\n",
       "      <td>tt0096928</td>\n",
       "      <td>Bill &amp; Ted's Excellent Adventure</td>\n",
       "      <td>Bill &amp; Ted's Excellent Adventure</td>\n",
       "      <td>1989</td>\n",
       "      <td>90.0</td>\n",
       "      <td>Adventure,Comedy,Music</td>\n",
       "      <td>6.9</td>\n",
       "      <td>135600</td>\n",
       "      <td>L'Excellente Aventure de Bill &amp; Ted</td>\n",
       "      <td>1</td>\n",
       "      <td>...</td>\n",
       "      <td>0</td>\n",
       "      <td>1</td>\n",
       "      <td>0</td>\n",
       "      <td>0</td>\n",
       "      <td>0</td>\n",
       "      <td>0</td>\n",
       "      <td>0</td>\n",
       "      <td>0</td>\n",
       "      <td>0</td>\n",
       "      <td>0</td>\n",
       "    </tr>\n",
       "    <tr>\n",
       "      <th>47 Ronin</th>\n",
       "      <td>tt1335975</td>\n",
       "      <td>47 Ronin</td>\n",
       "      <td>47 Ronin</td>\n",
       "      <td>2013</td>\n",
       "      <td>128.0</td>\n",
       "      <td>Action,Drama,Fantasy</td>\n",
       "      <td>6.2</td>\n",
       "      <td>164873</td>\n",
       "      <td>47 Ronin</td>\n",
       "      <td>1</td>\n",
       "      <td>...</td>\n",
       "      <td>0</td>\n",
       "      <td>0</td>\n",
       "      <td>0</td>\n",
       "      <td>0</td>\n",
       "      <td>0</td>\n",
       "      <td>0</td>\n",
       "      <td>0</td>\n",
       "      <td>0</td>\n",
       "      <td>0</td>\n",
       "      <td>0</td>\n",
       "    </tr>\n",
       "  </tbody>\n",
       "</table>\n",
       "<p>10 rows × 2492 columns</p>\n",
       "</div>"
      ],
      "text/plain": [
       "                                         tconst  \\\n",
       "title                                             \n",
       "John Wick Parabellum                  tt6146586   \n",
       "A Scanner Darkly                      tt0405296   \n",
       "The Whole Truth                       tt3503406   \n",
       "Matrix Reloaded                       tt0234215   \n",
       "John Wick 2                           tt4425200   \n",
       "John Wick: Chapitre 4                tt10366206   \n",
       "Matrix Revolutions                    tt0242653   \n",
       "John Wick                             tt2911666   \n",
       "L'Excellente Aventure de Bill & Ted   tt0096928   \n",
       "47 Ronin                              tt1335975   \n",
       "\n",
       "                                                          primaryTitle  \\\n",
       "title                                                                    \n",
       "John Wick Parabellum                 John Wick: Chapter 3 - Parabellum   \n",
       "A Scanner Darkly                                      A Scanner Darkly   \n",
       "The Whole Truth                                        The Whole Truth   \n",
       "Matrix Reloaded                                    The Matrix Reloaded   \n",
       "John Wick 2                                       John Wick: Chapter 2   \n",
       "John Wick: Chapitre 4                             John Wick: Chapter 4   \n",
       "Matrix Revolutions                              The Matrix Revolutions   \n",
       "John Wick                                                    John Wick   \n",
       "L'Excellente Aventure de Bill & Ted   Bill & Ted's Excellent Adventure   \n",
       "47 Ronin                                                      47 Ronin   \n",
       "\n",
       "                                                         originalTitle  \\\n",
       "title                                                                    \n",
       "John Wick Parabellum                 John Wick: Chapter 3 - Parabellum   \n",
       "A Scanner Darkly                                      A Scanner Darkly   \n",
       "The Whole Truth                                        The Whole Truth   \n",
       "Matrix Reloaded                                    The Matrix Reloaded   \n",
       "John Wick 2                                       John Wick: Chapter 2   \n",
       "John Wick: Chapitre 4                             John Wick: Chapter 4   \n",
       "Matrix Revolutions                              The Matrix Revolutions   \n",
       "John Wick                                                    John Wick   \n",
       "L'Excellente Aventure de Bill & Ted   Bill & Ted's Excellent Adventure   \n",
       "47 Ronin                                                      47 Ronin   \n",
       "\n",
       "                                     startYear  runtimeMinutes  \\\n",
       "title                                                            \n",
       "John Wick Parabellum                      2019           130.0   \n",
       "A Scanner Darkly                          2006           100.0   \n",
       "The Whole Truth                           2016            93.0   \n",
       "Matrix Reloaded                           2003           138.0   \n",
       "John Wick 2                               2017           122.0   \n",
       "John Wick: Chapitre 4                     2023           169.0   \n",
       "Matrix Revolutions                        2003           129.0   \n",
       "John Wick                                 2014           101.0   \n",
       "L'Excellente Aventure de Bill & Ted       1989            90.0   \n",
       "47 Ronin                                  2013           128.0   \n",
       "\n",
       "                                                     genres  averageRating  \\\n",
       "title                                                                        \n",
       "John Wick Parabellum                  Action,Crime,Thriller            7.4   \n",
       "A Scanner Darkly                     Animation,Comedy,Crime            7.0   \n",
       "The Whole Truth                         Crime,Drama,Mystery            6.2   \n",
       "Matrix Reloaded                               Action,Sci-Fi            7.2   \n",
       "John Wick 2                           Action,Crime,Thriller            7.4   \n",
       "John Wick: Chapitre 4                 Action,Crime,Thriller            8.2   \n",
       "Matrix Revolutions                            Action,Sci-Fi            6.7   \n",
       "John Wick                             Action,Crime,Thriller            7.4   \n",
       "L'Excellente Aventure de Bill & Ted  Adventure,Comedy,Music            6.9   \n",
       "47 Ronin                               Action,Drama,Fantasy            6.2   \n",
       "\n",
       "                                     numVotes  \\\n",
       "title                                           \n",
       "John Wick Parabellum                   386746   \n",
       "A Scanner Darkly                       114310   \n",
       "The Whole Truth                         30807   \n",
       "Matrix Reloaded                        607653   \n",
       "John Wick 2                            473590   \n",
       "John Wick: Chapitre 4                  146278   \n",
       "Matrix Revolutions                     524748   \n",
       "John Wick                              689444   \n",
       "L'Excellente Aventure de Bill & Ted    135600   \n",
       "47 Ronin                               164873   \n",
       "\n",
       "                                                                   title  \\\n",
       "title                                                                      \n",
       "John Wick Parabellum                                John Wick Parabellum   \n",
       "A Scanner Darkly                                        A Scanner Darkly   \n",
       "The Whole Truth                                          The Whole Truth   \n",
       "Matrix Reloaded                                          Matrix Reloaded   \n",
       "John Wick 2                                                  John Wick 2   \n",
       "John Wick: Chapitre 4                              John Wick: Chapitre 4   \n",
       "Matrix Revolutions                                    Matrix Revolutions   \n",
       "John Wick                                                      John Wick   \n",
       "L'Excellente Aventure de Bill & Ted  L'Excellente Aventure de Bill & Ted   \n",
       "47 Ronin                                                        47 Ronin   \n",
       "\n",
       "                                     ordering  ... Horror Music Musical  \\\n",
       "title                                          ...                        \n",
       "John Wick Parabellum                        1  ...      0     0       0   \n",
       "A Scanner Darkly                            1  ...      0     0       0   \n",
       "The Whole Truth                             1  ...      0     0       0   \n",
       "Matrix Reloaded                             1  ...      0     0       0   \n",
       "John Wick 2                                 1  ...      0     0       0   \n",
       "John Wick: Chapitre 4                       1  ...      0     0       0   \n",
       "Matrix Revolutions                          1  ...      0     0       0   \n",
       "John Wick                                   1  ...      0     0       0   \n",
       "L'Excellente Aventure de Bill & Ted         1  ...      0     1       0   \n",
       "47 Ronin                                    1  ...      0     0       0   \n",
       "\n",
       "                                    Mystery Romance Sci-Fi Sport Thriller  \\\n",
       "title                                                                       \n",
       "John Wick Parabellum                      0       0      0     0        1   \n",
       "A Scanner Darkly                          0       0      0     0        0   \n",
       "The Whole Truth                           1       0      0     0        0   \n",
       "Matrix Reloaded                           0       0      1     0        0   \n",
       "John Wick 2                               0       0      0     0        1   \n",
       "John Wick: Chapitre 4                     0       0      0     0        1   \n",
       "Matrix Revolutions                        0       0      1     0        0   \n",
       "John Wick                                 0       0      0     0        1   \n",
       "L'Excellente Aventure de Bill & Ted       0       0      0     0        0   \n",
       "47 Ronin                                  0       0      0     0        0   \n",
       "\n",
       "                                     War  Western  \n",
       "title                                              \n",
       "John Wick Parabellum                   0        0  \n",
       "A Scanner Darkly                       0        0  \n",
       "The Whole Truth                        0        0  \n",
       "Matrix Reloaded                        0        0  \n",
       "John Wick 2                            0        0  \n",
       "John Wick: Chapitre 4                  0        0  \n",
       "Matrix Revolutions                     0        0  \n",
       "John Wick                              0        0  \n",
       "L'Excellente Aventure de Bill & Ted    0        0  \n",
       "47 Ronin                               0        0  \n",
       "\n",
       "[10 rows x 2492 columns]"
      ]
     },
     "execution_count": 369,
     "metadata": {},
     "output_type": "execute_result"
    }
   ],
   "source": [
    "neigh_index2 = neigh_index[0][1:]\n",
    "voisins = pd.DataFrame(algotest3.iloc[neigh_index2])\n",
    "voisins\n"
   ]
  }
 ],
 "metadata": {
  "kernelspec": {
   "display_name": "base",
   "language": "python",
   "name": "python3"
  },
  "language_info": {
   "codemirror_mode": {
    "name": "ipython",
    "version": 3
   },
   "file_extension": ".py",
   "mimetype": "text/x-python",
   "name": "python",
   "nbconvert_exporter": "python",
   "pygments_lexer": "ipython3",
   "version": "3.10.9"
  },
  "orig_nbformat": 4
 },
 "nbformat": 4,
 "nbformat_minor": 2
}
